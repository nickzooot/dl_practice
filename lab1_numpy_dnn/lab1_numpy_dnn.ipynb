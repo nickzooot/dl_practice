{
 "cells": [
  {
   "cell_type": "markdown",
   "metadata": {},
   "source": [
    "# `Практикум по программированию на языке Python`\n",
    "\n",
    "## `Задание 01. Полносвязная нейронная сеть на numpy`.\n",
    "\n",
    "#### Фамилия, имя: \n",
    "\n",
    "Дата выдачи: <span style=\"color:red\">__28 февраля 17:00__</span>.\n",
    "\n",
    "Мягкий дедлайн: <span style=\"color:red\">__14 марта 23:59__</span>.\n",
    "\n",
    "Стоимость: __10 баллов__ (основная часть заданий) + __3 балла__ (дополнительные задания).\n",
    "\n",
    "<span style=\"color:red\">__В ноутбуке все клетки должны выполняться без ошибок при последовательном их выполнении.__</span>\n",
    "\n",
    "#### `Москва, 2023`"
   ]
  },
  {
   "cell_type": "code",
   "execution_count": 1,
   "metadata": {
    "ExecuteTime": {
     "end_time": "2021-03-03T14:44:48.909044Z",
     "start_time": "2021-03-03T14:44:48.683650Z"
    }
   },
   "outputs": [],
   "source": [
    "import numpy as np\n"
   ]
  },
  {
   "cell_type": "markdown",
   "metadata": {
    "heading_collapsed": true
   },
   "source": [
    "## `Теоретическая часть (3 балла)`"
   ]
  },
  {
   "cell_type": "markdown",
   "metadata": {
    "hidden": true
   },
   "source": [
    "В этом блоке вам нужно решить 3 задания."
   ]
  },
  {
   "cell_type": "markdown",
   "metadata": {
    "heading_collapsed": true,
    "hidden": true
   },
   "source": [
    "### `Задание 1. Градиенты для слоя Batch normalization (1.5 балла)`"
   ]
  },
  {
   "cell_type": "markdown",
   "metadata": {
    "hidden": true
   },
   "source": [
    "Рассмотрим слой Batch normalization. Пусть на вход этого слоя был подан батч из $n$ объектов, при этом у всех объектов по 1 признаку. Представим вход BN слоя в виде $X \\in \\mathbb{R}^{n \\times 1}$.\n",
    "\n",
    "Тогда в этом слое производятся следующие вычисления:\n",
    "\n",
    "$$ \\mu = \\frac1n \\sum_{i=1}^{n} X_i $$\n",
    "\n",
    "$$ \\sigma^2 = \\frac1n \\sum_{i=1}^{n} \\left( X_i - \\mu \\right) ^2 $$\n",
    "\n",
    "$$ \\tilde{y_i} = \\frac{X_i - \\mu}{\\sqrt{\\sigma^2 + \\varepsilon}} $$\n",
    "\n",
    "$$ y_i = \\gamma \\tilde{y_i} + \\delta $$\n",
    "\n",
    "Выходом BN слоя является $y_i$, а $\\gamma$ и $\\delta$ в нем — параметры, которые подбираются во время обучения вместе с другими параметрами нейронной сети (наряду, например, с весами линейного слоя).\n",
    "\n",
    "Рассмотрим нейронную сеть, в которой есть BN слой. Предположим, что вычисления в нейронной завершаются подсчетом функции потерь $\\mathcal{L}$. Пусть мы выполнили прямой проход по нейронной сети и сейчас делаем обратный проход с помощью метода обратного распространения ошибки. Пусть BN слою пришел градиент функции потерь по выходу BN слоя ($\\nabla_{y} \\mathcal{L}$).\n",
    "\n",
    "В этом задании вам нужно записать вычисление градиента функции потерь по параметрам слоя BN $\\gamma$ и $\\delta$ ($\\nabla_{\\gamma} \\mathcal{L}$, $\\nabla_{\\delta} \\mathcal{L}$) через $\\nabla_{y} \\mathcal{L}$, а также вам нужно записать вычисление градиента функции потерь по входу слоя BN $X$ ($\\nabla_{X} \\mathcal{L}$) через $\\nabla_{y} \\mathcal{L}$.\n",
    "\n",
    "Хочу заметить, в данном задании мы рассматриваем объекты всего с 1 признаком, чтобы упростить выкладки."
   ]
  },
  {
   "cell_type": "markdown",
   "metadata": {
    "hidden": true
   },
   "source": [
    "__Ваше решение:__\n",
    "\n",
    " Пусть $y = \\left(y_1,y_2,\\ldots,y_n\\right)^T, \\tilde{y} = \\left(\\tilde{y_1},\\tilde{y_2},\\ldots,\\tilde{y_n}\\right)^T, I = \\left(1,1,\\ldots,1\\right)^T   \\in \\mathbb{R}^{n \\times 1}$, $E$ - единичная матрица  $\\in \\mathbb{R}^{n \\times n}$\n",
    "\n",
    "Тогда\n",
    "$$ \\mu = \\frac{1}{n}X^TI $$ \n",
    "\n",
    "$$\\sigma^2 = \\frac{1}{n}\\left(X - I\\mu)^T(X-I\\mu\\right) $$\n",
    "\n",
    "$$\\tilde{y} = \\frac{X -  I\\mu}{\\sqrt{\\sigma^2 + \\varepsilon}} $$\n",
    "\n",
    "$$y = \\gamma\\tilde{y} + \\delta I $$\n",
    "\n",
    "Продифференцируем $d\\mathcal{L}$, $d\\mathcal{L} = \\nabla_y \\mathcal{L}^T dy = \\nabla_y \\mathcal{L}^T \\left(\\tilde{y}d\\gamma + \\gamma d\\tilde{y} + Id\\delta\\right)$\n",
    "\n",
    "Продифференцируем $d\\mathcal{L}$ по $\\tilde{y}, \\gamma, \\delta$. Тогда $ d\\mathcal{L} = \\frac{\\partial\\mathcal{L}}{\\partial{\\gamma}}d\\gamma + \\frac{\\partial\\mathcal{L}}{\\partial{\\delta}} d\\delta + \\nabla_X \\mathcal{L}^T dX $ , получаем\n",
    "\n",
    "$$ \\frac{\\partial\\mathcal{L}}{\\partial{\\gamma}} = \\tilde{y}^T \\nabla_y \\mathcal{L} $$\n",
    "\n",
    "$$ \\frac{\\partial\\mathcal{L}}{\\partial{\\delta}} = I^T \\nabla_y \\mathcal{L}$$\n",
    "\n",
    "\n",
    "Для того, чтобы найти $\\nabla_X \\mathcal{L}$ нужно найти $d\\tilde{y}$.\n",
    "Предварительно посчитаем $d\\mu$ и $d\\sigma^2$.\n",
    "\n",
    "$ d\\mu = \\frac{1}{n}d\\left(X^TI\\right) = \\frac{1}{n}d\\left(I^TX\\right)= \\frac{1}{n}I^T dX $\n",
    "\n",
    "$ d\\sigma^2 = \\frac{1}{n}\\left(d\\left(X-I\\mu\\right)^Td\\left(X-I\\mu\\right)\\right) = \\frac{2}{n}\\left(X-I\\mu\\right)^Td\\left(X-I\\mu\\right) = \\frac{2}{n}\\left(X-I\\mu\\right)^T\\left(dX - Id\\mu\\right)= \\frac{2}{n}\\left(X-I\\mu\\right)^T\\left(dX-\\frac{1}{n}II^TdX\\right) = \\frac{2}{n}\\left(X-I\\mu\\right)^T\\left(E-\\frac{1}{n}II^T\\right)dX $\n",
    "\n",
    "Теперь найдём $d\\tilde{y}$:\n",
    "\n",
    "$$ d\\tilde{y} = \\frac{d\\left(X-I\\mu\\right)\\sqrt{\\sigma^2 + \\varepsilon} - \\left(X-I\\mu\\right)d\\sqrt{\\sigma^2+\\varepsilon}}{\\sigma^2 + \\varepsilon} = \\\\ = \\frac{\\left(dX-Id\\mu\\right)\\sqrt{\\sigma^2 + \\varepsilon} - \\left(X-I\\mu\\right)\\frac{1}{2\\sqrt{\\sigma^2 + \\varepsilon}}d\\left(\\sigma^2 + \\varepsilon\\right)}{\\sigma^2 + \\varepsilon} = \\\\ = \\frac{\\left[\\left(E-\\frac{1}{n}II^T\\right)\\sqrt{\\sigma^2 + \\varepsilon} - \\frac{2}{n}\\frac{1}{2\\sqrt{\\sigma^2 + \\varepsilon}}\\left(X-I\\mu\\right)\\left(X-I\\mu\\right)^T\\left(E-\\frac{1}{n}II^T\\right)\\right]dX}{\\sigma^2 + \\varepsilon} = \\\\ = \\frac{\\left[\\left(\\sigma^2 + \\varepsilon\\right)E - \\frac{1}{n}\\left(X-I\\mu\\right)\\left(X-I\\mu\\right)^T\\right]\\left(E-\\frac{1}{n}II^T\\right)}{\\left(\\sigma^2 + \\varepsilon\\right)^{3/2}}dX $$\n",
    "\n",
    "\n",
    "Получаем, что\n",
    "\n",
    "$$\n",
    " \\nabla_X \\mathcal{L} = \\frac{\\left[\\left(\\sigma^2 + \\varepsilon\\right)E - \\frac{1}{n}\\left(X-I\\mu\\right)\\left(X-I\\mu\\right)^T\\right]\\left(E-\\frac{1}{n}II^T\\right)}{\\left(\\sigma^2 + \\varepsilon\\right)^{3/2}}\n",
    "$$"
   ]
  },
  {
   "cell_type": "markdown",
   "metadata": {
    "heading_collapsed": true,
    "hidden": true
   },
   "source": [
    "### `Задание 2. Вывод инициализации весов линейного слоя при использовании ReLU в качестве функции активации (1 балл)`"
   ]
  },
  {
   "cell_type": "markdown",
   "metadata": {
    "hidden": true
   },
   "source": [
    "Рассмотрим полносвязную нейронную сеть с функцией активации $g(y)$. Пусть сеть состоит из $L$ слоев и размер входа слоя $l$ равен $n_l\\ \\ (l = \\overline{1, L})$.\n",
    "\n",
    "Обозначим за $x^l \\in \\mathbb{R}^{n_{l}}$ вход слоя $l$, за $y^l \\in \\mathbb{R}^{n_{l+1}}$ — выход слоя $l$, за $W^l \\in \\mathbb{R}^{n_{l+1} \\times n_{l}}$ — веса слоя $l$, за $b^l \\in \\mathbb{R}^{n_{l+1}}$ — вектор сдвига слоя $l$.\n",
    "\n",
    "Тогда\n",
    "$$y^l = W^l x^l + b^l,$$\n",
    "$$x^{l+1} = g(y^l).$$\n",
    "\n",
    "На паре вы выводили хорошую инициализацию для линейного слоя в случае, когда в качестве функции активации $g(y)$ в нейронной сети используется гиперболический тангенс $g(y) = \\tanh(y)$. Сейчас вам нужно сделать подобный вывод для случая, когда в сети в качестве функций активации используется $g(y) = ReLU(y) = \\max(0, y)$.\n",
    "\n",
    "Сделаем следующие предположения насчет того, как распределены веса $W^l$, вектор сдвига $b^l$, входной вектор $x^l$, выходной вектор $y^l$ линейного слоя и градиенты функции потерь $\\frac{\\partial L}{\\partial y^{l}}$ $(l = \\overline{1, L}$):\n",
    "\n",
    "1. Все компоненты в $W^l$ распределены одинаково и независимо друг от друга;\n",
    "2. Все компоненты в $y^l$ распределены одинаково и независимо друг от друга;\n",
    "3. Все компоненты в $x^l$ распределены одинаково и независимо друг от друга;\n",
    "4. Все компоненты в $\\frac{\\partial L}{\\partial y^{l}}$ распределены одинаково и независимо друг от друга;\n",
    "5. Все компоненты в $W^l$ и все компоненты в $x^l$ независимы друг от друга;\n",
    "6. Все компоненты в $W^l$ имеют четную плотность распределения (то есть симметричную относительно нуля: $p_{W^l}(-x) = p_{W^l}(x)$);\n",
    "7. Все компоненты в $W^l$ имеют конечное матожидание;\n",
    "8. Вектор $b^l$ инициализирован нулями.\n",
    "\n",
    "\n",
    "Подсказки:\n",
    "1. Из пунктов 6 и 7 следует, что все компоненты в $W^l$ имеют нулевое среднее ($\\mathbb{E} W^l_{ij} = 0\\ \\ \\forall i = \\overline{1, n_{l+1}}, j = \\overline{1, n_{l}}$) (докажите);\n",
    "2. Из пунктов 6 и 7 следует, что все компоненты в $y^l$ имеют нулевое среднее и четную плотность распределения (докажите)."
   ]
  },
  {
   "cell_type": "markdown",
   "metadata": {
    "hidden": true
   },
   "source": [
    "__Ваше решение:__\n",
    "\n",
    "   1. Докажем, что все компоненты в $W^l$ имеют нулевое среднее.\n",
    "\n",
    "   $\\mathbb{E} W^l_{ij} = \\int_{-\\infty}^{+\\infty} p_{W^l}(x)dx = \\int_{-\\infty}^{0} p_{W^l}(x)xdx + \\int_{0}^{+\\infty} p_{W^l}(x)xdx= \\{6\\} = \\int_{-\\infty}^{0} p_{W^l}(-x)xdx + \\int_{0}^{+\\infty} p_{W^l}(x)xdx = \\{y = -x\\} = -\\int_{0}^{+\\infty} p_{W^l}(x)xdx + \\int_{0}^{+\\infty} p_{W^l}(x)xdx = 0$\n",
    "\n",
    "   2. Докажем, что все компоненты в $y^l$ имеют нулевое среднее.\n",
    "\n",
    "   $\\mathbb{E} y_i^l = \\{ так\\ как\\ b^l= 0\\ \\forall l \\}= \\mathbb{E} \\sum_{j=1}^{n_l}W_{ij}^l x_j^l= \\left \\{  5\\right \\} =\\sum_{j=1}^{n_l}\\underbrace{\\mathbb{E}W_{ij}^l}_{0} \\mathbb{E}x_j^l=0 \\quad \\forall i = \\overline{1, n_{l+1}}$\n",
    "\n",
    "   3. Все компоненты в $y^l$ имеют четную плотность распределения.\n",
    "\n",
    "   $y_i^l = \\sum_{k = 1}^{n_l}W_{ik}^lx_k^l$\n",
    "\n",
    "   $p_{W_{ik}^lx_k^l}(z) = \\int_{-\\infty}^{+\\infty} p_{x_k^l}(x)p_{W_{ik}^l}(\\frac{z}{x})\\frac{1}{|x|}dx= \\int_{-\\infty}^{+\\infty} p_{x_k^l}(x)p_{W_{ik}^l}(-\\frac{z}{x})\\frac{1}{|x|}dx = p_{W_{ik}^lx_k^l}(-z)$, то есть четная функция.  Плотность суммы независимых случайных величин получается в результате последовательного применения сверток. Так как свертка четных функций - четная функция, то $p_{y_i^l}(z) = p_{y_i^l}(-z)$\n",
    "\n",
    "   4. На прямом проходе мы хотим добиться того, чтобы матожидание и дисперсия активаций оставались неизменными от слоя к слою. Тем самым мы гарантируем что активации не будут \"взрываться\" или \"испаряться\" к последним слоям сети\n",
    "\n",
    "   $\\mathbb{D}y^l = \\mathbb{D}y_i^l = \\sum_{k=1}^{n_l}\\mathbb{D}(W_{ik}^l x_k^l)=\\{так\\ как\\ W_{ik}^l x_k^l\\ независимы\\}= \\sum_{k=1}^{n_l}\\left(\\underbrace{\\mathbb{D}W_{ik}^l\\mathbb{D}x_k^l + \\mathbb{D}W_{ik}^l(\\mathbb{E}x_k^l )^2}_{\\mathbb{D}x_k^l{{\\mathbb{E}x_k^l}^2}} + \\mathbb{D}x_k^l\\underbrace{(\\mathbb{E}W_{ik}^l)^2}_{0} - \\underbrace{(\\mathbb{E}W_{ik}^l)^2}_{0}(\\mathbb{E}x_k^l )^2 \\right) = n_l\\mathbb{D}{{W_{ik}^l\\mathbb{E}{(x_k^l)}^2}}$\n",
    "\n",
    "   $$\\mathbb{E} \\left(x_k^l\\right)^2 = \\mathbb{E} \\left(g^2\\left(y_k^{l-1}\\right)\\right)^2 = \\int_{-\\infty}^{+\\infty} g^2\\left(t\\right)p_{y_k^{l-1}}\\left(t\\right)dt = \\int_{0}^{+\\infty} t^2p_{y_k^{l-1}}\\left(t\\right)dt + \\int_{-\\infty}^{0} 0\\cdot p_{y_k^{l-1}}\\left(t\\right)dt = \\int_{0}^{+\\infty} t^2p_{y_k^{l-1}}\\left(t\\right)dt = \\\\ = \\left\\{p_{y_k^{l-1}}\\left(t\\right) = p_{y_k^{l-1}}\\left(-t\\right) \\right\\}  =\\int_{0}^{+\\infty} t^2p_{y_k^{l-1}}\\left(-t\\right)dt = \\left\\{t = -u \\right\\} =\\int_{-\\infty}^{0} u^2p_{y_k^{l-1}}\\left(u\\right)du $$\n",
    "\n",
    "   Тогда $$2\\mathbb{E} \\left(g^2\\left(y_k^{l-1}\\right)\\right)^2 = \\int_{-\\infty}^{+\\infty} t^2p_{y_k^{l-1}}\\left(t\\right)dt = \\mathbb{E} \\left(y_k^{l-1}\\right)^2 = \\mathbb{E} \\left(y_k^{l-1} \\right)^2 - \\left(\\underbrace{\\mathbb{E} y_k^{l-1}}_{0}\\right)^2 = \\mathbb{D}y_k^{l-1}$$\n",
    "\n",
    "   Подставляя в первое уравнение, получаем:\n",
    "\n",
    "   $\\mathbb{D}y^l = \\frac{n_l}{2}\\mathbb{D}y_k^{l-1}\\mathbb{D}W_{ik}^l= \\frac{n_l}{2}\\mathbb{D}y^{l-1}\\mathbb{D}W^l$ \n",
    "\n",
    "   Хотим: $$\\mathbb{D}y^{l} = \\mathbb{D}y^{l-1} \\Leftrightarrow \\mathbb{D} W^l = \\frac{2}{n_l} $$\n",
    "\n",
    "   5. На обратном проходе мы хотим добиться того, чтобы матожидание и дисперсия градиентов оставались неизменными от слоя к слою. Тем самым мы гарантируем что градиенты не будут \"взрываться\" или \"испаряться\" к первым слоям сети.\n",
    "\n",
    "   $Пусть\\ \\delta_i^l = \\frac{\\partial \\mathcal{L}}{\\partial{y_i^l}} =\n",
    "   \\sum_{k=1}^{n_{l+2}} \\delta_k^{l+1} W_{ik}^{l+1} g^{\\prime}(y_i^l)=\n",
    "   \\left[y_i^l>0\\right]\\sum_{k=1}^{n_{l+2}} \\delta_k^{l+1} W_{ik}^{l+1} $\n",
    "   \n",
    "   Тогда\n",
    "   $$ \\mathbb{E}\\delta^l = \\mathbb{E}\\delta_i^l = \\mathbb{E}\\left[y_i^l>0\\right]\\sum_{k=1}^{n_{l+2}} \\mathbb{E}\\delta_k^{l+1} \\underbrace{\\mathbb{E}W_{ik}^{l+1}}_{0} = 0 $$\n",
    "\n",
    "   Теперь найдем дисперсию:\n",
    "   $$\\mathbb{D}\\delta^l = \\mathbb{D}\\delta_i^l = \\mathbb{D}\\left(\\left[y_i^l>0\\right]\\sum_{k=1}^{n_{l+2}} \\delta_k^{l+1} W_{ik}^{l+1}\\right) = \\mathbb{D}[y_i^l > 0]\n",
    "   \\mathbb{D}\\left(\\sum_{k=1}^{n_{l+2}} \\delta_k^{l+1} W_{ik}^{l+1}\\right) + \\mathbb{D}[y_i^l > 0](\\mathbb{E}\\left(\\sum_{k=1}^{n_{l+2}} \\delta_k^{l+1} W_{ik}^{l+1}\\right))^2 + \\mathbb{D}\\left(\\sum_{k=1}^{n_{l+2}} \\delta_k^{l+1} W_{ik}^{l+1}\\right){(\\mathbb{E}[y_i^l > 0])}^2 -\\ (\\mathbb{E}[y_i^l > 0])^2(\\mathbb{E}\\left(\\sum_{k=1}^{n_{l+2}} \\delta_k^{l+1} W_{ik}^{l+1}\\right))^2 =\n",
    "   $$ \n",
    "   $$= \\mathbb{D}[y_i^l > 0]\\sum_{k=1}^{n_{l+2}}\\underbrace{\\mathbb{D}\\left(\\delta_k^{l+1} W_{ik}^{l+1}\\right)}_{\\mathbb{D}\\delta_k^{l+1} \\mathbb{D}W_{ik}^{l+1}} + \\mathbb{D}[y_i^l > 0](\\sum_{k=1}^{n_{l+2}}\\underbrace{\\mathbb{E}\\delta_k^{l+1} \\mathbb{E}W_{ik}^{l+1}}_{0})^2 + \\sum_{k=1}^{n_{l+2}} \\underbrace{\\mathbb{D}\\left(\\delta_k^{l+1} W_{ik}^{l+1}\\right)}_{\\mathbb{D}\\delta_k^{l+1} \\mathbb{D}W_{ik}^{l+1}}(\\mathbb{E}[y_i^l > 0])^2 - \\sum_{k=1}^{n_{l+2}} (\\underbrace{\\mathbb{E}\\delta_k^{l+1} \\mathbb{E}W_{ik}^{l+1}}_{0})^2(\\mathbb{E}[y_i^l > 0])^2 = $$\n",
    "   $$= n_{l+2}\\mathbb{D}\\delta_k^{l+1} \\mathbb{D}W_{ik}^{l+1}\\mathbb{E}[y_i^l > 0]^2 = n_{l+2}\\mathbb{D}\\delta^{l+1} \\mathbb{D}W^{l+1}\\mathbb{E}[y_i^l > 0]^2$$\n",
    "\n",
    "   Сделаем вспомогательные вычисления:\n",
    "   $$\\mathbb{E}[y_i^l > 0]^2 = \\int_{-\\infty}^{+\\infty}[x>0]^2p_{y_i}^l(x)dx = \\int_{0}^{+\\infty}p_{y_i}^l(x)dx = \\int_{0}^{+\\infty}p_{y_i}^l(-x)dx = \\{t = -x\\} = \\int_{-\\infty}^{0}p_{y_i}^l(t)dt\n",
    "\\Rightarrow $$\n",
    "\n",
    "$$2\\mathbb{E}[y_i^l > 0]^2 = \\int_{-\\infty}^{+\\infty}p_{y_i}^l(x)dx = 1$$  \n",
    "\n",
    "Отсюда и из предыдущего тожества следует, что\n",
    "\n",
    "$$\\mathbb{D}\\delta^l = \\frac{n_{l+2}}{2}\\mathbb{D}\\delta^{l+1} \\mathbb{D}W^{l+1}$$\n",
    "\n",
    "Хотим:\n",
    "$$\\mathbb{D}\\delta^l  = \\mathbb{D}\\delta^{l-1} \\Leftrightarrow \\mathbb{D} W^l = \\frac{2}{n_{l+1}} $$\n",
    "\n",
    "Чтобы дисперсии активаций и градиентов сохранялись необходимо потребовать, чтобы $n_{l+1} = n_l$. На практике берут среднегармоническое полученных оценок.\n"
   ]
  },
  {
   "cell_type": "markdown",
   "metadata": {
    "heading_collapsed": true,
    "hidden": true
   },
   "source": [
    "### `Задание 3. Почему функция активации` $ReLU(y) = \\max(0, y)$ `предпочтительней сигмоиды` $\\sigma(y) = \\frac{1}{1 + \\exp(-y)}$ `в нейронных сетях? (0.5 балла)`"
   ]
  },
  {
   "cell_type": "markdown",
   "metadata": {
    "hidden": true
   },
   "source": [
    "Дайте развернутый ответ на вопрос \"Почему функция активации $ReLU(y) = \\max(0, y)$ предпочтительней сигмоиды $\\sigma(y) = \\frac{1}{1 + \\exp(-y)}$ в нейронных сетях?\""
   ]
  },
  {
   "cell_type": "markdown",
   "metadata": {
    "hidden": true
   },
   "source": [
    "__Ваш ответ:__\n",
    "\n",
    "1) ReLU вычислительно более простая функция чем sigm(у нее надо считать экспоненты, а это затратно по времени), поэтому для глубоких сетей ReLU быстрее обучается  \n",
    "2) Проблема с \"насыщенными\" нейронами связана с тем, что если производная функции активации близка к нулю, то обучение будет ооооочень медленным(потому что значения весов будут ооооочень мало изменяться), а значит, если у нас ограничения на количество эпох(например), то сходимость будет очень плохая следовательно сеть будет плохо обучена. Для сетей с сигмоидой есть такая проблема, так как у сигмоиды маленький диапазон, для которого производная сигмоиды не близка к нулю, поэтому ReLU лучше( так как диапозон больше ненулевой производной), но еще лучше leaky ReLU.\n"
   ]
  },
  {
   "cell_type": "markdown",
   "metadata": {
    "hidden": true
   },
   "source": [
    "---"
   ]
  },
  {
   "cell_type": "markdown",
   "metadata": {
    "heading_collapsed": true
   },
   "source": [
    "## `Практическая часть (7 баллов)`"
   ]
  },
  {
   "cell_type": "markdown",
   "metadata": {
    "heading_collapsed": true,
    "hidden": true
   },
   "source": [
    "### `Реализация нейронной сети (3 балла)`"
   ]
  },
  {
   "cell_type": "markdown",
   "metadata": {
    "hidden": true
   },
   "source": [
    "В этом задании вы обучите полносвязную нейронную сеть распознавать рукописные цифры (а что же еще, если не их :), [почти] самостоятельно реализовав все составляющие алгоритма обучения и предсказания.\n",
    "\n",
    "Для начала нам понадобится реализовать прямой и обратный проход через слои. Наши слои будут соответствовать следующему интерфейсу (на примере \"тождественного\" слоя):"
   ]
  },
  {
   "cell_type": "code",
   "execution_count": 600,
   "metadata": {
    "ExecuteTime": {
     "end_time": "2021-03-03T14:44:48.924967Z",
     "start_time": "2021-03-03T14:44:48.912996Z"
    },
    "hidden": true
   },
   "outputs": [],
   "source": [
    "class IdentityLayer:\n",
    "    \"\"\"\n",
    "    A building block. Each layer is capable of performing two things:\n",
    "\n",
    "    - Process input to get output:           \n",
    "    output = layer.forward(input)\n",
    "\n",
    "    - Propagate gradients through itself:    \n",
    "    grad_input = layer.backward(input, grad_output)\n",
    "\n",
    "    Some layers also have learnable parameters.\n",
    "\n",
    "    Modified code from cs.hse DL course *\n",
    "    \"\"\"\n",
    "    def __init__(self):\n",
    "        \"\"\"\n",
    "        Here you can initialize layer parameters (if any) \n",
    "        and auxiliary stuff. You should enumerate all parameters\n",
    "        in self.params\n",
    "        \"\"\"\n",
    "        # An identity layer does nothing\n",
    "        self.params = []\n",
    "        self.eval = False\n",
    "        pass\n",
    "\n",
    "    def forward(self, input):\n",
    "        \"\"\"\n",
    "        Takes input data of shape [batch, input_units], \n",
    "        returns output data [batch, output_units]\n",
    "        \"\"\"\n",
    "        # An identity layer just returns whatever it gets as input.\n",
    "        self.input = input\n",
    "        return input\n",
    "\n",
    "    def backward(self, grad_output): \n",
    "        \"\"\"\n",
    "        Performs a backpropagation step through the layer, \n",
    "        with respect to the given input.\n",
    "\n",
    "        To compute loss gradients w.r.t input, \n",
    "        you need to apply chain rule (backprop):\n",
    "\n",
    "        d `loss` / d `input` = (d `loss` / d `layer`) * (d `layer` / d `input`)\n",
    "\n",
    "        Luckily, you already receive d `loss` / d `layer` in argument, \n",
    "        so you only need to multiply it by d `layer` / d `input`.\n",
    "\n",
    "        NB: Sometimes d `layer` / d `input` can be a 3D or even 4D tensor.\n",
    "        So it's better to write down the `loss` differential and extract\n",
    "        d `layer` / d `input` from it so that only 2D tensors were present.\n",
    "\n",
    "        The method returns:\n",
    "        * gradient w.r.t input (will be passed to \n",
    "          previous layer's backward method)\n",
    "        * flattened gradient w.r.t. parameters (with .ravel() \n",
    "          applied to each gradient). \n",
    "          If there are no params, return []\n",
    "        \"\"\"\n",
    "        # The gradient of an identity layer is precisely grad_output\n",
    "        input_dim = self.input.shape[1]\n",
    "\n",
    "        d_layer_d_input = np.eye(input_dim)\n",
    "\n",
    "        return np.dot(grad_output, d_layer_d_input), [] # chain rule"
   ]
  },
  {
   "cell_type": "markdown",
   "metadata": {
    "heading_collapsed": true,
    "hidden": true
   },
   "source": [
    "#### `Слой нелинейности ReLU`"
   ]
  },
  {
   "cell_type": "markdown",
   "metadata": {
    "hidden": true
   },
   "source": [
    "Для начала реализуем слой нелинейности $ReLU(y) = \\max(0, y)$. Параметров у слоя нет. Метод `forward` должен вернуть результат поэлементного применения $ReLU$ к входному массиву, метод `backward` — градиент функции потерь по входу слоя. В нуле будем считать производную равной 0. Обратите внимание, что при обратном проходе могут понадобиться величины, посчитанные во время прямого прохода, поэтому их стоит сохранить как атрибут класса."
   ]
  },
  {
   "cell_type": "code",
   "execution_count": 601,
   "metadata": {
    "ExecuteTime": {
     "end_time": "2021-03-03T14:44:48.939926Z",
     "start_time": "2021-03-03T14:44:48.928957Z"
    },
    "hidden": true
   },
   "outputs": [],
   "source": [
    "class ReLU:\n",
    "    \"\"\"\n",
    "    Modified code from cs.hse DL course *\n",
    "    \"\"\"\n",
    "    def __init__(self):\n",
    "        \"\"\"ReLU layer simply applies elementwise rectified linear unit to all inputs\"\"\"\n",
    "        self.params = [] # ReLU has no parameters\n",
    "        self.eval = False\n",
    "\n",
    "    def forward(self, input):\n",
    "        \"\"\"Apply elementwise ReLU to [batch, num_units] matrix\"\"\"\n",
    "        ### your code here\n",
    "        self.output = np.maximum(input, 0)\n",
    "        return self.output\n",
    "        \n",
    "    def backward(self, grad_output):\n",
    "        \"\"\"Compute gradient of loss w.r.t. ReLU input\n",
    "        grad_output shape: [batch, num_units]\n",
    "        output 1 shape: [batch, num_units]\n",
    "        output 2: []\n",
    "        \"\"\"\n",
    "        ### your code here\n",
    "        grad_x = self.output > 0 \n",
    "        return grad_x * grad_output, []\n",
    "    \n",
    "    def __repr__(self):\n",
    "        return 'Relu()'"
   ]
  },
  {
   "cell_type": "markdown",
   "metadata": {
    "heading_collapsed": true,
    "hidden": true
   },
   "source": [
    "#### `Полносвязный слой`"
   ]
  },
  {
   "cell_type": "markdown",
   "metadata": {
    "hidden": true
   },
   "source": [
    "Далее реализуем полносвязный слой без нелинейности. У слоя два параметра: матрица весов и вектор сдвига.\n",
    "\n",
    "Обратите внимание на второй аргумент: в нем надо возвращать градиент по всем параметрам в одномерном виде. Для этого надо сначала применить `.ravel()` ко всем градиентам, а затем воспользоваться `np.r_`:"
   ]
  },
  {
   "cell_type": "code",
   "execution_count": 602,
   "metadata": {
    "ExecuteTime": {
     "end_time": "2021-03-03T14:44:48.971838Z",
     "start_time": "2021-03-03T14:44:48.943913Z"
    },
    "hidden": true
   },
   "outputs": [
    {
     "data": {
      "text/plain": [
       "array([ 4, 10, 18])"
      ]
     },
     "execution_count": 602,
     "metadata": {},
     "output_type": "execute_result"
    }
   ],
   "source": [
    "# example\n",
    "b = np.eye(3).ravel()\n",
    "a = np.r_[b, np.arange(4)]\n",
    "a[0] = 2\n",
    "b\n",
    "a = np.array([1, 2, 3])\n",
    "b = np.array([4, 5, 6])\n",
    "a[:None] * b[None:]"
   ]
  },
  {
   "cell_type": "code",
   "execution_count": 603,
   "metadata": {
    "ExecuteTime": {
     "end_time": "2021-03-03T14:44:48.987794Z",
     "start_time": "2021-03-03T14:44:48.975827Z"
    },
    "hidden": true
   },
   "outputs": [],
   "source": [
    "class Dense:\n",
    "    \"\"\"\n",
    "    Modified code from cs.hse DL course *\n",
    "    \"\"\"\n",
    "    def __init__(self, input_units, output_units):\n",
    "        \"\"\"\n",
    "        A dense layer is a layer which performs a learned affine transformation:\n",
    "        f(x) = x W + b\n",
    "        \"\"\"\n",
    "        # initialize weights with small random numbers from normal distribution\n",
    "        self.weights = np.random.randn(input_units, output_units) * 0.01\n",
    "        self.biases = np.zeros(output_units)\n",
    "        self.params = [self.weights, self.biases]\n",
    "        self.eval = False\n",
    "\n",
    "    def forward(self,input):\n",
    "        \"\"\"\n",
    "        Perform an affine transformation:\n",
    "        f(x) = x W + b\n",
    "        \n",
    "        input shape: [batch, input_units]\n",
    "        output shape: [batch, output units]\n",
    "        \"\"\"\n",
    "        self.output = np.dot(input, self.weights) + self.biases\n",
    "        self.input = input\n",
    "        return self.output\n",
    "\n",
    "    def backward(self, grad_output):\n",
    "        \"\"\"\n",
    "        compute gradients\n",
    "        grad_output shape: [batch, output_units]\n",
    "        output shapes: [batch, input_units], [num_params]\n",
    "        \n",
    "        hint: use function np.r_\n",
    "        np.r_[np.arange(3), np.arange(3)] = [0, 1, 2, 0, 1, 2]\n",
    "        \"\"\"\n",
    "        grad_b = np.sum(grad_output, axis=0)\n",
    "        grad_w = np.dot(self.input.T, grad_output)\n",
    "        grad_x = np.dot(grad_output, self.weights.T)\n",
    "        return grad_x, np.r_[np.ravel(grad_w), grad_b]\n",
    "    \n",
    "    def __repr__(self):\n",
    "        return f'Dense({self.weights.shape[0]}, {self.weights.shape[1]})'"
   ]
  },
  {
   "cell_type": "markdown",
   "metadata": {
    "heading_collapsed": true,
    "hidden": true
   },
   "source": [
    "#### `Проверка градиента`"
   ]
  },
  {
   "cell_type": "markdown",
   "metadata": {
    "hidden": true
   },
   "source": [
    "Проверим правильность реализации с помощью функции численной проверки градиента. Функция `eval_numerical_gradient` принимает на вход callable объект `f` (функцию от одного аргумента-матрицы) и аргумент `x` и вычисляет приближенный градиент функции `f` в точке `x`."
   ]
  },
  {
   "cell_type": "code",
   "execution_count": 262,
   "metadata": {
    "ExecuteTime": {
     "end_time": "2021-03-03T14:44:49.003751Z",
     "start_time": "2021-03-03T14:44:48.990787Z"
    },
    "hidden": true
   },
   "outputs": [],
   "source": [
    "def eval_numerical_gradient(f, x, verbose=False, h=0.00001):\n",
    "    \"\"\"\n",
    "    Evaluates gradient df/dx via finite differences:\n",
    "    df/dx ~ (f(x+h) - f(x-h)) / 2h\n",
    "    Adopted from https://github.com/ddtm/dl-course/\n",
    "    \"\"\"\n",
    "    fx = f(x) # evaluate function value at original point\n",
    "    grad = np.zeros_like(x)\n",
    "    # iterate over all indexes in x\n",
    "    it = np.nditer(x, flags=['multi_index'], op_flags=['readwrite'])\n",
    "    while not it.finished:\n",
    "\n",
    "        # evaluate function at x+h\n",
    "        ix = it.multi_index\n",
    "        oldval = x[ix]\n",
    "        x[ix] = oldval + h # increment by h\n",
    "        fxph = f(x) # evalute f(x + h)\n",
    "        x[ix] = oldval - h\n",
    "        fxmh = f(x) # evaluate f(x - h)\n",
    "        x[ix] = oldval # restore\n",
    "\n",
    "        # compute the partial derivative with centered formula\n",
    "        grad[ix] = (fxph - fxmh) / (2 * h) # the slope\n",
    "        if verbose:\n",
    "            print (ix, grad[ix])\n",
    "        it.iternext() # step to next dimension\n",
    "\n",
    "    return grad"
   ]
  },
  {
   "cell_type": "markdown",
   "metadata": {
    "hidden": true
   },
   "source": [
    "Вычислите аналитический и численный градиенты по входу слоя ReLU от функции\n",
    "$$ f(y) = \\sum_i y_i, \\quad y = ReLU(x) $$\n",
    "\n",
    "Выпишите аналитический градиент в этой ячейке:\n",
    "$$f(y) = I^Tdy$$\n",
    "\n",
    "$$dy = dReLU(x) = diag([x_1 > 0],\\ldots ,[x_n > 0])dx$$\n",
    "\n",
    "$$f(y) = \\nabla_xfdx = I^Tdiag([x_1 > 0],\\ldots ,[x_n > 0])dx$$\n",
    "\n",
    "$$\\nabla_xf = ([x_1 > 0],\\ldots ,[x_n > 0])$$"
   ]
  },
  {
   "cell_type": "markdown",
   "metadata": {
    "hidden": true
   },
   "source": [
    "Следующая ячейка после заполнения должна не выдавать ошибку :)"
   ]
  },
  {
   "cell_type": "code",
   "execution_count": 263,
   "metadata": {
    "ExecuteTime": {
     "end_time": "2021-03-03T14:44:49.034673Z",
     "start_time": "2021-03-03T14:44:49.006744Z"
    },
    "hidden": true
   },
   "outputs": [],
   "source": [
    "relu = ReLU()\n",
    "points = np.linspace(-1, 1, 10*12).reshape([10, 12])\n",
    "\n",
    "### your code here\n",
    "relu.forward(points)\n",
    "grad_output = np.ones((10, 12))\n",
    "grads = relu.backward(grad_output)[0]\n",
    "f = lambda x: relu.forward(x).sum()\n",
    "numeric_grads = eval_numerical_gradient(f, points, verbose=False, h=0.00001)\n",
    "\n",
    "assert np.allclose(grads, numeric_grads, rtol=1e-3, atol=0)"
   ]
  },
  {
   "cell_type": "markdown",
   "metadata": {
    "hidden": true
   },
   "source": [
    "Вычислите аналитический и численный градиенты по входу полносвязного слоя от функции\n",
    "$$ f(y) = \\sum_i y_i, \\quad y = W x + b $$\n",
    "\n",
    "Выпишите аналитический градиент в этой ячейке (советуем выписать градиент через дифференциал функции $f$):\n",
    "\n",
    "$$df(y) = dI^Ty = I^Tdy = I^TWdx$$\n",
    "\n",
    "$$df(y) = \\nabla_{x}f^Tdx$$\n",
    "\n",
    "$$\\nabla_{x}f = W^TI$$"
   ]
  },
  {
   "cell_type": "markdown",
   "metadata": {
    "hidden": true
   },
   "source": [
    "Следующая ячейка после заполнения должна не выдавать ошибку :)"
   ]
  },
  {
   "cell_type": "code",
   "execution_count": 264,
   "metadata": {
    "ExecuteTime": {
     "end_time": "2021-03-03T14:44:49.066624Z",
     "start_time": "2021-03-03T14:44:49.041651Z"
    },
    "hidden": true
   },
   "outputs": [],
   "source": [
    "linear = Dense(12, 32)\n",
    "points = np.linspace(-1, 1, 10*12).reshape([10, 12])\n",
    "\n",
    "### your code here\n",
    "linear.forward(points)\n",
    "grad_output = np.ones((10, 32))\n",
    "grads = linear.backward(grad_output)[0]\n",
    "f = lambda x: linear.forward(x).sum()\n",
    "numeric_grads = eval_numerical_gradient(f, points)\n",
    "\n",
    "assert np.allclose(grads, numeric_grads, rtol=1e-3, atol=0)"
   ]
  },
  {
   "cell_type": "markdown",
   "metadata": {
    "heading_collapsed": true,
    "hidden": true
   },
   "source": [
    "#### `Реализация softmax-слоя и функции потерь`"
   ]
  },
  {
   "cell_type": "markdown",
   "metadata": {
    "hidden": true
   },
   "source": [
    "Для решения задачи многоклассовой классификации обычно используют $softmax$ в качестве нелинейности на последнем слое, чтобы получить вероятности классов для каждого объекта:\n",
    "$$\\hat y = softmax(x)  = \\left \\{\\frac {\\exp(x^i)}{\\sum_{j=1}^K \\exp(x^j)} \\right \\}_{i=1}^K, \\quad K - \\text{число классов.}$$\n",
    "\n",
    "Здесь за $x^i$ мы обозначаем $i$-ый признак объекта $x$.\n",
    "\n",
    "В качестве функции потерь выберем отрицательный логарифм правдоподобия (по английски: negative log likelihood или NLL)\n",
    "$$L(y, \\hat y) = -\\sum_{i=1}^K y^i \\log \\hat y^i,$$\n",
    "где $y^i = 1$, если объект принадлежит $i$-му классу, и $y^i = 0$ иначе.\n",
    "\n",
    "NLL совпадает с выражением для [кросс-энтропии](https://ru.wikipedia.org/wiki/Перекрёстная_энтропия) (в качестве первого распределения берем вырожденное распределение $y$, в качестве второго — предсказанное распределение $\\hat y$). Очевидно, что эту функцию потерь также можно переписать через индексацию, если через $y$ обозначить класс данного объекта:\n",
    "$$L(y, \\hat y) = - \\log \\hat y_{y}$$\n",
    "\n",
    "В таком виде ее удобно реализовывать."
   ]
  },
  {
   "cell_type": "markdown",
   "metadata": {
    "ExecuteTime": {
     "end_time": "2021-03-03T13:13:02.970075Z",
     "start_time": "2021-03-03T13:13:02.961134Z"
    },
    "hidden": true
   },
   "source": [
    "Для обучения нейронной сети будем оптимизировать эту функцию потерь по параметрам нейронной сети:\n",
    "\n",
    "$$ \\frac1N \\sum_{i=1}^N L(y_i, \\hat y_i) = \\frac1N \\sum_{i=1}^N L(y_i, \\text{NN}(x_i)) \\rightarrow \\min_{w}\\,,$$\n",
    "где за $x_i$ и $y_i$ мы обозначили признаки и таргет $i$-ого объекта обучающей выборки, за $\\text{NN}$ мы обозначили нейронную сеть, которая по признакам объекта $x_i$ выдает распределение вероятностей $\\hat y_i$, за $w$ мы обозначили все веса нейронной сети, а $N$ — это число объектов в обучающей выборке."
   ]
  },
  {
   "cell_type": "markdown",
   "metadata": {
    "hidden": true
   },
   "source": [
    "Реализуйте слой `LogSoftmax` (у этого слоя нет параметров). Метод `forward` должен вычислять логарифм от $softmax$, а метод `backward` — пропускать градиенты. В общем случае в промежуточных вычислениях `backward` получится трехмерный тензор, однако для нашей конкретной функции потерь все вычисления можно реализовать в матричном виде.  Поэтому мы будем предполагать, что аргумент `grad_output` — это матрица, у которой в каждой строке только одно ненулевое значение (не обязательно единица)."
   ]
  },
  {
   "cell_type": "code",
   "execution_count": 265,
   "metadata": {
    "ExecuteTime": {
     "end_time": "2021-03-03T14:44:49.272035Z",
     "start_time": "2021-03-03T14:44:49.070612Z"
    },
    "hidden": true
   },
   "outputs": [],
   "source": [
    "from scipy.special import logsumexp\n",
    "# use this function instead of np.log(np.sum(np.exp(...))) because it is more stable"
   ]
  },
  {
   "cell_type": "code",
   "execution_count": 266,
   "metadata": {},
   "outputs": [
    {
     "data": {
      "text/plain": [
       "array([1, 5, 9])"
      ]
     },
     "execution_count": 266,
     "metadata": {},
     "output_type": "execute_result"
    }
   ],
   "source": [
    "a = np.array([[1,2,3], [4, 5, 6], [7, 8, 9]])\n",
    "j = [0, 1 ,2]\n",
    "i= [0, 1 ,2]\n",
    "a[i, j]"
   ]
  },
  {
   "cell_type": "code",
   "execution_count": 604,
   "metadata": {
    "ExecuteTime": {
     "end_time": "2021-03-03T14:44:49.288035Z",
     "start_time": "2021-03-03T14:44:49.275031Z"
    },
    "hidden": true
   },
   "outputs": [],
   "source": [
    "class LogSoftmax:\n",
    "    def __init__(self):\n",
    "        self.params = []\n",
    "        self.eval = False\n",
    "\n",
    "    def forward(self, input):\n",
    "        \"\"\"\n",
    "        Applies softmax to each row and then applies component-wise log\n",
    "        Input shape: [batch, num_units]\n",
    "        Output shape: [batch, num_units]\n",
    "        \"\"\"\n",
    "        self.output = input - logsumexp(input, axis=1, keepdims=True)\n",
    "        return self.output\n",
    "        \n",
    "    def backward(self, grad_output):\n",
    "        \"\"\"\n",
    "        Propagates gradients.\n",
    "        Assumes that each row of grad_output contains only 1 \n",
    "        non-zero element\n",
    "        Input shape: [batch, num_units]\n",
    "        Output shape: [batch, num_units]\n",
    "        Do not forget to return [] as second value (grad w.r.t. params)\n",
    "        \"\"\"\n",
    "        grad_x = (grad_output - np.sum(grad_output, axis=1, keepdims=True) *\n",
    "                np.exp(self.output))\n",
    "        return grad_x, []\n",
    "        \n",
    "    def __repr__(self):\n",
    "        return 'LogSoftmax()'"
   ]
  },
  {
   "cell_type": "markdown",
   "metadata": {
    "hidden": true
   },
   "source": [
    "Реализуйте функцию потерь и градиенты функции потерь. Во время вычисления NLL усредняйте (а не суммируйте) значения функции потерь по батчу. Обычно так делают для того, чтобы при двух запусках обучения нейронной сети с разными размерами батча получаемые значения функции потерь у этих сетей были сравнимы."
   ]
  },
  {
   "cell_type": "code",
   "execution_count": 268,
   "metadata": {
    "ExecuteTime": {
     "end_time": "2021-03-03T14:44:49.302990Z",
     "start_time": "2021-03-03T14:44:49.290985Z"
    },
    "hidden": true
   },
   "outputs": [],
   "source": [
    "def NLL(activations, target):\n",
    "    \"\"\"\n",
    "    Returns negative log-likelihood of target under model represented by\n",
    "    activations (log probabilities of classes, it's just output of LogSoftmax layer).\n",
    "    `activations` has shape [batch, num_classes], `target` has shape [batch]\n",
    "    Output shape: 1 (scalar).\n",
    "    \"\"\"\n",
    "    cols = list(range(activations.shape[0]))\n",
    "    return -np.mean(activations[cols, target])\n",
    "\n",
    "\n",
    "\n",
    "def grad_NLL(activations, target):\n",
    "    \"\"\"\n",
    "    Returns gradient of negative log-likelihood w.r.t. activations.\n",
    "    each arg has shape [batch, num_classes]\n",
    "    output shape: [batch, num-classes]\n",
    "    \"\"\"\n",
    "    ### your code here\n",
    "    grad_a = np.zeros(activations.shape)\n",
    "    cols = list(range(activations.shape[0]))\n",
    "    grad_a[cols, target] = - 1 / (activations.shape[0])\n",
    "    return grad_a"
   ]
  },
  {
   "cell_type": "markdown",
   "metadata": {
    "hidden": true
   },
   "source": [
    "Наконец, выполните проверку `LogSoftmax`-слоя, используя функцию потерь и ее градиент:"
   ]
  },
  {
   "cell_type": "code",
   "execution_count": 269,
   "metadata": {
    "ExecuteTime": {
     "end_time": "2021-03-03T14:44:49.350863Z",
     "start_time": "2021-03-03T14:44:49.305945Z"
    },
    "hidden": true
   },
   "outputs": [],
   "source": [
    "lsm = LogSoftmax()\n",
    "target = np.arange(10)\n",
    "points = np.linspace(-1, 1, 10 * 12).reshape([10, 12])\n",
    "\n",
    "grad_NLL_ = grad_NLL(lsm.forward(points), target)\n",
    "grads = lsm.backward(grad_NLL_)[0]\n",
    "f = lambda x: NLL(lsm.forward(x), target)\n",
    "numeric_grads = eval_numerical_gradient(f, points)\n",
    "\n",
    "assert np.allclose(grads, numeric_grads, rtol=1e-3, atol=0)"
   ]
  },
  {
   "cell_type": "markdown",
   "metadata": {
    "heading_collapsed": true,
    "hidden": true
   },
   "source": [
    "### `Загрузка данных`"
   ]
  },
  {
   "cell_type": "markdown",
   "metadata": {
    "hidden": true
   },
   "source": [
    "Мы реализаовали все архитектурные составляющие нашей нейронной сети. Осталось загрузить данные и обучить модель. Мы будем работать с датасетом `digits`, каждый объект в котором — это 8x8 изображение рукописной цифры."
   ]
  },
  {
   "cell_type": "code",
   "execution_count": 270,
   "metadata": {
    "ExecuteTime": {
     "end_time": "2021-03-03T14:44:49.872521Z",
     "start_time": "2021-03-03T14:44:49.354818Z"
    },
    "hidden": true
   },
   "outputs": [],
   "source": [
    "import matplotlib.pyplot as plt\n",
    "%matplotlib inline"
   ]
  },
  {
   "cell_type": "code",
   "execution_count": 271,
   "metadata": {
    "ExecuteTime": {
     "end_time": "2021-03-03T14:44:51.700670Z",
     "start_time": "2021-03-03T14:44:49.876510Z"
    },
    "hidden": true
   },
   "outputs": [],
   "source": [
    "from sklearn.datasets import load_digits"
   ]
  },
  {
   "cell_type": "code",
   "execution_count": 272,
   "metadata": {
    "ExecuteTime": {
     "end_time": "2021-03-03T14:44:51.873771Z",
     "start_time": "2021-03-03T14:44:51.703667Z"
    },
    "hidden": true
   },
   "outputs": [],
   "source": [
    "X, y = load_digits(return_X_y=True)"
   ]
  },
  {
   "cell_type": "code",
   "execution_count": 273,
   "metadata": {
    "ExecuteTime": {
     "end_time": "2021-03-03T14:44:51.889252Z",
     "start_time": "2021-03-03T14:44:51.877326Z"
    },
    "hidden": true
   },
   "outputs": [
    {
     "data": {
      "text/plain": [
       "((1797, 64), (1797,))"
      ]
     },
     "execution_count": 273,
     "metadata": {},
     "output_type": "execute_result"
    }
   ],
   "source": [
    "X.shape, y.shape"
   ]
  },
  {
   "cell_type": "markdown",
   "metadata": {
    "hidden": true
   },
   "source": [
    "Разделим данные на обучение и контроль:"
   ]
  },
  {
   "cell_type": "code",
   "execution_count": 274,
   "metadata": {
    "ExecuteTime": {
     "end_time": "2021-03-03T14:44:51.952606Z",
     "start_time": "2021-03-03T14:44:51.892280Z"
    },
    "hidden": true
   },
   "outputs": [],
   "source": [
    "from sklearn.model_selection import train_test_split"
   ]
  },
  {
   "cell_type": "code",
   "execution_count": 275,
   "metadata": {
    "ExecuteTime": {
     "end_time": "2021-03-03T14:44:51.968609Z",
     "start_time": "2021-03-03T14:44:51.955642Z"
    },
    "hidden": true
   },
   "outputs": [],
   "source": [
    "X_train, X_test, y_train, y_test = train_test_split(X, y, random_state=0)"
   ]
  },
  {
   "cell_type": "code",
   "execution_count": 276,
   "metadata": {
    "ExecuteTime": {
     "end_time": "2021-03-03T14:44:52.000485Z",
     "start_time": "2021-03-03T14:44:51.971599Z"
    },
    "hidden": true
   },
   "outputs": [
    {
     "data": {
      "text/plain": [
       "((1347, 64), (450, 64))"
      ]
     },
     "execution_count": 276,
     "metadata": {},
     "output_type": "execute_result"
    }
   ],
   "source": [
    "X_train.shape, X_test.shape"
   ]
  },
  {
   "cell_type": "markdown",
   "metadata": {
    "heading_collapsed": true,
    "hidden": true
   },
   "source": [
    "### `Сборка и обучение нейронной сети (1 балл)`"
   ]
  },
  {
   "cell_type": "markdown",
   "metadata": {
    "hidden": true
   },
   "source": [
    "В нашей реализации мы представляем нейронную сеть в виде списка ее слоев. Например, следующая функция конструирует нейронную сеть заданной ширины (то есть с заданным размером скрытых слоев) и глубины (то есть с заданным количеством слоев) с заданным размером входа и выхода, а также с заданной функцией активации между линейными слоями."
   ]
  },
  {
   "cell_type": "code",
   "execution_count": 277,
   "metadata": {
    "ExecuteTime": {
     "end_time": "2021-03-03T14:44:52.016442Z",
     "start_time": "2021-03-03T14:44:52.003513Z"
    },
    "hidden": true
   },
   "outputs": [],
   "source": [
    "def make_network(input_size, hidden_layers_size, output_size, n_layers=3, activation_class=ReLU):\n",
    "    network = []\n",
    "\n",
    "    for layer_idx in range(n_layers):\n",
    "        # Compute sizes of current linear layer\n",
    "        layer_in = input_size if layer_idx == 0 else hidden_layers_size\n",
    "        layer_out = output_size if layer_idx == n_layers - 1 else hidden_layers_size\n",
    "        \n",
    "        # Add linear layer to the network\n",
    "        network.append(Dense(layer_in, layer_out))\n",
    "\n",
    "        # Add activation after each layer except the last one\n",
    "        if layer_idx != n_layers - 1:\n",
    "            network.append(activation_class())\n",
    "\n",
    "    # Add LogSoftmax layer to the network\n",
    "    network.append(LogSoftmax())\n",
    "\n",
    "    return network"
   ]
  },
  {
   "cell_type": "code",
   "execution_count": 278,
   "metadata": {
    "ExecuteTime": {
     "end_time": "2021-03-03T14:44:52.048395Z",
     "start_time": "2021-03-03T14:44:52.020431Z"
    },
    "hidden": true
   },
   "outputs": [
    {
     "data": {
      "text/plain": [
       "[Dense(64, 32), Relu(), Dense(32, 32), Relu(), Dense(32, 10), LogSoftmax()]"
      ]
     },
     "execution_count": 278,
     "metadata": {},
     "output_type": "execute_result"
    }
   ],
   "source": [
    "input_size = X_train.shape[1]\n",
    "hidden_layers_size = 32\n",
    "output_size = 10\n",
    "\n",
    "network = make_network(input_size, hidden_layers_size, output_size, 3, ReLU)\n",
    "network"
   ]
  },
  {
   "cell_type": "markdown",
   "metadata": {
    "hidden": true
   },
   "source": [
    "Реализуйте функцию, которая выполнет прямой проход по нейронной сети:"
   ]
  },
  {
   "cell_type": "code",
   "execution_count": 279,
   "metadata": {
    "ExecuteTime": {
     "end_time": "2021-03-03T14:44:52.063319Z",
     "start_time": "2021-03-03T14:44:52.051386Z"
    },
    "hidden": true
   },
   "outputs": [],
   "source": [
    "def forward(network, X):\n",
    "    \"\"\"\n",
    "    Perform forward pass through the network.\n",
    "    \n",
    "    network: list of layers\n",
    "    X: raw data\n",
    "    X shape: [batch, features_num]\n",
    "\n",
    "    output: \n",
    "    output shape: [batch, out_features_num]\n",
    "    \"\"\"\n",
    "    for layer in network:\n",
    "        X = layer.forward(X)\n",
    "    return X"
   ]
  },
  {
   "cell_type": "markdown",
   "metadata": {
    "hidden": true
   },
   "source": [
    "Для проверки, хорошо ли сеть обучилась, нам понадобится вычислять долю правильных ответов (accuracy) на данной выборке. Для этого реализуйте функцию, которая делает предсказания на каждом объекте (логично в качестве предсказания на очередном объекте выдавать тот класс, для которого предсказанный логарифм вероятности максимален):"
   ]
  },
  {
   "cell_type": "code",
   "execution_count": 280,
   "metadata": {
    "ExecuteTime": {
     "end_time": "2021-03-03T14:44:52.063319Z",
     "start_time": "2021-03-03T14:44:52.051386Z"
    },
    "hidden": true
   },
   "outputs": [],
   "source": [
    "def predict(network, X):\n",
    "    \"\"\"\n",
    "    Returns predictions for each object in X.\n",
    "    \n",
    "    network: list of layers\n",
    "    X: raw data\n",
    "    X shape: [batch, features_num]\n",
    "\n",
    "    output: array of classes, each from 0 to 9\n",
    "    output shape: [batch]\n",
    "    \"\"\"\n",
    "    pred = forward(network, X)\n",
    "    return np.argmax(pred, axis=1)"
   ]
  },
  {
   "cell_type": "markdown",
   "metadata": {
    "hidden": true
   },
   "source": [
    "Мы будем обучать параметры нейросети с помощью готовой функции оптимизации из модуля `scipy`:"
   ]
  },
  {
   "cell_type": "code",
   "execution_count": 281,
   "metadata": {
    "ExecuteTime": {
     "end_time": "2021-03-03T14:44:52.079311Z",
     "start_time": "2021-03-03T14:44:52.070308Z"
    },
    "hidden": true
   },
   "outputs": [],
   "source": [
    "from scipy.optimize import minimize"
   ]
  },
  {
   "cell_type": "code",
   "execution_count": 282,
   "metadata": {
    "ExecuteTime": {
     "end_time": "2021-03-03T14:44:52.111226Z",
     "start_time": "2021-03-03T14:44:52.085292Z"
    },
    "hidden": true,
    "scrolled": true
   },
   "outputs": [
    {
     "name": "stdout",
     "output_type": "stream",
     "text": [
      "Help on function minimize in module scipy.optimize._minimize:\n",
      "\n",
      "minimize(fun, x0, args=(), method=None, jac=None, hess=None, hessp=None, bounds=None, constraints=(), tol=None, callback=None, options=None)\n",
      "    Minimization of scalar function of one or more variables.\n",
      "    \n",
      "    Parameters\n",
      "    ----------\n",
      "    fun : callable\n",
      "        The objective function to be minimized.\n",
      "    \n",
      "            ``fun(x, *args) -> float``\n",
      "    \n",
      "        where ``x`` is an 1-D array with shape (n,) and ``args``\n",
      "        is a tuple of the fixed parameters needed to completely\n",
      "        specify the function.\n",
      "    x0 : ndarray, shape (n,)\n",
      "        Initial guess. Array of real elements of size (n,),\n",
      "        where 'n' is the number of independent variables.\n",
      "    args : tuple, optional\n",
      "        Extra arguments passed to the objective function and its\n",
      "        derivatives (`fun`, `jac` and `hess` functions).\n",
      "    method : str or callable, optional\n",
      "        Type of solver.  Should be one of\n",
      "    \n",
      "            - 'Nelder-Mead' :ref:`(see here) <optimize.minimize-neldermead>`\n",
      "            - 'Powell'      :ref:`(see here) <optimize.minimize-powell>`\n",
      "            - 'CG'          :ref:`(see here) <optimize.minimize-cg>`\n",
      "            - 'BFGS'        :ref:`(see here) <optimize.minimize-bfgs>`\n",
      "            - 'Newton-CG'   :ref:`(see here) <optimize.minimize-newtoncg>`\n",
      "            - 'L-BFGS-B'    :ref:`(see here) <optimize.minimize-lbfgsb>`\n",
      "            - 'TNC'         :ref:`(see here) <optimize.minimize-tnc>`\n",
      "            - 'COBYLA'      :ref:`(see here) <optimize.minimize-cobyla>`\n",
      "            - 'SLSQP'       :ref:`(see here) <optimize.minimize-slsqp>`\n",
      "            - 'trust-constr':ref:`(see here) <optimize.minimize-trustconstr>`\n",
      "            - 'dogleg'      :ref:`(see here) <optimize.minimize-dogleg>`\n",
      "            - 'trust-ncg'   :ref:`(see here) <optimize.minimize-trustncg>`\n",
      "            - 'trust-exact' :ref:`(see here) <optimize.minimize-trustexact>`\n",
      "            - 'trust-krylov' :ref:`(see here) <optimize.minimize-trustkrylov>`\n",
      "            - custom - a callable object (added in version 0.14.0),\n",
      "              see below for description.\n",
      "    \n",
      "        If not given, chosen to be one of ``BFGS``, ``L-BFGS-B``, ``SLSQP``,\n",
      "        depending if the problem has constraints or bounds.\n",
      "    jac : {callable,  '2-point', '3-point', 'cs', bool}, optional\n",
      "        Method for computing the gradient vector. Only for CG, BFGS,\n",
      "        Newton-CG, L-BFGS-B, TNC, SLSQP, dogleg, trust-ncg, trust-krylov,\n",
      "        trust-exact and trust-constr.\n",
      "        If it is a callable, it should be a function that returns the gradient\n",
      "        vector:\n",
      "    \n",
      "            ``jac(x, *args) -> array_like, shape (n,)``\n",
      "    \n",
      "        where ``x`` is an array with shape (n,) and ``args`` is a tuple with\n",
      "        the fixed parameters. If `jac` is a Boolean and is True, `fun` is\n",
      "        assumed to return a tuple ``(f, g)`` containing the objective\n",
      "        function and the gradient.\n",
      "        Methods 'Newton-CG', 'trust-ncg', 'dogleg', 'trust-exact', and\n",
      "        'trust-krylov' require that either a callable be supplied, or that\n",
      "        `fun` return the objective and gradient.\n",
      "        If None or False, the gradient will be estimated using 2-point finite\n",
      "        difference estimation with an absolute step size.\n",
      "        Alternatively, the keywords  {'2-point', '3-point', 'cs'} can be used\n",
      "        to select a finite difference scheme for numerical estimation of the\n",
      "        gradient with a relative step size. These finite difference schemes\n",
      "        obey any specified `bounds`.\n",
      "    hess : {callable, '2-point', '3-point', 'cs', HessianUpdateStrategy}, optional\n",
      "        Method for computing the Hessian matrix. Only for Newton-CG, dogleg,\n",
      "        trust-ncg, trust-krylov, trust-exact and trust-constr. If it is\n",
      "        callable, it should return the Hessian matrix:\n",
      "    \n",
      "            ``hess(x, *args) -> {LinearOperator, spmatrix, array}, (n, n)``\n",
      "    \n",
      "        where x is a (n,) ndarray and `args` is a tuple with the fixed\n",
      "        parameters. LinearOperator and sparse matrix returns are only allowed\n",
      "        for 'trust-constr' method. Alternatively, the keywords\n",
      "        {'2-point', '3-point', 'cs'} select a finite difference scheme\n",
      "        for numerical estimation. Or, objects implementing the\n",
      "        `HessianUpdateStrategy` interface can be used to approximate\n",
      "        the Hessian. Available quasi-Newton methods implementing\n",
      "        this interface are:\n",
      "    \n",
      "            - `BFGS`;\n",
      "            - `SR1`.\n",
      "    \n",
      "        Whenever the gradient is estimated via finite-differences,\n",
      "        the Hessian cannot be estimated with options\n",
      "        {'2-point', '3-point', 'cs'} and needs to be\n",
      "        estimated using one of the quasi-Newton strategies.\n",
      "        'trust-exact' cannot use a finite-difference scheme, and must be used\n",
      "        with a callable returning an (n, n) array.\n",
      "    hessp : callable, optional\n",
      "        Hessian of objective function times an arbitrary vector p. Only for\n",
      "        Newton-CG, trust-ncg, trust-krylov, trust-constr.\n",
      "        Only one of `hessp` or `hess` needs to be given.  If `hess` is\n",
      "        provided, then `hessp` will be ignored.  `hessp` must compute the\n",
      "        Hessian times an arbitrary vector:\n",
      "    \n",
      "            ``hessp(x, p, *args) ->  ndarray shape (n,)``\n",
      "    \n",
      "        where x is a (n,) ndarray, p is an arbitrary vector with\n",
      "        dimension (n,) and `args` is a tuple with the fixed\n",
      "        parameters.\n",
      "    bounds : sequence or `Bounds`, optional\n",
      "        Bounds on variables for Nelder-Mead, L-BFGS-B, TNC, SLSQP, Powell, and\n",
      "        trust-constr methods. There are two ways to specify the bounds:\n",
      "    \n",
      "            1. Instance of `Bounds` class.\n",
      "            2. Sequence of ``(min, max)`` pairs for each element in `x`. None\n",
      "               is used to specify no bound.\n",
      "    \n",
      "    constraints : {Constraint, dict} or List of {Constraint, dict}, optional\n",
      "        Constraints definition (only for COBYLA, SLSQP and trust-constr).\n",
      "    \n",
      "        Constraints for 'trust-constr' are defined as a single object or a\n",
      "        list of objects specifying constraints to the optimization problem.\n",
      "        Available constraints are:\n",
      "    \n",
      "            - `LinearConstraint`\n",
      "            - `NonlinearConstraint`\n",
      "    \n",
      "        Constraints for COBYLA, SLSQP are defined as a list of dictionaries.\n",
      "        Each dictionary with fields:\n",
      "    \n",
      "            type : str\n",
      "                Constraint type: 'eq' for equality, 'ineq' for inequality.\n",
      "            fun : callable\n",
      "                The function defining the constraint.\n",
      "            jac : callable, optional\n",
      "                The Jacobian of `fun` (only for SLSQP).\n",
      "            args : sequence, optional\n",
      "                Extra arguments to be passed to the function and Jacobian.\n",
      "    \n",
      "        Equality constraint means that the constraint function result is to\n",
      "        be zero whereas inequality means that it is to be non-negative.\n",
      "        Note that COBYLA only supports inequality constraints.\n",
      "    tol : float, optional\n",
      "        Tolerance for termination. When `tol` is specified, the selected\n",
      "        minimization algorithm sets some relevant solver-specific tolerance(s)\n",
      "        equal to `tol`. For detailed control, use solver-specific\n",
      "        options.\n",
      "    options : dict, optional\n",
      "        A dictionary of solver options. All methods accept the following\n",
      "        generic options:\n",
      "    \n",
      "            maxiter : int\n",
      "                Maximum number of iterations to perform. Depending on the\n",
      "                method each iteration may use several function evaluations.\n",
      "            disp : bool\n",
      "                Set to True to print convergence messages.\n",
      "    \n",
      "        For method-specific options, see :func:`show_options()`.\n",
      "    callback : callable, optional\n",
      "        Called after each iteration. For 'trust-constr' it is a callable with\n",
      "        the signature:\n",
      "    \n",
      "            ``callback(xk, OptimizeResult state) -> bool``\n",
      "    \n",
      "        where ``xk`` is the current parameter vector. and ``state``\n",
      "        is an `OptimizeResult` object, with the same fields\n",
      "        as the ones from the return. If callback returns True\n",
      "        the algorithm execution is terminated.\n",
      "        For all the other methods, the signature is:\n",
      "    \n",
      "            ``callback(xk)``\n",
      "    \n",
      "        where ``xk`` is the current parameter vector.\n",
      "    \n",
      "    Returns\n",
      "    -------\n",
      "    res : OptimizeResult\n",
      "        The optimization result represented as a ``OptimizeResult`` object.\n",
      "        Important attributes are: ``x`` the solution array, ``success`` a\n",
      "        Boolean flag indicating if the optimizer exited successfully and\n",
      "        ``message`` which describes the cause of the termination. See\n",
      "        `OptimizeResult` for a description of other attributes.\n",
      "    \n",
      "    See also\n",
      "    --------\n",
      "    minimize_scalar : Interface to minimization algorithms for scalar\n",
      "        univariate functions\n",
      "    show_options : Additional options accepted by the solvers\n",
      "    \n",
      "    Notes\n",
      "    -----\n",
      "    This section describes the available solvers that can be selected by the\n",
      "    'method' parameter. The default method is *BFGS*.\n",
      "    \n",
      "    **Unconstrained minimization**\n",
      "    \n",
      "    Method :ref:`CG <optimize.minimize-cg>` uses a nonlinear conjugate\n",
      "    gradient algorithm by Polak and Ribiere, a variant of the\n",
      "    Fletcher-Reeves method described in [5]_ pp.120-122. Only the\n",
      "    first derivatives are used.\n",
      "    \n",
      "    Method :ref:`BFGS <optimize.minimize-bfgs>` uses the quasi-Newton\n",
      "    method of Broyden, Fletcher, Goldfarb, and Shanno (BFGS) [5]_\n",
      "    pp. 136. It uses the first derivatives only. BFGS has proven good\n",
      "    performance even for non-smooth optimizations. This method also\n",
      "    returns an approximation of the Hessian inverse, stored as\n",
      "    `hess_inv` in the OptimizeResult object.\n",
      "    \n",
      "    Method :ref:`Newton-CG <optimize.minimize-newtoncg>` uses a\n",
      "    Newton-CG algorithm [5]_ pp. 168 (also known as the truncated\n",
      "    Newton method). It uses a CG method to the compute the search\n",
      "    direction. See also *TNC* method for a box-constrained\n",
      "    minimization with a similar algorithm. Suitable for large-scale\n",
      "    problems.\n",
      "    \n",
      "    Method :ref:`dogleg <optimize.minimize-dogleg>` uses the dog-leg\n",
      "    trust-region algorithm [5]_ for unconstrained minimization. This\n",
      "    algorithm requires the gradient and Hessian; furthermore the\n",
      "    Hessian is required to be positive definite.\n",
      "    \n",
      "    Method :ref:`trust-ncg <optimize.minimize-trustncg>` uses the\n",
      "    Newton conjugate gradient trust-region algorithm [5]_ for\n",
      "    unconstrained minimization. This algorithm requires the gradient\n",
      "    and either the Hessian or a function that computes the product of\n",
      "    the Hessian with a given vector. Suitable for large-scale problems.\n",
      "    \n",
      "    Method :ref:`trust-krylov <optimize.minimize-trustkrylov>` uses\n",
      "    the Newton GLTR trust-region algorithm [14]_, [15]_ for unconstrained\n",
      "    minimization. This algorithm requires the gradient\n",
      "    and either the Hessian or a function that computes the product of\n",
      "    the Hessian with a given vector. Suitable for large-scale problems.\n",
      "    On indefinite problems it requires usually less iterations than the\n",
      "    `trust-ncg` method and is recommended for medium and large-scale problems.\n",
      "    \n",
      "    Method :ref:`trust-exact <optimize.minimize-trustexact>`\n",
      "    is a trust-region method for unconstrained minimization in which\n",
      "    quadratic subproblems are solved almost exactly [13]_. This\n",
      "    algorithm requires the gradient and the Hessian (which is\n",
      "    *not* required to be positive definite). It is, in many\n",
      "    situations, the Newton method to converge in fewer iteraction\n",
      "    and the most recommended for small and medium-size problems.\n",
      "    \n",
      "    **Bound-Constrained minimization**\n",
      "    \n",
      "    Method :ref:`Nelder-Mead <optimize.minimize-neldermead>` uses the\n",
      "    Simplex algorithm [1]_, [2]_. This algorithm is robust in many\n",
      "    applications. However, if numerical computation of derivative can be\n",
      "    trusted, other algorithms using the first and/or second derivatives\n",
      "    information might be preferred for their better performance in\n",
      "    general.\n",
      "    \n",
      "    Method :ref:`L-BFGS-B <optimize.minimize-lbfgsb>` uses the L-BFGS-B\n",
      "    algorithm [6]_, [7]_ for bound constrained minimization.\n",
      "    \n",
      "    Method :ref:`Powell <optimize.minimize-powell>` is a modification\n",
      "    of Powell's method [3]_, [4]_ which is a conjugate direction\n",
      "    method. It performs sequential one-dimensional minimizations along\n",
      "    each vector of the directions set (`direc` field in `options` and\n",
      "    `info`), which is updated at each iteration of the main\n",
      "    minimization loop. The function need not be differentiable, and no\n",
      "    derivatives are taken. If bounds are not provided, then an\n",
      "    unbounded line search will be used. If bounds are provided and\n",
      "    the initial guess is within the bounds, then every function\n",
      "    evaluation throughout the minimization procedure will be within\n",
      "    the bounds. If bounds are provided, the initial guess is outside\n",
      "    the bounds, and `direc` is full rank (default has full rank), then\n",
      "    some function evaluations during the first iteration may be\n",
      "    outside the bounds, but every function evaluation after the first\n",
      "    iteration will be within the bounds. If `direc` is not full rank,\n",
      "    then some parameters may not be optimized and the solution is not\n",
      "    guaranteed to be within the bounds.\n",
      "    \n",
      "    Method :ref:`TNC <optimize.minimize-tnc>` uses a truncated Newton\n",
      "    algorithm [5]_, [8]_ to minimize a function with variables subject\n",
      "    to bounds. This algorithm uses gradient information; it is also\n",
      "    called Newton Conjugate-Gradient. It differs from the *Newton-CG*\n",
      "    method described above as it wraps a C implementation and allows\n",
      "    each variable to be given upper and lower bounds.\n",
      "    \n",
      "    **Constrained Minimization**\n",
      "    \n",
      "    Method :ref:`COBYLA <optimize.minimize-cobyla>` uses the\n",
      "    Constrained Optimization BY Linear Approximation (COBYLA) method\n",
      "    [9]_, [10]_, [11]_. The algorithm is based on linear\n",
      "    approximations to the objective function and each constraint. The\n",
      "    method wraps a FORTRAN implementation of the algorithm. The\n",
      "    constraints functions 'fun' may return either a single number\n",
      "    or an array or list of numbers.\n",
      "    \n",
      "    Method :ref:`SLSQP <optimize.minimize-slsqp>` uses Sequential\n",
      "    Least SQuares Programming to minimize a function of several\n",
      "    variables with any combination of bounds, equality and inequality\n",
      "    constraints. The method wraps the SLSQP Optimization subroutine\n",
      "    originally implemented by Dieter Kraft [12]_. Note that the\n",
      "    wrapper handles infinite values in bounds by converting them into\n",
      "    large floating values.\n",
      "    \n",
      "    Method :ref:`trust-constr <optimize.minimize-trustconstr>` is a\n",
      "    trust-region algorithm for constrained optimization. It swiches\n",
      "    between two implementations depending on the problem definition.\n",
      "    It is the most versatile constrained minimization algorithm\n",
      "    implemented in SciPy and the most appropriate for large-scale problems.\n",
      "    For equality constrained problems it is an implementation of Byrd-Omojokun\n",
      "    Trust-Region SQP method described in [17]_ and in [5]_, p. 549. When\n",
      "    inequality constraints  are imposed as well, it swiches to the trust-region\n",
      "    interior point  method described in [16]_. This interior point algorithm,\n",
      "    in turn, solves inequality constraints by introducing slack variables\n",
      "    and solving a sequence of equality-constrained barrier problems\n",
      "    for progressively smaller values of the barrier parameter.\n",
      "    The previously described equality constrained SQP method is\n",
      "    used to solve the subproblems with increasing levels of accuracy\n",
      "    as the iterate gets closer to a solution.\n",
      "    \n",
      "    **Finite-Difference Options**\n",
      "    \n",
      "    For Method :ref:`trust-constr <optimize.minimize-trustconstr>`\n",
      "    the gradient and the Hessian may be approximated using\n",
      "    three finite-difference schemes: {'2-point', '3-point', 'cs'}.\n",
      "    The scheme 'cs' is, potentially, the most accurate but it\n",
      "    requires the function to correctly handles complex inputs and to\n",
      "    be differentiable in the complex plane. The scheme '3-point' is more\n",
      "    accurate than '2-point' but requires twice as many operations.\n",
      "    \n",
      "    **Custom minimizers**\n",
      "    \n",
      "    It may be useful to pass a custom minimization method, for example\n",
      "    when using a frontend to this method such as `scipy.optimize.basinhopping`\n",
      "    or a different library.  You can simply pass a callable as the ``method``\n",
      "    parameter.\n",
      "    \n",
      "    The callable is called as ``method(fun, x0, args, **kwargs, **options)``\n",
      "    where ``kwargs`` corresponds to any other parameters passed to `minimize`\n",
      "    (such as `callback`, `hess`, etc.), except the `options` dict, which has\n",
      "    its contents also passed as `method` parameters pair by pair.  Also, if\n",
      "    `jac` has been passed as a bool type, `jac` and `fun` are mangled so that\n",
      "    `fun` returns just the function values and `jac` is converted to a function\n",
      "    returning the Jacobian.  The method shall return an `OptimizeResult`\n",
      "    object.\n",
      "    \n",
      "    The provided `method` callable must be able to accept (and possibly ignore)\n",
      "    arbitrary parameters; the set of parameters accepted by `minimize` may\n",
      "    expand in future versions and then these parameters will be passed to\n",
      "    the method.  You can find an example in the scipy.optimize tutorial.\n",
      "    \n",
      "    .. versionadded:: 0.11.0\n",
      "    \n",
      "    References\n",
      "    ----------\n",
      "    .. [1] Nelder, J A, and R Mead. 1965. A Simplex Method for Function\n",
      "        Minimization. The Computer Journal 7: 308-13.\n",
      "    .. [2] Wright M H. 1996. Direct search methods: Once scorned, now\n",
      "        respectable, in Numerical Analysis 1995: Proceedings of the 1995\n",
      "        Dundee Biennial Conference in Numerical Analysis (Eds. D F\n",
      "        Griffiths and G A Watson). Addison Wesley Longman, Harlow, UK.\n",
      "        191-208.\n",
      "    .. [3] Powell, M J D. 1964. An efficient method for finding the minimum of\n",
      "       a function of several variables without calculating derivatives. The\n",
      "       Computer Journal 7: 155-162.\n",
      "    .. [4] Press W, S A Teukolsky, W T Vetterling and B P Flannery.\n",
      "       Numerical Recipes (any edition), Cambridge University Press.\n",
      "    .. [5] Nocedal, J, and S J Wright. 2006. Numerical Optimization.\n",
      "       Springer New York.\n",
      "    .. [6] Byrd, R H and P Lu and J. Nocedal. 1995. A Limited Memory\n",
      "       Algorithm for Bound Constrained Optimization. SIAM Journal on\n",
      "       Scientific and Statistical Computing 16 (5): 1190-1208.\n",
      "    .. [7] Zhu, C and R H Byrd and J Nocedal. 1997. L-BFGS-B: Algorithm\n",
      "       778: L-BFGS-B, FORTRAN routines for large scale bound constrained\n",
      "       optimization. ACM Transactions on Mathematical Software 23 (4):\n",
      "       550-560.\n",
      "    .. [8] Nash, S G. Newton-Type Minimization Via the Lanczos Method.\n",
      "       1984. SIAM Journal of Numerical Analysis 21: 770-778.\n",
      "    .. [9] Powell, M J D. A direct search optimization method that models\n",
      "       the objective and constraint functions by linear interpolation.\n",
      "       1994. Advances in Optimization and Numerical Analysis, eds. S. Gomez\n",
      "       and J-P Hennart, Kluwer Academic (Dordrecht), 51-67.\n",
      "    .. [10] Powell M J D. Direct search algorithms for optimization\n",
      "       calculations. 1998. Acta Numerica 7: 287-336.\n",
      "    .. [11] Powell M J D. A view of algorithms for optimization without\n",
      "       derivatives. 2007.Cambridge University Technical Report DAMTP\n",
      "       2007/NA03\n",
      "    .. [12] Kraft, D. A software package for sequential quadratic\n",
      "       programming. 1988. Tech. Rep. DFVLR-FB 88-28, DLR German Aerospace\n",
      "       Center -- Institute for Flight Mechanics, Koln, Germany.\n",
      "    .. [13] Conn, A. R., Gould, N. I., and Toint, P. L.\n",
      "       Trust region methods. 2000. Siam. pp. 169-200.\n",
      "    .. [14] F. Lenders, C. Kirches, A. Potschka: \"trlib: A vector-free\n",
      "       implementation of the GLTR method for iterative solution of\n",
      "       the trust region problem\", :arxiv:`1611.04718`\n",
      "    .. [15] N. Gould, S. Lucidi, M. Roma, P. Toint: \"Solving the\n",
      "       Trust-Region Subproblem using the Lanczos Method\",\n",
      "       SIAM J. Optim., 9(2), 504--525, (1999).\n",
      "    .. [16] Byrd, Richard H., Mary E. Hribar, and Jorge Nocedal. 1999.\n",
      "        An interior point algorithm for large-scale nonlinear  programming.\n",
      "        SIAM Journal on Optimization 9.4: 877-900.\n",
      "    .. [17] Lalee, Marucha, Jorge Nocedal, and Todd Plantega. 1998. On the\n",
      "        implementation of an algorithm for large-scale equality constrained\n",
      "        optimization. SIAM Journal on Optimization 8.3: 682-706.\n",
      "    \n",
      "    Examples\n",
      "    --------\n",
      "    Let us consider the problem of minimizing the Rosenbrock function. This\n",
      "    function (and its respective derivatives) is implemented in `rosen`\n",
      "    (resp. `rosen_der`, `rosen_hess`) in the `scipy.optimize`.\n",
      "    \n",
      "    >>> from scipy.optimize import minimize, rosen, rosen_der\n",
      "    \n",
      "    A simple application of the *Nelder-Mead* method is:\n",
      "    \n",
      "    >>> x0 = [1.3, 0.7, 0.8, 1.9, 1.2]\n",
      "    >>> res = minimize(rosen, x0, method='Nelder-Mead', tol=1e-6)\n",
      "    >>> res.x\n",
      "    array([ 1.,  1.,  1.,  1.,  1.])\n",
      "    \n",
      "    Now using the *BFGS* algorithm, using the first derivative and a few\n",
      "    options:\n",
      "    \n",
      "    >>> res = minimize(rosen, x0, method='BFGS', jac=rosen_der,\n",
      "    ...                options={'gtol': 1e-6, 'disp': True})\n",
      "    Optimization terminated successfully.\n",
      "             Current function value: 0.000000\n",
      "             Iterations: 26\n",
      "             Function evaluations: 31\n",
      "             Gradient evaluations: 31\n",
      "    >>> res.x\n",
      "    array([ 1.,  1.,  1.,  1.,  1.])\n",
      "    >>> print(res.message)\n",
      "    Optimization terminated successfully.\n",
      "    >>> res.hess_inv\n",
      "    array([[ 0.00749589,  0.01255155,  0.02396251,  0.04750988,  0.09495377],  # may vary\n",
      "           [ 0.01255155,  0.02510441,  0.04794055,  0.09502834,  0.18996269],\n",
      "           [ 0.02396251,  0.04794055,  0.09631614,  0.19092151,  0.38165151],\n",
      "           [ 0.04750988,  0.09502834,  0.19092151,  0.38341252,  0.7664427 ],\n",
      "           [ 0.09495377,  0.18996269,  0.38165151,  0.7664427,   1.53713523]])\n",
      "    \n",
      "    \n",
      "    Next, consider a minimization problem with several constraints (namely\n",
      "    Example 16.4 from [5]_). The objective function is:\n",
      "    \n",
      "    >>> fun = lambda x: (x[0] - 1)**2 + (x[1] - 2.5)**2\n",
      "    \n",
      "    There are three constraints defined as:\n",
      "    \n",
      "    >>> cons = ({'type': 'ineq', 'fun': lambda x:  x[0] - 2 * x[1] + 2},\n",
      "    ...         {'type': 'ineq', 'fun': lambda x: -x[0] - 2 * x[1] + 6},\n",
      "    ...         {'type': 'ineq', 'fun': lambda x: -x[0] + 2 * x[1] + 2})\n",
      "    \n",
      "    And variables must be positive, hence the following bounds:\n",
      "    \n",
      "    >>> bnds = ((0, None), (0, None))\n",
      "    \n",
      "    The optimization problem is solved using the SLSQP method as:\n",
      "    \n",
      "    >>> res = minimize(fun, (2, 0), method='SLSQP', bounds=bnds,\n",
      "    ...                constraints=cons)\n",
      "    \n",
      "    It should converge to the theoretical solution (1.4 ,1.7).\n",
      "\n"
     ]
    }
   ],
   "source": [
    "help(minimize)"
   ]
  },
  {
   "cell_type": "markdown",
   "metadata": {
    "hidden": true
   },
   "source": [
    "Эта функция имеет стандартный интерфейс: нужно передать callable объект, который вычисляет значение и градиент целевой функции, а также точку старта оптимизации — начальное приближение (одномерный `numpy`-массив). Поэтому нам понадобятся функции для сбора и задания всех весов нашей нейросети (именно для них мы всегда записывали параметры слоя в список `layer.params`)"
   ]
  },
  {
   "cell_type": "code",
   "execution_count": 283,
   "metadata": {
    "ExecuteTime": {
     "end_time": "2021-03-03T14:44:52.127145Z",
     "start_time": "2021-03-03T14:44:52.114180Z"
    },
    "hidden": true
   },
   "outputs": [],
   "source": [
    "def get_weights(network):\n",
    "    weights = []\n",
    "    for layer in network:\n",
    "        for param in layer.params:\n",
    "            weights += param.ravel().tolist()\n",
    "    return np.array(weights)\n",
    "\n",
    "\n",
    "def set_weights(weights, network):\n",
    "    i = 0\n",
    "    for layer in network:\n",
    "        for param in layer.params:\n",
    "            l = param.size\n",
    "            param[:] = weights[i:i+l].reshape(param.shape)\n",
    "            i += l"
   ]
  },
  {
   "cell_type": "markdown",
   "metadata": {
    "hidden": true
   },
   "source": [
    "Вам нужно реализовать ту самую функцию, которую мы будем передавать в `minimize`. Эта функция должна брать на вход текущую точку (вектор всех параметров), а также список дополнительных параметров (мы будем передавать через них нашу сеть и обучающие данные) и возвращать значение критерия качества (NLL) и его градиент по параметрам модели."
   ]
  },
  {
   "cell_type": "code",
   "execution_count": 284,
   "metadata": {
    "ExecuteTime": {
     "end_time": "2021-03-03T14:44:52.143103Z",
     "start_time": "2021-03-03T14:44:52.131134Z"
    },
    "hidden": true
   },
   "outputs": [],
   "source": [
    "def compute_loss_grad(weights, args):\n",
    "    \"\"\"\n",
    "    takes current weights and computes cross-entropy and gradients\n",
    "    weights shape: [num_parameters]\n",
    "    output 1: loss (scalar)\n",
    "    output 2: gradint w.r.t. weights, shape: [num_parameters]\n",
    "    \n",
    "    hint: firstly perform forward pass through the whole network\n",
    "    then compute loss and its gradients\n",
    "    then perform backward pass, transmitting first baskward output\n",
    "    to the previos layer and saving second baskward output in a list\n",
    "    finally flatten all the gradients in this list\n",
    "    (in the order from the first to the last layer)\n",
    "    \n",
    "    Do not forget to set weights of the network!\n",
    "    \"\"\"\n",
    "    network, X, y = args\n",
    "    set_weights(weights, network)\n",
    "    pred = forward(network, X)\n",
    "    loss = NLL(pred, y)\n",
    "    grad_y = grad_NLL(pred, y)\n",
    "    grad_params = []\n",
    "    for layer in network[::-1]:\n",
    "        grad_y, grad_layer_params = layer.backward(grad_y)\n",
    "        grad_params.append(grad_layer_params)\n",
    "    return loss, np.concatenate(grad_params[::-1], axis=0)"
   ]
  },
  {
   "cell_type": "markdown",
   "metadata": {
    "hidden": true
   },
   "source": [
    "Теперь мы готовы обучать нашу нейросеть. "
   ]
  },
  {
   "cell_type": "code",
   "execution_count": 285,
   "metadata": {
    "ExecuteTime": {
     "end_time": "2021-03-03T14:44:52.175017Z",
     "start_time": "2021-03-03T14:44:52.148090Z"
    },
    "hidden": true
   },
   "outputs": [],
   "source": [
    "weights = get_weights(network)"
   ]
  },
  {
   "cell_type": "code",
   "execution_count": 286,
   "metadata": {
    "ExecuteTime": {
     "end_time": "2021-03-03T14:44:53.078366Z",
     "start_time": "2021-03-03T14:44:52.179006Z"
    },
    "hidden": true
   },
   "outputs": [],
   "source": [
    "res = minimize(\n",
    "    compute_loss_grad, weights,       # fun and start point\n",
    "    args=[network, X_train, y_train], # args passed to fun\n",
    "    method=\"L-BFGS-B\",                # optimization method\n",
    "    jac=True                          # says that gradient is computed in fun\n",
    ")"
   ]
  },
  {
   "cell_type": "code",
   "execution_count": 287,
   "metadata": {
    "ExecuteTime": {
     "end_time": "2021-03-03T14:44:53.093332Z",
     "start_time": "2021-03-03T14:44:53.081402Z"
    },
    "hidden": true
   },
   "outputs": [
    {
     "data": {
      "text/plain": [
       "dict_keys(['fun', 'jac', 'nfev', 'njev', 'nit', 'status', 'message', 'x', 'success', 'hess_inv'])"
      ]
     },
     "execution_count": 287,
     "metadata": {},
     "output_type": "execute_result"
    }
   ],
   "source": [
    "res.keys()"
   ]
  },
  {
   "cell_type": "code",
   "execution_count": 288,
   "metadata": {
    "ExecuteTime": {
     "end_time": "2021-03-03T14:44:53.109290Z",
     "start_time": "2021-03-03T14:44:53.096325Z"
    },
    "hidden": true,
    "scrolled": true
   },
   "outputs": [
    {
     "data": {
      "text/plain": [
       "98"
      ]
     },
     "execution_count": 288,
     "metadata": {},
     "output_type": "execute_result"
    }
   ],
   "source": [
    "res[\"nit\"] # number of iterations (should be >> 10)"
   ]
  },
  {
   "cell_type": "code",
   "execution_count": 289,
   "metadata": {
    "ExecuteTime": {
     "end_time": "2021-03-03T14:44:53.125246Z",
     "start_time": "2021-03-03T14:44:53.112286Z"
    },
    "hidden": true
   },
   "outputs": [
    {
     "data": {
      "text/plain": [
       "True"
      ]
     },
     "execution_count": 289,
     "metadata": {},
     "output_type": "execute_result"
    }
   ],
   "source": [
    "res[\"success\"] # should be True"
   ]
  },
  {
   "cell_type": "code",
   "execution_count": 290,
   "metadata": {
    "ExecuteTime": {
     "end_time": "2021-03-03T14:44:53.140244Z",
     "start_time": "2021-03-03T14:44:53.128239Z"
    },
    "hidden": true
   },
   "outputs": [
    {
     "data": {
      "text/plain": [
       "array([-0.00223742, -0.0165439 ,  0.00377023, ..., -0.74982586,\n",
       "       -1.81001384, -0.39686915])"
      ]
     },
     "execution_count": 290,
     "metadata": {},
     "output_type": "execute_result"
    }
   ],
   "source": [
    "res[\"x\"] # leraned weights"
   ]
  },
  {
   "cell_type": "markdown",
   "metadata": {
    "hidden": true
   },
   "source": [
    "Выведите качество на обучении (`X_train`, `y_train`) и на контроле (`X_test`, `y_test`). Не забудьте установить веса!"
   ]
  },
  {
   "cell_type": "code",
   "execution_count": 294,
   "metadata": {
    "ExecuteTime": {
     "end_time": "2021-03-03T14:44:53.172124Z",
     "start_time": "2021-03-03T14:44:53.144212Z"
    },
    "hidden": true
   },
   "outputs": [
    {
     "name": "stdout",
     "output_type": "stream",
     "text": [
      "Accuracy on train: 1.0\n",
      "Accuracy on test: 0.96\n"
     ]
    }
   ],
   "source": [
    "### your code here\n",
    "set_weights(res['x'], network)\n",
    "print(\"Accuracy on train:\", np.mean(predict(network, X_train) == y_train))\n",
    "print(\"Accuracy on test:\", np.mean(predict(network, X_test) == y_test))"
   ]
  },
  {
   "cell_type": "markdown",
   "metadata": {
    "hidden": true
   },
   "source": [
    "У `minimize` есть также аргумент `callback` — в нее можно передать функцию, которая будет вызываться после каждой итерации оптимизации. Такую функцию удобно оформить в виде метода класса, который будет сохранять качество на обучении контроле после каждой итерации. Реализуйте этот метод в классе `Callback`:"
   ]
  },
  {
   "cell_type": "code",
   "execution_count": 305,
   "metadata": {
    "ExecuteTime": {
     "end_time": "2021-03-03T14:44:53.188082Z",
     "start_time": "2021-03-03T14:44:53.175117Z"
    },
    "hidden": true
   },
   "outputs": [],
   "source": [
    "class Callback:\n",
    "    def __init__(self, network, X_train, y_train, X_test, y_test, print=False):\n",
    "        self.network = network\n",
    "        self.X_train = X_train\n",
    "        self.X_test = X_test\n",
    "        self.y_train = y_train\n",
    "        self.y_test = y_test\n",
    "        self.print = print\n",
    "        self.train_acc = []\n",
    "        self.test_acc = []\n",
    "        \n",
    "    def call(self, weights):\n",
    "        \"\"\"\n",
    "        Computes quality on train and test set with given weights\n",
    "        and saves to self.train_acc and self.test_acc.\n",
    "        If self.print is True, also prints these 2 values\n",
    "        \"\"\"\n",
    "        set_weights(weights, self.network)\n",
    "        self.train_acc.append(np.mean(\n",
    "            predict(self.network, self.X_train) == self.y_train))\n",
    "        self.test_acc.append(np.mean(\n",
    "            predict(self.network, self.X_test) == self.y_test))\n",
    "\n",
    "        if self.print:\n",
    "            print(f\"Accuracy on train {self.train_acc[-1]:.4f} ||\",\n",
    "                   f\"test {self.test_acc[-1]:.4f}\")"
   ]
  },
  {
   "cell_type": "code",
   "execution_count": 306,
   "metadata": {
    "ExecuteTime": {
     "end_time": "2021-03-03T14:44:54.497924Z",
     "start_time": "2021-03-03T14:44:53.191074Z"
    },
    "hidden": true
   },
   "outputs": [
    {
     "name": "stdout",
     "output_type": "stream",
     "text": [
      "Accuracy on train 0.1381 || test 0.1044\n",
      "Accuracy on train 0.1084 || test 0.0822\n",
      "Accuracy on train 0.1076 || test 0.0822\n",
      "Accuracy on train 0.1158 || test 0.0889\n",
      "Accuracy on train 0.1463 || test 0.1111\n",
      "Accuracy on train 0.2613 || test 0.2444\n",
      "Accuracy on train 0.3630 || test 0.3600\n",
      "Accuracy on train 0.4165 || test 0.4289\n",
      "Accuracy on train 0.5219 || test 0.5044\n",
      "Accuracy on train 0.6199 || test 0.6000\n",
      "Accuracy on train 0.6533 || test 0.6667\n",
      "Accuracy on train 0.6875 || test 0.6911\n",
      "Accuracy on train 0.7142 || test 0.7267\n",
      "Accuracy on train 0.7327 || test 0.7178\n",
      "Accuracy on train 0.7854 || test 0.7267\n",
      "Accuracy on train 0.7899 || test 0.7600\n",
      "Accuracy on train 0.8122 || test 0.7689\n",
      "Accuracy on train 0.8218 || test 0.7889\n",
      "Accuracy on train 0.8196 || test 0.8044\n",
      "Accuracy on train 0.8330 || test 0.8222\n",
      "Accuracy on train 0.8515 || test 0.8422\n",
      "Accuracy on train 0.8597 || test 0.8489\n",
      "Accuracy on train 0.8797 || test 0.8556\n",
      "Accuracy on train 0.8916 || test 0.8778\n",
      "Accuracy on train 0.8938 || test 0.8867\n",
      "Accuracy on train 0.9072 || test 0.8867\n",
      "Accuracy on train 0.9146 || test 0.8933\n",
      "Accuracy on train 0.9161 || test 0.8911\n",
      "Accuracy on train 0.9154 || test 0.8978\n",
      "Accuracy on train 0.9295 || test 0.9044\n",
      "Accuracy on train 0.9332 || test 0.9133\n",
      "Accuracy on train 0.9391 || test 0.9178\n",
      "Accuracy on train 0.9391 || test 0.9222\n",
      "Accuracy on train 0.9421 || test 0.9222\n",
      "Accuracy on train 0.9465 || test 0.9244\n",
      "Accuracy on train 0.9532 || test 0.9244\n",
      "Accuracy on train 0.9569 || test 0.9333\n",
      "Accuracy on train 0.9681 || test 0.9311\n",
      "Accuracy on train 0.9659 || test 0.9333\n",
      "Accuracy on train 0.9681 || test 0.9289\n",
      "Accuracy on train 0.9688 || test 0.9333\n",
      "Accuracy on train 0.9733 || test 0.9333\n",
      "Accuracy on train 0.9755 || test 0.9333\n",
      "Accuracy on train 0.9792 || test 0.9311\n",
      "Accuracy on train 0.9792 || test 0.9289\n",
      "Accuracy on train 0.9807 || test 0.9289\n",
      "Accuracy on train 0.9792 || test 0.9378\n",
      "Accuracy on train 0.9822 || test 0.9378\n",
      "Accuracy on train 0.9829 || test 0.9356\n",
      "Accuracy on train 0.9874 || test 0.9422\n",
      "Accuracy on train 0.9889 || test 0.9444\n",
      "Accuracy on train 0.9903 || test 0.9422\n",
      "Accuracy on train 0.9918 || test 0.9444\n",
      "Accuracy on train 0.9933 || test 0.9444\n",
      "Accuracy on train 0.9933 || test 0.9467\n",
      "Accuracy on train 0.9948 || test 0.9489\n",
      "Accuracy on train 0.9948 || test 0.9467\n",
      "Accuracy on train 0.9970 || test 0.9467\n",
      "Accuracy on train 0.9963 || test 0.9467\n",
      "Accuracy on train 0.9970 || test 0.9422\n",
      "Accuracy on train 0.9978 || test 0.9400\n",
      "Accuracy on train 0.9993 || test 0.9400\n",
      "Accuracy on train 0.9993 || test 0.9378\n",
      "Accuracy on train 1.0000 || test 0.9378\n",
      "Accuracy on train 1.0000 || test 0.9378\n",
      "Accuracy on train 1.0000 || test 0.9378\n",
      "Accuracy on train 1.0000 || test 0.9378\n",
      "Accuracy on train 1.0000 || test 0.9400\n",
      "Accuracy on train 1.0000 || test 0.9400\n",
      "Accuracy on train 1.0000 || test 0.9467\n",
      "Accuracy on train 1.0000 || test 0.9467\n",
      "Accuracy on train 1.0000 || test 0.9467\n",
      "Accuracy on train 1.0000 || test 0.9467\n",
      "Accuracy on train 1.0000 || test 0.9444\n",
      "Accuracy on train 1.0000 || test 0.9467\n",
      "Accuracy on train 1.0000 || test 0.9467\n",
      "Accuracy on train 1.0000 || test 0.9467\n",
      "Accuracy on train 1.0000 || test 0.9467\n",
      "Accuracy on train 1.0000 || test 0.9467\n",
      "Accuracy on train 1.0000 || test 0.9489\n",
      "Accuracy on train 1.0000 || test 0.9467\n",
      "Accuracy on train 1.0000 || test 0.9467\n",
      "Accuracy on train 1.0000 || test 0.9533\n",
      "Accuracy on train 1.0000 || test 0.9489\n",
      "Accuracy on train 1.0000 || test 0.9578\n",
      "Accuracy on train 1.0000 || test 0.9578\n",
      "Accuracy on train 1.0000 || test 0.9600\n",
      "Accuracy on train 1.0000 || test 0.9600\n",
      "Accuracy on train 1.0000 || test 0.9578\n",
      "Accuracy on train 1.0000 || test 0.9556\n",
      "Accuracy on train 1.0000 || test 0.9556\n",
      "Accuracy on train 1.0000 || test 0.9578\n",
      "Accuracy on train 1.0000 || test 0.9578\n",
      "Accuracy on train 1.0000 || test 0.9600\n",
      "Accuracy on train 1.0000 || test 0.9600\n",
      "Accuracy on train 1.0000 || test 0.9600\n",
      "Accuracy on train 1.0000 || test 0.9600\n",
      "Accuracy on train 1.0000 || test 0.9600\n"
     ]
    }
   ],
   "source": [
    "cb = Callback(network, X_train, y_train, X_test, y_test, print=True)\n",
    "\n",
    "res = minimize(\n",
    "    compute_loss_grad, weights,  \n",
    "    args=[network, X_train, y_train], \n",
    "    method=\"L-BFGS-B\",\n",
    "    jac=True,\n",
    "    callback=cb.call\n",
    ")"
   ]
  },
  {
   "cell_type": "markdown",
   "metadata": {
    "hidden": true
   },
   "source": [
    "Изобразите на графике кривую качества на обучени и контроле по итерациям:"
   ]
  },
  {
   "cell_type": "code",
   "execution_count": 307,
   "metadata": {
    "ExecuteTime": {
     "end_time": "2021-03-03T14:44:54.816117Z",
     "start_time": "2021-03-03T14:44:54.500922Z"
    },
    "hidden": true
   },
   "outputs": [
    {
     "data": {
      "image/png": "[encoded data removed]",
      "text/plain": [
       "<Figure size 720x360 with 1 Axes>"
      ]
     },
     "metadata": {
      "needs_background": "light"
     },
     "output_type": "display_data"
    }
   ],
   "source": [
    "fig, ax = plt.subplots(1, 1, figsize=(10, 5))\n",
    "ax.plot(cb.train_acc, label=\"train acc\")\n",
    "ax.plot(cb.test_acc, label=\"test acc\")\n",
    "ax.set_xlabel(\"Iteration\")\n",
    "ax.set_ylabel(\"Accuracy\")\n",
    "ax.grid(True)\n",
    "ax.legend()\n",
    "\n",
    "fig.tight_layout()\n",
    "plt.show()"
   ]
  },
  {
   "cell_type": "markdown",
   "metadata": {
    "heading_collapsed": true,
    "hidden": true
   },
   "source": [
    "### `Эксперименты с числом слоев (1 балл)`"
   ]
  },
  {
   "cell_type": "markdown",
   "metadata": {
    "hidden": true
   },
   "source": [
    "Ясно, что из-за случайного начального приближения с каждым запуском обучения мы будем получать различное качество. Попробуем обучить нашу нейросеть с разным числом слоев несколько раз.\n",
    "\n",
    "Заполните матрицы `accs_train` и `accs_test`. В позиции `[i, j]` должна стоять величина доли правильных ответов сети с $i+1$ полносвязными слоями при $j$-м запуске (все запуски идентичны)."
   ]
  },
  {
   "cell_type": "code",
   "execution_count": 308,
   "metadata": {
    "ExecuteTime": {
     "end_time": "2021-03-03T14:44:54.832074Z",
     "start_time": "2021-03-03T14:44:54.819071Z"
    },
    "hidden": true
   },
   "outputs": [],
   "source": [
    "accs_train = np.zeros((5, 5))\n",
    "accs_test = np.zeros((5, 5))"
   ]
  },
  {
   "cell_type": "code",
   "execution_count": 309,
   "metadata": {
    "ExecuteTime": {
     "end_time": "2021-03-03T14:45:56.444624Z",
     "start_time": "2021-03-03T14:44:54.836024Z"
    },
    "hidden": true
   },
   "outputs": [],
   "source": [
    "### your code here\n",
    "for i in range(5):\n",
    "    for j in range(5):\n",
    "        network = make_network( \n",
    "            input_size, hidden_layers_size, output_size, n_layers=i + 1,\n",
    "            activation_class=ReLU)\n",
    "\n",
    "        res = minimize(\n",
    "            compute_loss_grad, get_weights(network),       \n",
    "            args=[network, X_train, y_train], \n",
    "            method=\"L-BFGS-B\",                \n",
    "            jac=True)\n",
    "        \n",
    "        set_weights(res['x'], network)\n",
    "\n",
    "        accs_train[i, j] = np.mean(predict(network, X_train) == y_train)\n",
    "        accs_test[i, j] = np.mean(predict(network, X_test) == y_test)"
   ]
  },
  {
   "cell_type": "markdown",
   "metadata": {
    "hidden": true
   },
   "source": [
    "Построим боксплоты полученного качества (горизонтальная линия в каждом столбце — среднее, прямоугольник показывает разброс)."
   ]
  },
  {
   "cell_type": "code",
   "execution_count": 310,
   "metadata": {
    "ExecuteTime": {
     "end_time": "2021-03-03T14:45:57.060827Z",
     "start_time": "2021-03-03T14:45:56.447467Z"
    },
    "collapsed": true,
    "hidden": true
   },
   "outputs": [
    {
     "data": {
      "image/png": "[encoded data removed]",
      "text/plain": [
       "<Figure size 720x576 with 2 Axes>"
      ]
     },
     "metadata": {
      "needs_background": "light"
     },
     "output_type": "display_data"
    }
   ],
   "source": [
    "fig, axes = plt.subplots(2, 1, figsize=(10, 8))\n",
    "\n",
    "axes[0].boxplot(accs_train.T, showfliers=False)\n",
    "axes[1].boxplot(accs_test.T, showfliers=False)\n",
    "\n",
    "axes[0].set_xlabel(\"Number of layers\")\n",
    "axes[1].set_xlabel(\"Number of layers\")\n",
    "\n",
    "axes[0].set_ylabel(\"Train accuracy\")\n",
    "axes[1].set_ylabel(\"Test accuracy\")\n",
    "\n",
    "axes[0].set_title(\"Train quality in 5 runs\")\n",
    "axes[1].set_title(\"Test quality in 5 runs\")\n",
    "\n",
    "axes[0].grid(True)\n",
    "axes[1].grid(True)\n",
    "\n",
    "fig.tight_layout()\n",
    "plt.show()"
   ]
  },
  {
   "cell_type": "markdown",
   "metadata": {
    "hidden": true
   },
   "source": [
    "Дайте развёрнутый ответ на вопросы (в этой же ячейке):\n",
    "* Как изменяются качество на обучении и контроле и устойчивость процесса обучения при увеличении числа слоев?\n",
    "* Можно ли сказать, что логистическая регрессия (линейная модель) дает качество хуже, чем нелинейная модель?\n",
    "\n",
    "__Ответы:__\n",
    "1.  a) На обучении качество константное и равно 1   \n",
    "    b) На контроле качество растет при увеличении слоев до 3 включая, а с использованием 4 и 5 слоев падает, что вероятно связано с тем, что модель сильно подгоняется под обучающую выборку  \n",
    "    с) Аналогичные в b) рассуждения можно применить и в отношении устойчивости(разброса) модели. С 1 до 4 слоев, в целом, модель устойчива, а с использованием 5 слоев модель опять же очень сильно подгоняется под конкретную выборку, поэтому, когда ей подается иная выборка, она становится плохой по accuracy.\n",
    "2. И да, и нет. Все зависит от количества слоев в нейронке. Если используем 2, 3 слоя, то видно, что медиана выше медианы для логистической регрессии. Если 4, 5, то логистическая регрессия, во-первых, устойчивее, а во-вторых медиана ее accuracy выше."
   ]
  },
  {
   "cell_type": "markdown",
   "metadata": {
    "heading_collapsed": true,
    "hidden": true
   },
   "source": [
    "### `Эксперименты c различными инициализациями весов (1 балл)`"
   ]
  },
  {
   "cell_type": "markdown",
   "metadata": {
    "hidden": true
   },
   "source": [
    "Как уже было сказано, начальная инициализация весов нейронной сети может сильно влиять на процесс ее обучения и, как следствие, на ее качество.\n",
    "\n",
    "В этом пункте вам предлагается попробовать обучить несколько нейронных сетей с различными инициализациями слоев.\n",
    "\n",
    "Для этого необходимо реализовать функцию, инициализирующую веса линейных слоёв нашей нейронной сети. Добавьте в функционал данного метода возможность инициализировать его веса с помощью инициализации Kaiming (используется, если в нейронной сети в качестве функций активации используется ReLU) и инициализации Xavier (используется, если в нейронной сети в качестве функций активации используется Tanh или Sigmoid):"
   ]
  },
  {
   "cell_type": "code",
   "execution_count": 311,
   "metadata": {
    "ExecuteTime": {
     "end_time": "2021-03-03T14:45:57.075786Z",
     "start_time": "2021-03-03T14:45:57.063819Z"
    },
    "code_folding": [],
    "hidden": true
   },
   "outputs": [],
   "source": [
    "def initialize_network(network, initialization):\n",
    "    for layer in network:\n",
    "        if isinstance(layer, Dense):\n",
    "            input_units, output_units = layer.weights.shape\n",
    "            if initialization == 'Kaiming':\n",
    "                ### your code here\n",
    "                layer.weights = np.random.normal(0, np.sqrt(2 / input_units), (input_units, output_units))\n",
    "                pass\n",
    "            elif initialization == 'Xavier':\n",
    "                layer.weights = np.random.normal(0, np.sqrt(2 / (input_units + output_units)), (input_units, output_units))\n",
    "                pass\n",
    "            else:\n",
    "                # Initialize weights with small random numbers from normal distribution.\n",
    "                # In this case `initialization` represents a standard deviation\n",
    "                # for normal distribution.\n",
    "                layer.weights = np.random.randn(input_units, output_units) * initialization\n",
    "            layer.biases = np.zeros_like(layer.biases)\n",
    "            \n",
    "            layer.params = [layer.weights, layer.biases]"
   ]
  },
  {
   "cell_type": "markdown",
   "metadata": {
    "hidden": true
   },
   "source": [
    "Теперь попробуйте для каждой из 3 инициализаций обучить нейронную сеть несколько раз. Попробуйте проделать данную операцию при зафиксированном числе слоев равным 3, 4 и 5."
   ]
  },
  {
   "cell_type": "markdown",
   "metadata": {
    "heading_collapsed": true,
    "hidden": true
   },
   "source": [
    "#### `3 слоя`\n",
    "\n",
    "Зафиксируйте в сети число слоев равное трем."
   ]
  },
  {
   "cell_type": "markdown",
   "metadata": {
    "hidden": true
   },
   "source": [
    "Заполните матрицы `accs_train` и `accs_test`. В позиции `[i, j]` должна стоять величина доли правильных ответов сети при $j$-м запуске (все запуски идентичны) с инициализацией Kaiming при $i = 3$, с инициализацией Xavier при $i = 4$ и с инициализацией из нормального распределения с фиксированными параметрами при $0 \\leqslant i \\leqslant 2$ (попробуйте здесь 3 разных параметра для стандартного отклонения для нормального распределения, например: `1e-3`, `1e-2`, `1e-1`). Заметьте, что при большом числе слоев слишком низкое стандартное отклонение может не давать нейронной сети нормально обучиться."
   ]
  },
  {
   "cell_type": "code",
   "execution_count": 327,
   "metadata": {
    "ExecuteTime": {
     "end_time": "2021-03-03T14:45:57.091744Z",
     "start_time": "2021-03-03T14:45:57.079777Z"
    },
    "hidden": true
   },
   "outputs": [],
   "source": [
    "init_vars = [1e-3, 1e-2, 1e-1, 'Kaiming', 'Xavier']"
   ]
  },
  {
   "cell_type": "code",
   "execution_count": 328,
   "metadata": {
    "ExecuteTime": {
     "end_time": "2021-03-03T14:45:57.107701Z",
     "start_time": "2021-03-03T14:45:57.094737Z"
    },
    "hidden": true
   },
   "outputs": [],
   "source": [
    "accs_train = np.zeros((5, 5))\n",
    "accs_test = np.zeros((5, 5))"
   ]
  },
  {
   "cell_type": "code",
   "execution_count": 329,
   "metadata": {
    "ExecuteTime": {
     "end_time": "2021-03-03T14:46:27.904407Z",
     "start_time": "2021-03-03T14:45:57.111690Z"
    },
    "hidden": true
   },
   "outputs": [],
   "source": [
    "### your code here\n",
    "for i in range(5):\n",
    "    for j in range(5):\n",
    "        network = make_network( \n",
    "            input_size, hidden_layers_size, output_size, n_layers=3,\n",
    "            activation_class=ReLU)\n",
    "\n",
    "        initialize_network(network, init_vars[i])\n",
    "        \n",
    "        res = minimize(\n",
    "            compute_loss_grad, get_weights(network),       \n",
    "            args=[network, X_train, y_train], \n",
    "            method=\"L-BFGS-B\",                \n",
    "            jac=True)\n",
    "        \n",
    "        set_weights(res['x'], network)\n",
    "\n",
    "        accs_train[i, j] = np.mean(predict(network, X_train) == y_train)\n",
    "        accs_test[i, j] = np.mean(predict(network, X_test) == y_test)"
   ]
  },
  {
   "cell_type": "markdown",
   "metadata": {
    "hidden": true
   },
   "source": [
    "Построим боксплоты полученного качества (горизонтальная линия в каждом столбце — среднее, прямоугольник показывает разброс)."
   ]
  },
  {
   "cell_type": "code",
   "execution_count": 318,
   "metadata": {
    "ExecuteTime": {
     "end_time": "2021-03-03T14:46:28.632502Z",
     "start_time": "2021-03-03T14:46:27.907401Z"
    },
    "hidden": true,
    "scrolled": false
   },
   "outputs": [
    {
     "data": {
      "image/png": "[encoded data removed]",
      "text/plain": [
       "<Figure size 720x360 with 1 Axes>"
      ]
     },
     "metadata": {
      "needs_background": "light"
     },
     "output_type": "display_data"
    }
   ],
   "source": [
    "init_vars_for_plot = [(x if isinstance(x, str) else fr\"$\\sigma = {x}$\") for x in init_vars]\n",
    "\n",
    "fig, ax = plt.subplots(1, 1, figsize=(10, 5))\n",
    "\n",
    "ax.boxplot(accs_test.T, labels=init_vars_for_plot, showfliers=False)\n",
    "\n",
    "ax.set_title(\"Test quality in 5 runs\")\n",
    "ax.set_xlabel(\"Initialization\")\n",
    "ax.set_ylabel(\"Test accuracy\")\n",
    "ax.grid(True)\n",
    "\n",
    "fig.tight_layout()\n",
    "plt.show()"
   ]
  },
  {
   "cell_type": "code",
   "execution_count": 330,
   "metadata": {},
   "outputs": [
    {
     "data": {
      "image/png": "[encoded data removed]",
      "text/plain": [
       "<Figure size 720x360 with 1 Axes>"
      ]
     },
     "metadata": {
      "needs_background": "light"
     },
     "output_type": "display_data"
    }
   ],
   "source": [
    "init_vars_for_plot = [(x if isinstance(x, str) else fr\"$\\sigma = {x}$\") for x in init_vars]\n",
    "\n",
    "fig, ax = plt.subplots(1, 1, figsize=(10, 5))\n",
    "\n",
    "ax.boxplot(accs_train.T, labels=init_vars_for_plot, showfliers=False)\n",
    "\n",
    "ax.set_title(\"Train quality in 5 runs\")\n",
    "ax.set_xlabel(\"Initialization\")\n",
    "ax.set_ylabel(\"Train accuracy\")\n",
    "ax.grid(True)\n",
    "\n",
    "fig.tight_layout()\n",
    "plt.show()"
   ]
  },
  {
   "cell_type": "markdown",
   "metadata": {
    "heading_collapsed": true,
    "hidden": true
   },
   "source": [
    "#### `4 слоя`\n",
    "\n",
    "Выполните тут тот же код, что и в предыдущем пункте, но только уже с 4 слоями в сети."
   ]
  },
  {
   "cell_type": "code",
   "execution_count": 331,
   "metadata": {
    "ExecuteTime": {
     "end_time": "2021-03-03T14:45:57.091744Z",
     "start_time": "2021-03-03T14:45:57.079777Z"
    },
    "hidden": true
   },
   "outputs": [],
   "source": [
    "init_vars = [5e-3, 1e-2, 1e-1, 'Kaiming', 'Xavier']"
   ]
  },
  {
   "cell_type": "code",
   "execution_count": 332,
   "metadata": {
    "ExecuteTime": {
     "end_time": "2021-03-03T14:45:57.107701Z",
     "start_time": "2021-03-03T14:45:57.094737Z"
    },
    "hidden": true
   },
   "outputs": [],
   "source": [
    "accs_train = np.zeros((5, 5))\n",
    "accs_test = np.zeros((5, 5))"
   ]
  },
  {
   "cell_type": "code",
   "execution_count": 333,
   "metadata": {
    "ExecuteTime": {
     "end_time": "2021-03-03T14:46:27.904407Z",
     "start_time": "2021-03-03T14:45:57.111690Z"
    },
    "hidden": true
   },
   "outputs": [],
   "source": [
    "for i in range(5):\n",
    "    for j in range(5):\n",
    "        network = make_network( \n",
    "            input_size, hidden_layers_size, output_size, n_layers=4,\n",
    "            activation_class=ReLU)\n",
    "\n",
    "        initialize_network(network, init_vars[i])\n",
    "        \n",
    "        res = minimize(\n",
    "            compute_loss_grad, get_weights(network),       \n",
    "            args=[network, X_train, y_train], \n",
    "            method=\"L-BFGS-B\",                \n",
    "            jac=True)\n",
    "        \n",
    "        set_weights(res['x'], network)\n",
    "\n",
    "        accs_train[i, j] = np.mean(predict(network, X_train) == y_train)\n",
    "        accs_test[i, j] = np.mean(predict(network, X_test) == y_test)"
   ]
  },
  {
   "cell_type": "markdown",
   "metadata": {
    "hidden": true
   },
   "source": [
    "Построим боксплоты полученного качества (горизонтальная линия в каждом столбце — среднее, прямоугольник показывает разброс)."
   ]
  },
  {
   "cell_type": "code",
   "execution_count": 335,
   "metadata": {
    "ExecuteTime": {
     "end_time": "2021-03-03T14:46:28.632502Z",
     "start_time": "2021-03-03T14:46:27.907401Z"
    },
    "hidden": true,
    "scrolled": false
   },
   "outputs": [
    {
     "data": {
      "image/png": "[encoded data removed]",
      "text/plain": [
       "<Figure size 720x360 with 1 Axes>"
      ]
     },
     "metadata": {
      "needs_background": "light"
     },
     "output_type": "display_data"
    }
   ],
   "source": [
    "init_vars_for_plot = [(x if isinstance(x, str) else fr\"$\\sigma = {x}$\") for x in init_vars]\n",
    "\n",
    "fig, ax = plt.subplots(1, 1, figsize=(10, 5))\n",
    "\n",
    "ax.boxplot(accs_test.T, labels=init_vars_for_plot, showfliers=False)\n",
    "\n",
    "ax.set_title(\"Test quality in 5 runs\")\n",
    "ax.set_xlabel(\"Initialization\")\n",
    "ax.set_ylabel(\"Test accuracy\")\n",
    "ax.grid(True)\n",
    "\n",
    "fig.tight_layout()\n",
    "plt.show()"
   ]
  },
  {
   "cell_type": "code",
   "execution_count": 336,
   "metadata": {},
   "outputs": [
    {
     "data": {
      "image/png": "[encoded data removed]",
      "text/plain": [
       "<Figure size 720x360 with 1 Axes>"
      ]
     },
     "metadata": {
      "needs_background": "light"
     },
     "output_type": "display_data"
    }
   ],
   "source": [
    "init_vars_for_plot = [(x if isinstance(x, str) else fr\"$\\sigma = {x}$\") for x in init_vars]\n",
    "\n",
    "fig, ax = plt.subplots(1, 1, figsize=(10, 5))\n",
    "\n",
    "ax.boxplot(accs_train.T, labels=init_vars_for_plot, showfliers=False)\n",
    "\n",
    "ax.set_title(\"Train quality in 5 runs\")\n",
    "ax.set_xlabel(\"Initialization\")\n",
    "ax.set_ylabel(\"Train accuracy\")\n",
    "ax.grid(True)\n",
    "\n",
    "fig.tight_layout()\n",
    "plt.show()"
   ]
  },
  {
   "cell_type": "markdown",
   "metadata": {
    "heading_collapsed": true,
    "hidden": true
   },
   "source": [
    "#### `5 слоев`\n",
    "\n",
    "Выполните тут тот же код, что и в предыдущем пункте, но только уже с 5 слоями в сети."
   ]
  },
  {
   "cell_type": "code",
   "execution_count": 337,
   "metadata": {
    "ExecuteTime": {
     "end_time": "2021-03-03T14:45:57.091744Z",
     "start_time": "2021-03-03T14:45:57.079777Z"
    },
    "hidden": true
   },
   "outputs": [],
   "source": [
    "init_vars = [1e-2, 1e-1, 1e0, 'Kaiming', 'Xavier']"
   ]
  },
  {
   "cell_type": "code",
   "execution_count": 338,
   "metadata": {
    "ExecuteTime": {
     "end_time": "2021-03-03T14:45:57.107701Z",
     "start_time": "2021-03-03T14:45:57.094737Z"
    },
    "hidden": true
   },
   "outputs": [],
   "source": [
    "accs_train = np.zeros((5, 5))\n",
    "accs_test = np.zeros((5, 5))"
   ]
  },
  {
   "cell_type": "code",
   "execution_count": 339,
   "metadata": {
    "ExecuteTime": {
     "end_time": "2021-03-03T14:46:27.904407Z",
     "start_time": "2021-03-03T14:45:57.111690Z"
    },
    "hidden": true
   },
   "outputs": [],
   "source": [
    "### your code here\n",
    "for i in range(5):\n",
    "    for j in range(5):\n",
    "        network = make_network( \n",
    "            input_size, hidden_layers_size, output_size, n_layers=5,\n",
    "            activation_class=ReLU)\n",
    "\n",
    "        initialize_network(network, init_vars[i])\n",
    "        \n",
    "        res = minimize(\n",
    "            compute_loss_grad, get_weights(network),       \n",
    "            args=[network, X_train, y_train], \n",
    "            method=\"L-BFGS-B\",                \n",
    "            jac=True)\n",
    "        \n",
    "        set_weights(res['x'], network)\n",
    "\n",
    "        accs_train[i, j] = np.mean(predict(network, X_train) == y_train)\n",
    "        accs_test[i, j] = np.mean(predict(network, X_test) == y_test)"
   ]
  },
  {
   "cell_type": "code",
   "execution_count": null,
   "metadata": {},
   "outputs": [],
   "source": []
  },
  {
   "cell_type": "markdown",
   "metadata": {
    "hidden": true
   },
   "source": [
    "Построим боксплоты полученного качества (горизонтальная линия в каждом столбце — среднее, прямоугольник показывает разброс)."
   ]
  },
  {
   "cell_type": "code",
   "execution_count": 340,
   "metadata": {
    "ExecuteTime": {
     "end_time": "2021-03-03T14:46:28.632502Z",
     "start_time": "2021-03-03T14:46:27.907401Z"
    },
    "hidden": true,
    "scrolled": false
   },
   "outputs": [
    {
     "data": {
      "image/png": "[encoded data removed]",
      "text/plain": [
       "<Figure size 720x360 with 1 Axes>"
      ]
     },
     "metadata": {
      "needs_background": "light"
     },
     "output_type": "display_data"
    }
   ],
   "source": [
    "init_vars_for_plot = [(x if isinstance(x, str) else fr\"$\\sigma = {x}$\") for x in init_vars]\n",
    "\n",
    "fig, ax = plt.subplots(1, 1, figsize=(10, 5))\n",
    "\n",
    "ax.boxplot(accs_test.T, labels=init_vars_for_plot, showfliers=False)\n",
    "\n",
    "ax.set_title(\"Test quality in 5 runs\")\n",
    "ax.set_xlabel(\"Initialization\")\n",
    "ax.set_ylabel(\"Test accuracy\")\n",
    "ax.grid(True)\n",
    "\n",
    "fig.tight_layout()\n",
    "plt.show()"
   ]
  },
  {
   "cell_type": "code",
   "execution_count": 341,
   "metadata": {},
   "outputs": [
    {
     "data": {
      "image/png": "[encoded data removed]",
      "text/plain": [
       "<Figure size 720x360 with 1 Axes>"
      ]
     },
     "metadata": {
      "needs_background": "light"
     },
     "output_type": "display_data"
    }
   ],
   "source": [
    "init_vars_for_plot = [(x if isinstance(x, str) else fr\"$\\sigma = {x}$\") for x in init_vars]\n",
    "\n",
    "fig, ax = plt.subplots(1, 1, figsize=(10, 5))\n",
    "\n",
    "ax.boxplot(accs_train.T, labels=init_vars_for_plot, showfliers=False)\n",
    "\n",
    "ax.set_title(\"Train quality in 5 runs\")\n",
    "ax.set_xlabel(\"Initialization\")\n",
    "ax.set_ylabel(\"Train accuracy\")\n",
    "ax.grid(True)\n",
    "\n",
    "fig.tight_layout()\n",
    "plt.show()"
   ]
  },
  {
   "cell_type": "markdown",
   "metadata": {
    "hidden": true
   },
   "source": [
    "Дайте развёрнутый ответ на вопросы (в этой же ячейке):\n",
    "* Как отличаются качество на обучении и контроле и устойчивость процесса обучения при различных инициализациях?\n",
    "* Какие инициализации помогают обучать более глубокие сети?\n",
    "\n",
    "__Ответы:__\n",
    "1.  a) На обучении качество константное и равно 1 почти везде кроме случая с 5 слоями и с $\\sigma=1.0$  нормальное распределение  \n",
    "    b) При 3-х слоях все инициализации дают примерно одно и тоже значение лосса кроме случая при $\\sigma = 0.001$(тут медиана accuracy отличается от остальных примерно на 0.01). Причем устойчивость во всех случаях примерно одна. При 4-х слоях видно, что решения с нормальным распределением с $\\sigma$ не очень устойчивые и дают хуже результаты чем, если  использовать Kaiming и Xavier, которые к томе же еще и более устойчивые. При 5 слоях в целом все инициализации примерно дают один результат и по качеству и по разбросу, исключением будет только выбор нормального распредления с $\\sigma=1.0$   \n",
    "2. Лучшим вариантом будет Kaiming и Xavier"
   ]
  },
  {
   "cell_type": "markdown",
   "metadata": {
    "hidden": true
   },
   "source": [
    "Теперь сравним скорость обучения при различных инициализациях. Создайте два списка списков `accs_test_on_iterations`, `accs_train_on_iterations` в каждом из которых в позиции `[i]` (см. описание `i` в предыдущем пункте) будет лежать список из значений `accuracy` на тестовой и обучающей выборках соотвественно, полученных во время обучения модели. Количество слоев в сети зафиксируйте равным 4."
   ]
  },
  {
   "cell_type": "code",
   "execution_count": 363,
   "metadata": {
    "ExecuteTime": {
     "end_time": "2021-03-03T14:45:57.091744Z",
     "start_time": "2021-03-03T14:45:57.079777Z"
    },
    "hidden": true
   },
   "outputs": [],
   "source": [
    "init_vars = [1e-3, 1e-2, 1e-1, 'Kaiming', 'Xavier']"
   ]
  },
  {
   "cell_type": "code",
   "execution_count": 364,
   "metadata": {
    "ExecuteTime": {
     "end_time": "2021-03-03T14:46:28.647453Z",
     "start_time": "2021-03-03T14:46:28.635495Z"
    },
    "hidden": true
   },
   "outputs": [],
   "source": [
    "accs_test_on_iterations = []\n",
    "accs_train_on_iterations = []"
   ]
  },
  {
   "cell_type": "code",
   "execution_count": 365,
   "metadata": {
    "ExecuteTime": {
     "end_time": "2021-03-03T14:46:34.433662Z",
     "start_time": "2021-03-03T14:46:28.650417Z"
    },
    "hidden": true
   },
   "outputs": [],
   "source": [
    "\n",
    "### your code here\n",
    "for init_var in init_vars:\n",
    "    network = make_network( \n",
    "                input_size, hidden_layers_size, output_size, n_layers=4,\n",
    "                activation_class=ReLU)\n",
    "\n",
    "    initialize_network(network, init_var)\n",
    "\n",
    "    cb = Callback(network, X_train, y_train, X_test, y_test)    \n",
    "    res = minimize(\n",
    "        compute_loss_grad, get_weights(network),       \n",
    "        args=[network, X_train, y_train], \n",
    "        method=\"L-BFGS-B\",                \n",
    "        jac=True,\n",
    "        callback=cb.call)\n",
    "    accs_test_on_iterations.append(cb.test_acc)\n",
    "    accs_train_on_iterations.append(cb.train_acc)    \n",
    "    "
   ]
  },
  {
   "cell_type": "code",
   "execution_count": 372,
   "metadata": {
    "ExecuteTime": {
     "end_time": "2021-03-03T14:46:34.875348Z",
     "start_time": "2021-03-03T14:46:34.436663Z"
    },
    "hidden": true
   },
   "outputs": [
    {
     "data": {
      "image/png": "[encoded data removed]",
      "text/plain": [
       "<Figure size 720x360 with 1 Axes>"
      ]
     },
     "metadata": {
      "needs_background": "light"
     },
     "output_type": "display_data"
    }
   ],
   "source": [
    "fig, ax = plt.subplots(1, 1, figsize=(10, 5))\n",
    "init_vars_for_plot = [(x if isinstance(x, str) else fr\"$\\sigma = {x}$\") for x in init_vars]\n",
    "\n",
    "for idx, label in enumerate(init_vars_for_plot):\n",
    "    ax.plot(accs_test_on_iterations[idx], label=label)\n",
    "\n",
    "ax.set_title(\"Test quality for different initializations\")\n",
    "ax.set_xlabel(\"Epoch number\")\n",
    "ax.set_ylabel(\"Test accuracy\")\n",
    "ax.grid(True)\n",
    "ax.legend()\n",
    "\n",
    "fig.tight_layout()\n",
    "plt.show()"
   ]
  },
  {
   "cell_type": "markdown",
   "metadata": {
    "ExecuteTime": {
     "end_time": "2021-03-03T14:37:15.087902Z",
     "start_time": "2021-03-03T14:37:15.065996Z"
    },
    "hidden": true
   },
   "source": [
    "Дайте развёрнутый ответ на вопросы (в этой же ячейке):\n",
    "* Как меняется скорость обучения в зависимости от выбранной инициализации?\n",
    "\n",
    "__Ответы:__\n",
    "\n",
    "Видно, что быстрее всех учится модель с инициализаицей Kaiming и Xavier. Если использовать нормальное распределение с $\\sigma = 0.001$, то модель вообще не может обучиться и очень быстро останавливается процесс минимизации. При нормальном распределении с $\\sigma = 0.01$ модель сходится, но ей для этого требуется больше чем удвоенное количество эпох, затраченных Kaiming и Xavier. При дальнейшем увеличении $\\sigma$ ($\\sigma = 0.1$) видно, что количество эпох необходимое для сходимости уменьшается."
   ]
  },
  {
   "cell_type": "markdown",
   "metadata": {
    "heading_collapsed": true,
    "hidden": true
   },
   "source": [
    "### `Эксперименты c различными функциями активации (1 балл)`"
   ]
  },
  {
   "cell_type": "markdown",
   "metadata": {
    "hidden": true
   },
   "source": [
    "Проверим теперь, с какой функцией активации нейронная сеть будет обучаться лучше.\n",
    "\n",
    "В этом пункте вам предлагается попробовать обучить несколько нейронных сетей с различными функциями активации.\n",
    "\n",
    "Для этого нам нужно реализовать еще 2 слоя: для функций активации `Tanh` и `Sigmoid`."
   ]
  },
  {
   "cell_type": "code",
   "execution_count": 605,
   "metadata": {
    "ExecuteTime": {
     "end_time": "2021-03-03T14:46:34.891308Z",
     "start_time": "2021-03-03T14:46:34.878379Z"
    },
    "hidden": true
   },
   "outputs": [],
   "source": [
    "class Tanh:\n",
    "    \"\"\"\n",
    "    tanh(y) = (e^y - e^(-y)) / (e^y + e^(-y))\n",
    "    Используйте функцию np.tanh для подсчета гиперболического тангенса.\n",
    "    Вы можете сами реализовать подсчет tanh, но тогда вам нужно устойчиво его вычислять.\n",
    "    \"\"\"\n",
    "    def __init__(self):\n",
    "        self.params = [] # Tanh has no parameters\n",
    "        self.eval = False\n",
    "\n",
    "    def forward(self, input):\n",
    "        \"\"\"\n",
    "        Apply elementwise Tanh to [batch, num_units] matrix\n",
    "        \"\"\"\n",
    "        self.output = np.tanh(input)\n",
    "        return self.output\n",
    "\n",
    "    def backward(self, grad_output):\n",
    "        \"\"\"\n",
    "        Compute gradient of loss w.r.t. Tanh input\n",
    "        grad_output shape: [batch, num_units]\n",
    "        output 1 shape: [batch, num_units]\n",
    "        output 2: []\n",
    "        \"\"\"\n",
    "        grad_x = grad_output * (1 - self.output ** 2)\n",
    "        return grad_x, []\n",
    "\n",
    "    def __repr__(self):\n",
    "        return 'Tanh()'"
   ]
  },
  {
   "cell_type": "code",
   "execution_count": 606,
   "metadata": {
    "ExecuteTime": {
     "end_time": "2021-03-03T14:46:34.907337Z",
     "start_time": "2021-03-03T14:46:34.894300Z"
    },
    "hidden": true
   },
   "outputs": [],
   "source": [
    "from scipy.special import expit\n",
    "    \n",
    "class Sigmoid:\n",
    "    \"\"\"\n",
    "    sigmoid(y) = 1 / (1 + e^(-y))\n",
    "    Используйте функцию expit для подсчета сигмоиды.\n",
    "    Вы можете сами реализовать подсчет сигмоиды, но тогда вам нужно устойчиво ее вычислять.\n",
    "    \"\"\"\n",
    "    def __init__(self):\n",
    "        self.params = [] # Sigmoid has no parameters\n",
    "        self.eval = False\n",
    "\n",
    "    def forward(self, input):\n",
    "        \"\"\"\n",
    "        Apply elementwise Sigmoid to [batch, num_units] matrix\n",
    "        \"\"\"\n",
    "        self.output = expit(input)\n",
    "        return self.output\n",
    "\n",
    "    def backward(self, grad_output):\n",
    "        \"\"\"\n",
    "        Compute gradient of loss w.r.t. Sigmoid input\n",
    "        grad_output shape: [batch, num_units]\n",
    "        output 1 shape: [batch, num_units]\n",
    "        output 2: []\n",
    "        \"\"\"\n",
    "        ### your code here\n",
    "        grad_x = grad_output * ((1 - self.output) * self.output)\n",
    "        return grad_x, []\n",
    "\n",
    "    def __repr__(self):\n",
    "        return 'Sigmoid()'"
   ]
  },
  {
   "cell_type": "markdown",
   "metadata": {
    "hidden": true
   },
   "source": [
    "Теперь попробуйте для каждой из 3 функций активации обучить нейронную сеть несколько раз. Число слоев зафиксируйте равным 3. В случае `Tanh` и `Sigmoid` используйте инициализацию `Xavier`, а в случае `ReLU` используйте инициализацию `Kaiming`."
   ]
  },
  {
   "cell_type": "markdown",
   "metadata": {
    "hidden": true
   },
   "source": [
    "Заполните матрицы `accs_train` и `accs_test`. В позиции `[i, j]` должна стоять величина доли правильных ответов сети при $j$-м запуске (все запуски идентичны) с функцией активации $ReLU$ при $i = 0$, с функцией активации $Tanh$ при $i = 1$ и с функцией активации $Sigmoid$ при $i = 2$."
   ]
  },
  {
   "cell_type": "code",
   "execution_count": 379,
   "metadata": {
    "ExecuteTime": {
     "end_time": "2021-03-03T14:46:34.922732Z",
     "start_time": "2021-03-03T14:46:34.910271Z"
    },
    "hidden": true
   },
   "outputs": [],
   "source": [
    "act_func_vars = [ReLU, Tanh, Sigmoid]\n",
    "init_for_act_funcs = ['Kaiming', 'Xavier', 'Xavier']"
   ]
  },
  {
   "cell_type": "code",
   "execution_count": 380,
   "metadata": {
    "ExecuteTime": {
     "end_time": "2021-03-03T14:46:34.938935Z",
     "start_time": "2021-03-03T14:46:34.925724Z"
    },
    "hidden": true
   },
   "outputs": [],
   "source": [
    "accs_train = np.zeros((3, 5))\n",
    "accs_test = np.zeros((3, 5))"
   ]
  },
  {
   "cell_type": "code",
   "execution_count": 382,
   "metadata": {
    "ExecuteTime": {
     "end_time": "2021-03-03T14:47:04.514986Z",
     "start_time": "2021-03-03T14:46:34.941104Z"
    },
    "hidden": true
   },
   "outputs": [],
   "source": [
    "for i in range(3):\n",
    "    for j in range(5):\n",
    "        network = make_network( \n",
    "                        input_size, hidden_layers_size, output_size, n_layers=3,\n",
    "                        activation_class=act_func_vars[i])\n",
    "\n",
    "        initialize_network(network, init_for_act_funcs[i])\n",
    "\n",
    "        res = minimize(\n",
    "            compute_loss_grad, get_weights(network),       \n",
    "            args=[network, X_train, y_train], \n",
    "            method=\"L-BFGS-B\",                \n",
    "            jac=True)\n",
    "        \n",
    "        set_weights(res['x'], network)\n",
    "\n",
    "        accs_train[i, j] = np.mean(predict(network, X_train) == y_train)\n",
    "        accs_test[i, j] = np.mean(predict(network, X_test) == y_test)\n",
    "    "
   ]
  },
  {
   "cell_type": "code",
   "execution_count": 383,
   "metadata": {},
   "outputs": [],
   "source": [
    "act_func_vars = ['ReLU', 'Tanh', 'Sigmoid']"
   ]
  },
  {
   "cell_type": "markdown",
   "metadata": {
    "hidden": true
   },
   "source": [
    "Построим боксплоты полученного качества (горизонтальная линия в каждом столбце — среднее, прямоугольник показывает разброс)."
   ]
  },
  {
   "cell_type": "code",
   "execution_count": 384,
   "metadata": {
    "ExecuteTime": {
     "end_time": "2021-03-03T14:47:04.783320Z",
     "start_time": "2021-03-03T14:47:04.517701Z"
    },
    "hidden": true
   },
   "outputs": [
    {
     "data": {
      "image/png": "[encoded data removed]",
      "text/plain": [
       "<Figure size 720x360 with 1 Axes>"
      ]
     },
     "metadata": {
      "needs_background": "light"
     },
     "output_type": "display_data"
    }
   ],
   "source": [
    "fig, ax = plt.subplots(1, 1, figsize=(10, 5))\n",
    "\n",
    "ax.boxplot(accs_test.T, labels=act_func_vars, showfliers=False)\n",
    "\n",
    "ax.set_title(\"Test quality in 5 runs\")\n",
    "ax.set_xlabel(\"Activation function\")\n",
    "ax.set_ylabel(\"Test accuracy\")\n",
    "ax.grid(True)\n",
    "\n",
    "fig.tight_layout()\n",
    "plt.show()"
   ]
  },
  {
   "cell_type": "code",
   "execution_count": 385,
   "metadata": {},
   "outputs": [
    {
     "data": {
      "image/png": "[encoded data removed]",
      "text/plain": [
       "<Figure size 720x360 with 1 Axes>"
      ]
     },
     "metadata": {
      "needs_background": "light"
     },
     "output_type": "display_data"
    }
   ],
   "source": [
    "fig, ax = plt.subplots(1, 1, figsize=(10, 5))\n",
    "\n",
    "ax.boxplot(accs_train.T, labels=act_func_vars, showfliers=False)\n",
    "\n",
    "ax.set_title(\"Train quality in 5 runs\")\n",
    "ax.set_xlabel(\"Activation function\")\n",
    "ax.set_ylabel(\"Train accuracy\")\n",
    "ax.grid(True)\n",
    "\n",
    "fig.tight_layout()\n",
    "plt.show()"
   ]
  },
  {
   "cell_type": "markdown",
   "metadata": {
    "hidden": true
   },
   "source": [
    "Дайте развёрнутый ответ на вопросы (в этой же ячейке):\n",
    "* Как отличаются качество на обучении и контроле и устойчивость процесса обучения при различных функциях активации?\n",
    "\n",
    "__Ответы:__\n",
    "\n",
    "1. На обучении  медиана зачений accuracy равна 1 для Tanh и ReLU, при этом можно заметить, что у Sigmoid медиана почти такая же ($\\approx 0.9993$), но при этом есть небольшая неустойчивость.\n",
    "2. По accuracy лучше всего себя показалa ReLU, разброс у всех примерно один и тот же"
   ]
  },
  {
   "cell_type": "markdown",
   "metadata": {
    "hidden": true
   },
   "source": [
    "\\* Несколько фрагментов кода в задании написаны на основе материалов [курса по глубинному обучению на ФКН НИУ ВШЭ](://www.hse.ru/ba/ami/courses/205504078.html)https"
   ]
  },
  {
   "cell_type": "markdown",
   "metadata": {
    "heading_collapsed": true
   },
   "source": [
    "## `Бонусная часть`"
   ]
  },
  {
   "cell_type": "markdown",
   "metadata": {
    "hidden": true
   },
   "source": [
    "### `Реализация метода оптимизации (1 балл)`\n",
    "\n",
    "Реализуйте сами метод оптимизации (аналог функции `minimize`) для рассмотренной выше архитектуры. В качестве метода оптимизации используйте SGD + momentum. Продемонстрируйте правильную работу метода оптимизации, сравните его работу с LBFGS-B. Сделайте выводы."
   ]
  },
  {
   "cell_type": "code",
   "execution_count": 759,
   "metadata": {},
   "outputs": [],
   "source": [
    "def make_batches(X_train, y_train, batch_size):\n",
    "    batches = []\n",
    "    X_train, y_train = np.array(X_train), np.array(y_train)\n",
    "    idxs = np.random.choice(X_train.shape[0], X_train.shape[0], replace=False)\n",
    "    for i in range(0, X_train.shape[0], batch_size):\n",
    "        X_batch = X_train[idxs[i:i + batch_size], :]\n",
    "        y_batch = y_train[idxs[i:i + batch_size]]\n",
    "        batches.append((X_batch, y_batch))\n",
    "    return batches\n",
    "\n",
    "def sgd_momentum(network, X_train, y_train, X_test, y_test,  batch_size, lr, alpha, epoch=100, verbose=False):\n",
    "    weights = get_weights(network)\n",
    "    v = 0\n",
    "    train_acc = []\n",
    "    test_acc = []\n",
    "    for _ in range(epoch):\n",
    "        batches = make_batches(X_train, y_train, batch_size)\n",
    "        for X_batch, y_batch in batches:\n",
    "            _, grad = compute_loss_grad(weights, (network, X_batch, y_batch))\n",
    "            v = alpha * v + (1 - alpha) * grad\n",
    "            weights -= lr * v\n",
    "        for layer in network:\n",
    "            layer.eval = True\n",
    "        train_acc.append(np.mean(predict(network, X_train) == y_train))\n",
    "        test_acc.append(np.mean(predict(network, X_test) == y_test))\n",
    "        if verbose:\n",
    "            print(f\"Accuracy on train {train_acc[-1]:.4f} ||\",\n",
    "                   f\"test {test_acc[-1]:.4f}\")\n",
    "        for layer in network:\n",
    "            layer.eval = False\n",
    "    return train_acc, test_acc"
   ]
  },
  {
   "cell_type": "code",
   "execution_count": 576,
   "metadata": {},
   "outputs": [],
   "source": [
    "network = make_network(input_size, hidden_layers_size, output_size, n_layers=3,\n",
    "                        activation_class=ReLU)\n",
    "\n",
    "initialize_network(network, 'Kaiming')\n",
    "\n",
    "train_acc, test_acc = sgd_momentum(network, X_train, y_train, X_test, \n",
    "                                   y_test, batch_size=100, lr=0.05, alpha=0.5, epoch=300)\n"
   ]
  },
  {
   "cell_type": "code",
   "execution_count": 578,
   "metadata": {},
   "outputs": [
    {
     "data": {
      "image/svg+xml": "<?xml version=\"1.0\" encoding=\"utf-8\" standalone=\"no\"?>\n<!DOCTYPE svg PUBLIC \"-//W3C//DTD SVG 1.1//EN\"\n  \"http://www.w3.org/Graphics/SVG/1.1/DTD/svg11.dtd\">\n<svg xmlns:xlink=\"http://www.w3.org/1999/xlink\" width=\"709.51pt\" height=\"350.103594pt\" viewBox=\"0 0 709.51 350.103594\" xmlns=\"http://www.w3.org/2000/svg\" version=\"1.1\">\n <metadata>\n  <rdf:RDF xmlns:dc=\"http://purl.org/dc/elements/1.1/\" xmlns:cc=\"http://creativecommons.org/ns#\" xmlns:rdf=\"http://www.w3.org/1999/02/22-rdf-syntax-ns#\">\n   <cc:Work>\n    <dc:type rdf:resource=\"http://purl.org/dc/dcmitype/StillImage\"/>\n    <dc:date>2023-03-12T18:03:48.371339</dc:date>\n    <dc:format>image/svg+xml</dc:format>\n    <dc:creator>\n     <cc:Agent>\n      <dc:title>Matplotlib v3.5.1, https://matplotlib.org/</dc:title>\n     </cc:Agent>\n    </dc:creator>\n   </cc:Work>\n  </rdf:RDF>\n </metadata>\n <defs>\n  <style type=\"text/css\">*{stroke-linejoin: round; stroke-linecap: butt}</style>\n </defs>\n <g id=\"figure_1\">\n  <g id=\"patch_1\">\n   <path d=\"M 0 350.103594 \nL 709.51 350.103594 \nL 709.51 0 \nL 0 0 \nz\n\" style=\"fill: #ffffff\"/>\n  </g>\n  <g id=\"axes_1\">\n   <g id=\"patch_2\">\n    <path d=\"M 47.105 308.369375 \nL 702.31 308.369375 \nL 702.31 21.789375 \nL 47.105 21.789375 \nz\n\" style=\"fill: #eaeaf2\"/>\n   </g>\n   <g id=\"matplotlib.axis_1\">\n    <g id=\"xtick_1\">\n     <g id=\"line2d_1\">\n      <path d=\"M 76.887045 308.369375 \nL 76.887045 21.789375 \n\" clip-path=\"url(#p52cde391a5)\" style=\"fill: none; stroke: #ffffff; stroke-linecap: round\"/>\n     </g>\n     <g id=\"text_1\">\n      <!-- 0 -->\n      <g style=\"fill: #262626\" transform=\"translate(73.82853 325.742969)scale(0.11 -0.11)\">\n       <defs>\n        <path id=\"ArialMT-30\" d=\"M 266 2259 \nQ 266 3072 433 3567 \nQ 600 4063 929 4331 \nQ 1259 4600 1759 4600 \nQ 2128 4600 2406 4451 \nQ 2684 4303 2865 4023 \nQ 3047 3744 3150 3342 \nQ 3253 2941 3253 2259 \nQ 3253 1453 3087 958 \nQ 2922 463 2592 192 \nQ 2263 -78 1759 -78 \nQ 1097 -78 719 397 \nQ 266 969 266 2259 \nz\nM 844 2259 \nQ 844 1131 1108 757 \nQ 1372 384 1759 384 \nQ 2147 384 2411 759 \nQ 2675 1134 2675 2259 \nQ 2675 3391 2411 3762 \nQ 2147 4134 1753 4134 \nQ 1366 4134 1134 3806 \nQ 844 3388 844 2259 \nz\n\" transform=\"scale(0.015625)\"/>\n       </defs>\n       <use xlink:href=\"#ArialMT-30\"/>\n      </g>\n     </g>\n    </g>\n    <g id=\"xtick_2\">\n     <g id=\"line2d_2\">\n      <path d=\"M 176.492549 308.369375 \nL 176.492549 21.789375 \n\" clip-path=\"url(#p52cde391a5)\" style=\"fill: none; stroke: #ffffff; stroke-linecap: round\"/>\n     </g>\n     <g id=\"text_2\">\n      <!-- 50 -->\n      <g style=\"fill: #262626\" transform=\"translate(170.375517 325.742969)scale(0.11 -0.11)\">\n       <defs>\n        <path id=\"ArialMT-35\" d=\"M 266 1200 \nL 856 1250 \nQ 922 819 1161 601 \nQ 1400 384 1738 384 \nQ 2144 384 2425 690 \nQ 2706 997 2706 1503 \nQ 2706 1984 2436 2262 \nQ 2166 2541 1728 2541 \nQ 1456 2541 1237 2417 \nQ 1019 2294 894 2097 \nL 366 2166 \nL 809 4519 \nL 3088 4519 \nL 3088 3981 \nL 1259 3981 \nL 1013 2750 \nQ 1425 3038 1878 3038 \nQ 2478 3038 2890 2622 \nQ 3303 2206 3303 1553 \nQ 3303 931 2941 478 \nQ 2500 -78 1738 -78 \nQ 1113 -78 717 272 \nQ 322 622 266 1200 \nz\n\" transform=\"scale(0.015625)\"/>\n       </defs>\n       <use xlink:href=\"#ArialMT-35\"/>\n       <use xlink:href=\"#ArialMT-30\" x=\"55.615234\"/>\n      </g>\n     </g>\n    </g>\n    <g id=\"xtick_3\">\n     <g id=\"line2d_3\">\n      <path d=\"M 276.098052 308.369375 \nL 276.098052 21.789375 \n\" clip-path=\"url(#p52cde391a5)\" style=\"fill: none; stroke: #ffffff; stroke-linecap: round\"/>\n     </g>\n     <g id=\"text_3\">\n      <!-- 100 -->\n      <g style=\"fill: #262626\" transform=\"translate(266.922505 325.742969)scale(0.11 -0.11)\">\n       <defs>\n        <path id=\"ArialMT-31\" d=\"M 2384 0 \nL 1822 0 \nL 1822 3584 \nQ 1619 3391 1289 3197 \nQ 959 3003 697 2906 \nL 697 3450 \nQ 1169 3672 1522 3987 \nQ 1875 4303 2022 4600 \nL 2384 4600 \nL 2384 0 \nz\n\" transform=\"scale(0.015625)\"/>\n       </defs>\n       <use xlink:href=\"#ArialMT-31\"/>\n       <use xlink:href=\"#ArialMT-30\" x=\"55.615234\"/>\n       <use xlink:href=\"#ArialMT-30\" x=\"111.230469\"/>\n      </g>\n     </g>\n    </g>\n    <g id=\"xtick_4\">\n     <g id=\"line2d_4\">\n      <path d=\"M 375.703555 308.369375 \nL 375.703555 21.789375 \n\" clip-path=\"url(#p52cde391a5)\" style=\"fill: none; stroke: #ffffff; stroke-linecap: round\"/>\n     </g>\n     <g id=\"text_4\">\n      <!-- 150 -->\n      <g style=\"fill: #262626\" transform=\"translate(366.528008 325.742969)scale(0.11 -0.11)\">\n       <use xlink:href=\"#ArialMT-31\"/>\n       <use xlink:href=\"#ArialMT-35\" x=\"55.615234\"/>\n       <use xlink:href=\"#ArialMT-30\" x=\"111.230469\"/>\n      </g>\n     </g>\n    </g>\n    <g id=\"xtick_5\">\n     <g id=\"line2d_5\">\n      <path d=\"M 475.309058 308.369375 \nL 475.309058 21.789375 \n\" clip-path=\"url(#p52cde391a5)\" style=\"fill: none; stroke: #ffffff; stroke-linecap: round\"/>\n     </g>\n     <g id=\"text_5\">\n      <!-- 200 -->\n      <g style=\"fill: #262626\" transform=\"translate(466.133511 325.742969)scale(0.11 -0.11)\">\n       <defs>\n        <path id=\"ArialMT-32\" d=\"M 3222 541 \nL 3222 0 \nL 194 0 \nQ 188 203 259 391 \nQ 375 700 629 1000 \nQ 884 1300 1366 1694 \nQ 2113 2306 2375 2664 \nQ 2638 3022 2638 3341 \nQ 2638 3675 2398 3904 \nQ 2159 4134 1775 4134 \nQ 1369 4134 1125 3890 \nQ 881 3647 878 3216 \nL 300 3275 \nQ 359 3922 746 4261 \nQ 1134 4600 1788 4600 \nQ 2447 4600 2831 4234 \nQ 3216 3869 3216 3328 \nQ 3216 3053 3103 2787 \nQ 2991 2522 2730 2228 \nQ 2469 1934 1863 1422 \nQ 1356 997 1212 845 \nQ 1069 694 975 541 \nL 3222 541 \nz\n\" transform=\"scale(0.015625)\"/>\n       </defs>\n       <use xlink:href=\"#ArialMT-32\"/>\n       <use xlink:href=\"#ArialMT-30\" x=\"55.615234\"/>\n       <use xlink:href=\"#ArialMT-30\" x=\"111.230469\"/>\n      </g>\n     </g>\n    </g>\n    <g id=\"xtick_6\">\n     <g id=\"line2d_6\">\n      <path d=\"M 574.914561 308.369375 \nL 574.914561 21.789375 \n\" clip-path=\"url(#p52cde391a5)\" style=\"fill: none; stroke: #ffffff; stroke-linecap: round\"/>\n     </g>\n     <g id=\"text_6\">\n      <!-- 250 -->\n      <g style=\"fill: #262626\" transform=\"translate(565.739015 325.742969)scale(0.11 -0.11)\">\n       <use xlink:href=\"#ArialMT-32\"/>\n       <use xlink:href=\"#ArialMT-35\" x=\"55.615234\"/>\n       <use xlink:href=\"#ArialMT-30\" x=\"111.230469\"/>\n      </g>\n     </g>\n    </g>\n    <g id=\"xtick_7\">\n     <g id=\"line2d_7\">\n      <path d=\"M 674.520065 308.369375 \nL 674.520065 21.789375 \n\" clip-path=\"url(#p52cde391a5)\" style=\"fill: none; stroke: #ffffff; stroke-linecap: round\"/>\n     </g>\n     <g id=\"text_7\">\n      <!-- 300 -->\n      <g style=\"fill: #262626\" transform=\"translate(665.344518 325.742969)scale(0.11 -0.11)\">\n       <defs>\n        <path id=\"ArialMT-33\" d=\"M 269 1209 \nL 831 1284 \nQ 928 806 1161 595 \nQ 1394 384 1728 384 \nQ 2125 384 2398 659 \nQ 2672 934 2672 1341 \nQ 2672 1728 2419 1979 \nQ 2166 2231 1775 2231 \nQ 1616 2231 1378 2169 \nL 1441 2663 \nQ 1497 2656 1531 2656 \nQ 1891 2656 2178 2843 \nQ 2466 3031 2466 3422 \nQ 2466 3731 2256 3934 \nQ 2047 4138 1716 4138 \nQ 1388 4138 1169 3931 \nQ 950 3725 888 3313 \nL 325 3413 \nQ 428 3978 793 4289 \nQ 1159 4600 1703 4600 \nQ 2078 4600 2393 4439 \nQ 2709 4278 2876 4000 \nQ 3044 3722 3044 3409 \nQ 3044 3113 2884 2869 \nQ 2725 2625 2413 2481 \nQ 2819 2388 3044 2092 \nQ 3269 1797 3269 1353 \nQ 3269 753 2831 336 \nQ 2394 -81 1725 -81 \nQ 1122 -81 723 278 \nQ 325 638 269 1209 \nz\n\" transform=\"scale(0.015625)\"/>\n       </defs>\n       <use xlink:href=\"#ArialMT-33\"/>\n       <use xlink:href=\"#ArialMT-30\" x=\"55.615234\"/>\n       <use xlink:href=\"#ArialMT-30\" x=\"111.230469\"/>\n      </g>\n     </g>\n    </g>\n    <g id=\"text_8\">\n     <!-- Epochs -->\n     <g style=\"fill: #262626\" transform=\"translate(354.695625 340.518594)scale(0.12 -0.12)\">\n      <defs>\n       <path id=\"ArialMT-45\" d=\"M 506 0 \nL 506 4581 \nL 3819 4581 \nL 3819 4041 \nL 1113 4041 \nL 1113 2638 \nL 3647 2638 \nL 3647 2100 \nL 1113 2100 \nL 1113 541 \nL 3925 541 \nL 3925 0 \nL 506 0 \nz\n\" transform=\"scale(0.015625)\"/>\n       <path id=\"ArialMT-70\" d=\"M 422 -1272 \nL 422 3319 \nL 934 3319 \nL 934 2888 \nQ 1116 3141 1344 3267 \nQ 1572 3394 1897 3394 \nQ 2322 3394 2647 3175 \nQ 2972 2956 3137 2557 \nQ 3303 2159 3303 1684 \nQ 3303 1175 3120 767 \nQ 2938 359 2589 142 \nQ 2241 -75 1856 -75 \nQ 1575 -75 1351 44 \nQ 1128 163 984 344 \nL 984 -1272 \nL 422 -1272 \nz\nM 931 1641 \nQ 931 1000 1190 694 \nQ 1450 388 1819 388 \nQ 2194 388 2461 705 \nQ 2728 1022 2728 1688 \nQ 2728 2322 2467 2637 \nQ 2206 2953 1844 2953 \nQ 1484 2953 1207 2617 \nQ 931 2281 931 1641 \nz\n\" transform=\"scale(0.015625)\"/>\n       <path id=\"ArialMT-6f\" d=\"M 213 1659 \nQ 213 2581 725 3025 \nQ 1153 3394 1769 3394 \nQ 2453 3394 2887 2945 \nQ 3322 2497 3322 1706 \nQ 3322 1066 3130 698 \nQ 2938 331 2570 128 \nQ 2203 -75 1769 -75 \nQ 1072 -75 642 372 \nQ 213 819 213 1659 \nz\nM 791 1659 \nQ 791 1022 1069 705 \nQ 1347 388 1769 388 \nQ 2188 388 2466 706 \nQ 2744 1025 2744 1678 \nQ 2744 2294 2464 2611 \nQ 2184 2928 1769 2928 \nQ 1347 2928 1069 2612 \nQ 791 2297 791 1659 \nz\n\" transform=\"scale(0.015625)\"/>\n       <path id=\"ArialMT-63\" d=\"M 2588 1216 \nL 3141 1144 \nQ 3050 572 2676 248 \nQ 2303 -75 1759 -75 \nQ 1078 -75 664 370 \nQ 250 816 250 1647 \nQ 250 2184 428 2587 \nQ 606 2991 970 3192 \nQ 1334 3394 1763 3394 \nQ 2303 3394 2647 3120 \nQ 2991 2847 3088 2344 \nL 2541 2259 \nQ 2463 2594 2264 2762 \nQ 2066 2931 1784 2931 \nQ 1359 2931 1093 2626 \nQ 828 2322 828 1663 \nQ 828 994 1084 691 \nQ 1341 388 1753 388 \nQ 2084 388 2306 591 \nQ 2528 794 2588 1216 \nz\n\" transform=\"scale(0.015625)\"/>\n       <path id=\"ArialMT-68\" d=\"M 422 0 \nL 422 4581 \nL 984 4581 \nL 984 2938 \nQ 1378 3394 1978 3394 \nQ 2347 3394 2619 3248 \nQ 2891 3103 3008 2847 \nQ 3125 2591 3125 2103 \nL 3125 0 \nL 2563 0 \nL 2563 2103 \nQ 2563 2525 2380 2717 \nQ 2197 2909 1863 2909 \nQ 1613 2909 1392 2779 \nQ 1172 2650 1078 2428 \nQ 984 2206 984 1816 \nL 984 0 \nL 422 0 \nz\n\" transform=\"scale(0.015625)\"/>\n       <path id=\"ArialMT-73\" d=\"M 197 991 \nL 753 1078 \nQ 800 744 1014 566 \nQ 1228 388 1613 388 \nQ 2000 388 2187 545 \nQ 2375 703 2375 916 \nQ 2375 1106 2209 1216 \nQ 2094 1291 1634 1406 \nQ 1016 1563 777 1677 \nQ 538 1791 414 1992 \nQ 291 2194 291 2438 \nQ 291 2659 392 2848 \nQ 494 3038 669 3163 \nQ 800 3259 1026 3326 \nQ 1253 3394 1513 3394 \nQ 1903 3394 2198 3281 \nQ 2494 3169 2634 2976 \nQ 2775 2784 2828 2463 \nL 2278 2388 \nQ 2241 2644 2061 2787 \nQ 1881 2931 1553 2931 \nQ 1166 2931 1000 2803 \nQ 834 2675 834 2503 \nQ 834 2394 903 2306 \nQ 972 2216 1119 2156 \nQ 1203 2125 1616 2013 \nQ 2213 1853 2448 1751 \nQ 2684 1650 2818 1456 \nQ 2953 1263 2953 975 \nQ 2953 694 2789 445 \nQ 2625 197 2315 61 \nQ 2006 -75 1616 -75 \nQ 969 -75 630 194 \nQ 291 463 197 991 \nz\n\" transform=\"scale(0.015625)\"/>\n      </defs>\n      <use xlink:href=\"#ArialMT-45\"/>\n      <use xlink:href=\"#ArialMT-70\" x=\"66.699219\"/>\n      <use xlink:href=\"#ArialMT-6f\" x=\"122.314453\"/>\n      <use xlink:href=\"#ArialMT-63\" x=\"177.929688\"/>\n      <use xlink:href=\"#ArialMT-68\" x=\"227.929688\"/>\n      <use xlink:href=\"#ArialMT-73\" x=\"283.544922\"/>\n     </g>\n    </g>\n   </g>\n   <g id=\"matplotlib.axis_2\">\n    <g id=\"ytick_1\">\n     <g id=\"line2d_8\">\n      <path d=\"M 47.105 295.004978 \nL 702.31 295.004978 \n\" clip-path=\"url(#p52cde391a5)\" style=\"fill: none; stroke: #ffffff; stroke-linecap: round\"/>\n     </g>\n     <g id=\"text_9\">\n      <!-- 0.2 -->\n      <g style=\"fill: #262626\" transform=\"translate(22.315 298.941775)scale(0.11 -0.11)\">\n       <defs>\n        <path id=\"ArialMT-2e\" d=\"M 581 0 \nL 581 641 \nL 1222 641 \nL 1222 0 \nL 581 0 \nz\n\" transform=\"scale(0.015625)\"/>\n       </defs>\n       <use xlink:href=\"#ArialMT-30\"/>\n       <use xlink:href=\"#ArialMT-2e\" x=\"55.615234\"/>\n       <use xlink:href=\"#ArialMT-32\" x=\"83.398438\"/>\n      </g>\n     </g>\n    </g>\n    <g id=\"ytick_2\">\n     <g id=\"line2d_9\">\n      <path d=\"M 47.105 262.481323 \nL 702.31 262.481323 \n\" clip-path=\"url(#p52cde391a5)\" style=\"fill: none; stroke: #ffffff; stroke-linecap: round\"/>\n     </g>\n     <g id=\"text_10\">\n      <!-- 0.3 -->\n      <g style=\"fill: #262626\" transform=\"translate(22.315 266.41812)scale(0.11 -0.11)\">\n       <use xlink:href=\"#ArialMT-30\"/>\n       <use xlink:href=\"#ArialMT-2e\" x=\"55.615234\"/>\n       <use xlink:href=\"#ArialMT-33\" x=\"83.398438\"/>\n      </g>\n     </g>\n    </g>\n    <g id=\"ytick_3\">\n     <g id=\"line2d_10\">\n      <path d=\"M 47.105 229.957668 \nL 702.31 229.957668 \n\" clip-path=\"url(#p52cde391a5)\" style=\"fill: none; stroke: #ffffff; stroke-linecap: round\"/>\n     </g>\n     <g id=\"text_11\">\n      <!-- 0.4 -->\n      <g style=\"fill: #262626\" transform=\"translate(22.315 233.894465)scale(0.11 -0.11)\">\n       <defs>\n        <path id=\"ArialMT-34\" d=\"M 2069 0 \nL 2069 1097 \nL 81 1097 \nL 81 1613 \nL 2172 4581 \nL 2631 4581 \nL 2631 1613 \nL 3250 1613 \nL 3250 1097 \nL 2631 1097 \nL 2631 0 \nL 2069 0 \nz\nM 2069 1613 \nL 2069 3678 \nL 634 1613 \nL 2069 1613 \nz\n\" transform=\"scale(0.015625)\"/>\n       </defs>\n       <use xlink:href=\"#ArialMT-30\"/>\n       <use xlink:href=\"#ArialMT-2e\" x=\"55.615234\"/>\n       <use xlink:href=\"#ArialMT-34\" x=\"83.398438\"/>\n      </g>\n     </g>\n    </g>\n    <g id=\"ytick_4\">\n     <g id=\"line2d_11\">\n      <path d=\"M 47.105 197.434013 \nL 702.31 197.434013 \n\" clip-path=\"url(#p52cde391a5)\" style=\"fill: none; stroke: #ffffff; stroke-linecap: round\"/>\n     </g>\n     <g id=\"text_12\">\n      <!-- 0.5 -->\n      <g style=\"fill: #262626\" transform=\"translate(22.315 201.37081)scale(0.11 -0.11)\">\n       <use xlink:href=\"#ArialMT-30\"/>\n       <use xlink:href=\"#ArialMT-2e\" x=\"55.615234\"/>\n       <use xlink:href=\"#ArialMT-35\" x=\"83.398438\"/>\n      </g>\n     </g>\n    </g>\n    <g id=\"ytick_5\">\n     <g id=\"line2d_12\">\n      <path d=\"M 47.105 164.910358 \nL 702.31 164.910358 \n\" clip-path=\"url(#p52cde391a5)\" style=\"fill: none; stroke: #ffffff; stroke-linecap: round\"/>\n     </g>\n     <g id=\"text_13\">\n      <!-- 0.6 -->\n      <g style=\"fill: #262626\" transform=\"translate(22.315 168.847155)scale(0.11 -0.11)\">\n       <defs>\n        <path id=\"ArialMT-36\" d=\"M 3184 3459 \nL 2625 3416 \nQ 2550 3747 2413 3897 \nQ 2184 4138 1850 4138 \nQ 1581 4138 1378 3988 \nQ 1113 3794 959 3422 \nQ 806 3050 800 2363 \nQ 1003 2672 1297 2822 \nQ 1591 2972 1913 2972 \nQ 2475 2972 2870 2558 \nQ 3266 2144 3266 1488 \nQ 3266 1056 3080 686 \nQ 2894 316 2569 119 \nQ 2244 -78 1831 -78 \nQ 1128 -78 684 439 \nQ 241 956 241 2144 \nQ 241 3472 731 4075 \nQ 1159 4600 1884 4600 \nQ 2425 4600 2770 4297 \nQ 3116 3994 3184 3459 \nz\nM 888 1484 \nQ 888 1194 1011 928 \nQ 1134 663 1356 523 \nQ 1578 384 1822 384 \nQ 2178 384 2434 671 \nQ 2691 959 2691 1453 \nQ 2691 1928 2437 2201 \nQ 2184 2475 1800 2475 \nQ 1419 2475 1153 2201 \nQ 888 1928 888 1484 \nz\n\" transform=\"scale(0.015625)\"/>\n       </defs>\n       <use xlink:href=\"#ArialMT-30\"/>\n       <use xlink:href=\"#ArialMT-2e\" x=\"55.615234\"/>\n       <use xlink:href=\"#ArialMT-36\" x=\"83.398438\"/>\n      </g>\n     </g>\n    </g>\n    <g id=\"ytick_6\">\n     <g id=\"line2d_13\">\n      <path d=\"M 47.105 132.386703 \nL 702.31 132.386703 \n\" clip-path=\"url(#p52cde391a5)\" style=\"fill: none; stroke: #ffffff; stroke-linecap: round\"/>\n     </g>\n     <g id=\"text_14\">\n      <!-- 0.7 -->\n      <g style=\"fill: #262626\" transform=\"translate(22.315 136.3235)scale(0.11 -0.11)\">\n       <defs>\n        <path id=\"ArialMT-37\" d=\"M 303 3981 \nL 303 4522 \nL 3269 4522 \nL 3269 4084 \nQ 2831 3619 2401 2847 \nQ 1972 2075 1738 1259 \nQ 1569 684 1522 0 \nL 944 0 \nQ 953 541 1156 1306 \nQ 1359 2072 1739 2783 \nQ 2119 3494 2547 3981 \nL 303 3981 \nz\n\" transform=\"scale(0.015625)\"/>\n       </defs>\n       <use xlink:href=\"#ArialMT-30\"/>\n       <use xlink:href=\"#ArialMT-2e\" x=\"55.615234\"/>\n       <use xlink:href=\"#ArialMT-37\" x=\"83.398438\"/>\n      </g>\n     </g>\n    </g>\n    <g id=\"ytick_7\">\n     <g id=\"line2d_14\">\n      <path d=\"M 47.105 99.863048 \nL 702.31 99.863048 \n\" clip-path=\"url(#p52cde391a5)\" style=\"fill: none; stroke: #ffffff; stroke-linecap: round\"/>\n     </g>\n     <g id=\"text_15\">\n      <!-- 0.8 -->\n      <g style=\"fill: #262626\" transform=\"translate(22.315 103.799845)scale(0.11 -0.11)\">\n       <defs>\n        <path id=\"ArialMT-38\" d=\"M 1131 2484 \nQ 781 2613 612 2850 \nQ 444 3088 444 3419 \nQ 444 3919 803 4259 \nQ 1163 4600 1759 4600 \nQ 2359 4600 2725 4251 \nQ 3091 3903 3091 3403 \nQ 3091 3084 2923 2848 \nQ 2756 2613 2416 2484 \nQ 2838 2347 3058 2040 \nQ 3278 1734 3278 1309 \nQ 3278 722 2862 322 \nQ 2447 -78 1769 -78 \nQ 1091 -78 675 323 \nQ 259 725 259 1325 \nQ 259 1772 486 2073 \nQ 713 2375 1131 2484 \nz\nM 1019 3438 \nQ 1019 3113 1228 2906 \nQ 1438 2700 1772 2700 \nQ 2097 2700 2305 2904 \nQ 2513 3109 2513 3406 \nQ 2513 3716 2298 3927 \nQ 2084 4138 1766 4138 \nQ 1444 4138 1231 3931 \nQ 1019 3725 1019 3438 \nz\nM 838 1322 \nQ 838 1081 952 856 \nQ 1066 631 1291 507 \nQ 1516 384 1775 384 \nQ 2178 384 2440 643 \nQ 2703 903 2703 1303 \nQ 2703 1709 2433 1975 \nQ 2163 2241 1756 2241 \nQ 1359 2241 1098 1978 \nQ 838 1716 838 1322 \nz\n\" transform=\"scale(0.015625)\"/>\n       </defs>\n       <use xlink:href=\"#ArialMT-30\"/>\n       <use xlink:href=\"#ArialMT-2e\" x=\"55.615234\"/>\n       <use xlink:href=\"#ArialMT-38\" x=\"83.398438\"/>\n      </g>\n     </g>\n    </g>\n    <g id=\"ytick_8\">\n     <g id=\"line2d_15\">\n      <path d=\"M 47.105 67.339394 \nL 702.31 67.339394 \n\" clip-path=\"url(#p52cde391a5)\" style=\"fill: none; stroke: #ffffff; stroke-linecap: round\"/>\n     </g>\n     <g id=\"text_16\">\n      <!-- 0.9 -->\n      <g style=\"fill: #262626\" transform=\"translate(22.315 71.27619)scale(0.11 -0.11)\">\n       <defs>\n        <path id=\"ArialMT-39\" d=\"M 350 1059 \nL 891 1109 \nQ 959 728 1153 556 \nQ 1347 384 1650 384 \nQ 1909 384 2104 503 \nQ 2300 622 2425 820 \nQ 2550 1019 2634 1356 \nQ 2719 1694 2719 2044 \nQ 2719 2081 2716 2156 \nQ 2547 1888 2255 1720 \nQ 1963 1553 1622 1553 \nQ 1053 1553 659 1965 \nQ 266 2378 266 3053 \nQ 266 3750 677 4175 \nQ 1088 4600 1706 4600 \nQ 2153 4600 2523 4359 \nQ 2894 4119 3086 3673 \nQ 3278 3228 3278 2384 \nQ 3278 1506 3087 986 \nQ 2897 466 2520 194 \nQ 2144 -78 1638 -78 \nQ 1100 -78 759 220 \nQ 419 519 350 1059 \nz\nM 2653 3081 \nQ 2653 3566 2395 3850 \nQ 2138 4134 1775 4134 \nQ 1400 4134 1122 3828 \nQ 844 3522 844 3034 \nQ 844 2597 1108 2323 \nQ 1372 2050 1759 2050 \nQ 2150 2050 2401 2323 \nQ 2653 2597 2653 3081 \nz\n\" transform=\"scale(0.015625)\"/>\n       </defs>\n       <use xlink:href=\"#ArialMT-30\"/>\n       <use xlink:href=\"#ArialMT-2e\" x=\"55.615234\"/>\n       <use xlink:href=\"#ArialMT-39\" x=\"83.398438\"/>\n      </g>\n     </g>\n    </g>\n    <g id=\"ytick_9\">\n     <g id=\"line2d_16\">\n      <path d=\"M 47.105 34.815739 \nL 702.31 34.815739 \n\" clip-path=\"url(#p52cde391a5)\" style=\"fill: none; stroke: #ffffff; stroke-linecap: round\"/>\n     </g>\n     <g id=\"text_17\">\n      <!-- 1.0 -->\n      <g style=\"fill: #262626\" transform=\"translate(22.315 38.752536)scale(0.11 -0.11)\">\n       <use xlink:href=\"#ArialMT-31\"/>\n       <use xlink:href=\"#ArialMT-2e\" x=\"55.615234\"/>\n       <use xlink:href=\"#ArialMT-30\" x=\"83.398438\"/>\n      </g>\n     </g>\n    </g>\n    <g id=\"text_18\">\n     <!-- Accuracy -->\n     <g style=\"fill: #262626\" transform=\"translate(15.789375 189.7525)rotate(-90)scale(0.12 -0.12)\">\n      <defs>\n       <path id=\"ArialMT-41\" d=\"M -9 0 \nL 1750 4581 \nL 2403 4581 \nL 4278 0 \nL 3588 0 \nL 3053 1388 \nL 1138 1388 \nL 634 0 \nL -9 0 \nz\nM 1313 1881 \nL 2866 1881 \nL 2388 3150 \nQ 2169 3728 2063 4100 \nQ 1975 3659 1816 3225 \nL 1313 1881 \nz\n\" transform=\"scale(0.015625)\"/>\n       <path id=\"ArialMT-75\" d=\"M 2597 0 \nL 2597 488 \nQ 2209 -75 1544 -75 \nQ 1250 -75 995 37 \nQ 741 150 617 320 \nQ 494 491 444 738 \nQ 409 903 409 1263 \nL 409 3319 \nL 972 3319 \nL 972 1478 \nQ 972 1038 1006 884 \nQ 1059 663 1231 536 \nQ 1403 409 1656 409 \nQ 1909 409 2131 539 \nQ 2353 669 2445 892 \nQ 2538 1116 2538 1541 \nL 2538 3319 \nL 3100 3319 \nL 3100 0 \nL 2597 0 \nz\n\" transform=\"scale(0.015625)\"/>\n       <path id=\"ArialMT-72\" d=\"M 416 0 \nL 416 3319 \nL 922 3319 \nL 922 2816 \nQ 1116 3169 1280 3281 \nQ 1444 3394 1641 3394 \nQ 1925 3394 2219 3213 \nL 2025 2691 \nQ 1819 2813 1613 2813 \nQ 1428 2813 1281 2702 \nQ 1134 2591 1072 2394 \nQ 978 2094 978 1738 \nL 978 0 \nL 416 0 \nz\n\" transform=\"scale(0.015625)\"/>\n       <path id=\"ArialMT-61\" d=\"M 2588 409 \nQ 2275 144 1986 34 \nQ 1697 -75 1366 -75 \nQ 819 -75 525 192 \nQ 231 459 231 875 \nQ 231 1119 342 1320 \nQ 453 1522 633 1644 \nQ 813 1766 1038 1828 \nQ 1203 1872 1538 1913 \nQ 2219 1994 2541 2106 \nQ 2544 2222 2544 2253 \nQ 2544 2597 2384 2738 \nQ 2169 2928 1744 2928 \nQ 1347 2928 1158 2789 \nQ 969 2650 878 2297 \nL 328 2372 \nQ 403 2725 575 2942 \nQ 747 3159 1072 3276 \nQ 1397 3394 1825 3394 \nQ 2250 3394 2515 3294 \nQ 2781 3194 2906 3042 \nQ 3031 2891 3081 2659 \nQ 3109 2516 3109 2141 \nL 3109 1391 \nQ 3109 606 3145 398 \nQ 3181 191 3288 0 \nL 2700 0 \nQ 2613 175 2588 409 \nz\nM 2541 1666 \nQ 2234 1541 1622 1453 \nQ 1275 1403 1131 1340 \nQ 988 1278 909 1158 \nQ 831 1038 831 891 \nQ 831 666 1001 516 \nQ 1172 366 1500 366 \nQ 1825 366 2078 508 \nQ 2331 650 2450 897 \nQ 2541 1088 2541 1459 \nL 2541 1666 \nz\n\" transform=\"scale(0.015625)\"/>\n       <path id=\"ArialMT-79\" d=\"M 397 -1278 \nL 334 -750 \nQ 519 -800 656 -800 \nQ 844 -800 956 -737 \nQ 1069 -675 1141 -563 \nQ 1194 -478 1313 -144 \nQ 1328 -97 1363 -6 \nL 103 3319 \nL 709 3319 \nL 1400 1397 \nQ 1534 1031 1641 628 \nQ 1738 1016 1872 1384 \nL 2581 3319 \nL 3144 3319 \nL 1881 -56 \nQ 1678 -603 1566 -809 \nQ 1416 -1088 1222 -1217 \nQ 1028 -1347 759 -1347 \nQ 597 -1347 397 -1278 \nz\n\" transform=\"scale(0.015625)\"/>\n      </defs>\n      <use xlink:href=\"#ArialMT-41\"/>\n      <use xlink:href=\"#ArialMT-63\" x=\"66.699219\"/>\n      <use xlink:href=\"#ArialMT-63\" x=\"116.699219\"/>\n      <use xlink:href=\"#ArialMT-75\" x=\"166.699219\"/>\n      <use xlink:href=\"#ArialMT-72\" x=\"222.314453\"/>\n      <use xlink:href=\"#ArialMT-61\" x=\"255.615234\"/>\n      <use xlink:href=\"#ArialMT-63\" x=\"311.230469\"/>\n      <use xlink:href=\"#ArialMT-79\" x=\"361.230469\"/>\n     </g>\n    </g>\n   </g>\n   <g id=\"line2d_17\">\n    <path d=\"M 76.887045 295.343011 \nL 78.879156 238.360216 \nL 84.855486 135.259988 \nL 86.847596 105.802781 \nL 90.831816 80.933171 \nL 92.823926 76.828478 \nL 94.816036 71.516522 \nL 96.808146 61.616969 \nL 98.800256 59.685349 \nL 100.792366 54.131941 \nL 102.784476 52.683225 \nL 104.776586 56.305013 \nL 106.768696 51.475963 \nL 108.760806 48.095627 \nL 110.752917 47.854175 \nL 112.745027 48.578532 \nL 114.737137 46.40546 \nL 116.729247 47.37127 \nL 118.721357 48.578532 \nL 120.713467 44.47384 \nL 122.705577 50.751605 \nL 124.697687 45.681102 \nL 126.689797 44.956745 \nL 128.681907 41.576409 \nL 130.674017 41.817862 \nL 132.666127 39.886242 \nL 134.658237 40.369147 \nL 136.650347 39.403337 \nL 138.642457 40.852052 \nL 140.634567 40.127694 \nL 142.626678 45.43965 \nL 144.618788 38.920432 \nL 146.610898 39.403337 \nL 148.603008 38.196074 \nL 150.595118 38.437526 \nL 152.587228 39.161884 \nL 154.579338 38.437526 \nL 156.571448 37.230264 \nL 158.563558 37.713169 \nL 160.555668 38.437526 \nL 162.547778 37.230264 \nL 164.539888 37.230264 \nL 166.531998 36.505906 \nL 168.524108 36.264454 \nL 170.516218 38.196074 \nL 172.508329 36.264454 \nL 174.500439 36.264454 \nL 176.492549 36.505906 \nL 178.484659 36.023001 \nL 180.476769 35.781549 \nL 182.468879 36.264454 \nL 184.460989 36.505906 \nL 186.453099 35.781549 \nL 188.445209 35.540096 \nL 190.437319 36.505906 \nL 192.429429 35.540096 \nL 194.421539 35.298644 \nL 196.413649 35.781549 \nL 198.405759 35.781549 \nL 200.397869 35.540096 \nL 202.389979 35.540096 \nL 204.38209 36.023001 \nL 206.3742 35.298644 \nL 208.36631 35.057191 \nL 210.35842 35.057191 \nL 212.35053 34.815739 \nL 214.34264 35.057191 \nL 218.32686 35.057191 \nL 220.31897 34.815739 \nL 672.527955 34.815739 \nL 672.527955 34.815739 \n\" clip-path=\"url(#p52cde391a5)\" style=\"fill: none; stroke: #4c72b0; stroke-width: 1.5; stroke-linecap: round\"/>\n   </g>\n   <g id=\"line2d_18\">\n    <path d=\"M 76.887045 291.391238 \nL 78.879156 230.680416 \nL 80.871266 197.434013 \nL 82.863376 162.019367 \nL 84.855486 128.772964 \nL 86.847596 105.645032 \nL 88.839706 95.526561 \nL 90.831816 81.071603 \nL 92.823926 78.90336 \nL 94.816036 73.121377 \nL 98.800256 65.893898 \nL 100.792366 63.725654 \nL 102.784476 63.002906 \nL 104.776586 63.002906 \nL 106.768696 60.834663 \nL 108.760806 55.775427 \nL 110.752917 60.111915 \nL 112.745027 56.498175 \nL 114.737137 56.498175 \nL 116.729247 55.775427 \nL 118.721357 56.498175 \nL 120.713467 52.161688 \nL 122.705577 57.220923 \nL 124.697687 53.607184 \nL 126.689797 54.329932 \nL 128.681907 51.43894 \nL 130.674017 53.607184 \nL 132.666127 51.43894 \nL 134.658237 52.161688 \nL 136.650347 49.993444 \nL 138.642457 49.270696 \nL 140.634567 55.775427 \nL 142.626678 50.716192 \nL 144.618788 47.825201 \nL 146.610898 48.547948 \nL 148.603008 48.547948 \nL 150.595118 49.270696 \nL 152.587228 49.270696 \nL 154.579338 50.716192 \nL 156.571448 48.547948 \nL 158.563558 48.547948 \nL 160.555668 49.270696 \nL 162.547778 47.825201 \nL 166.531998 49.270696 \nL 168.524108 49.270696 \nL 170.516218 50.716192 \nL 172.508329 47.825201 \nL 174.500439 47.825201 \nL 176.492549 49.993444 \nL 178.484659 48.547948 \nL 180.476769 50.716192 \nL 182.468879 49.993444 \nL 184.460989 45.656957 \nL 186.453099 48.547948 \nL 188.445209 47.825201 \nL 190.437319 48.547948 \nL 192.429429 47.102453 \nL 194.421539 48.547948 \nL 196.413649 47.102453 \nL 198.405759 47.825201 \nL 200.397869 47.102453 \nL 204.38209 47.102453 \nL 206.3742 48.547948 \nL 208.36631 45.656957 \nL 210.35842 47.825201 \nL 212.35053 46.379705 \nL 222.31108 46.379705 \nL 224.30319 47.102453 \nL 226.2953 46.379705 \nL 228.28741 47.102453 \nL 230.27952 46.379705 \nL 232.27163 47.102453 \nL 234.26374 47.102453 \nL 236.255851 46.379705 \nL 238.247961 47.102453 \nL 240.240071 45.656957 \nL 242.232181 46.379705 \nL 250.200621 46.379705 \nL 252.192731 45.656957 \nL 254.184841 46.379705 \nL 256.176951 45.656957 \nL 258.169061 46.379705 \nL 262.153281 46.379705 \nL 264.145391 47.102453 \nL 266.137502 44.211461 \nL 268.129612 46.379705 \nL 270.121722 44.934209 \nL 272.113832 46.379705 \nL 274.105942 45.656957 \nL 276.098052 44.211461 \nL 278.090162 44.934209 \nL 280.082272 47.102453 \nL 282.074382 45.656957 \nL 284.066492 46.379705 \nL 286.058602 45.656957 \nL 288.050712 45.656957 \nL 290.042822 46.379705 \nL 292.034932 46.379705 \nL 294.027042 44.934209 \nL 296.019152 46.379705 \nL 298.011263 45.656957 \nL 300.003373 45.656957 \nL 301.995483 46.379705 \nL 303.987593 46.379705 \nL 305.979703 45.656957 \nL 307.971813 47.102453 \nL 311.956033 45.656957 \nL 313.948143 45.656957 \nL 315.940253 46.379705 \nL 319.924473 44.934209 \nL 323.908693 46.379705 \nL 325.900803 46.379705 \nL 329.885024 44.934209 \nL 333.869244 44.934209 \nL 335.861354 44.211461 \nL 337.853464 45.656957 \nL 343.829794 45.656957 \nL 345.821904 46.379705 \nL 347.814014 44.934209 \nL 349.806124 44.934209 \nL 351.798234 45.656957 \nL 353.790344 44.211461 \nL 355.782454 45.656957 \nL 359.766675 44.211461 \nL 361.758785 44.934209 \nL 363.750895 44.934209 \nL 365.743005 45.656957 \nL 367.735115 45.656957 \nL 369.727225 44.934209 \nL 373.711445 46.379705 \nL 375.703555 44.934209 \nL 377.695665 44.934209 \nL 379.687775 45.656957 \nL 381.679885 44.934209 \nL 383.671995 45.656957 \nL 385.664105 45.656957 \nL 389.648325 44.211461 \nL 391.640436 46.379705 \nL 393.632546 45.656957 \nL 395.624656 44.211461 \nL 397.616766 45.656957 \nL 399.608876 44.934209 \nL 401.600986 45.656957 \nL 403.593096 44.934209 \nL 409.569426 44.934209 \nL 411.561536 46.379705 \nL 413.553646 45.656957 \nL 415.545756 44.211461 \nL 417.537866 45.656957 \nL 419.529976 44.934209 \nL 421.522087 46.379705 \nL 423.514197 44.934209 \nL 425.506307 45.656957 \nL 427.498417 45.656957 \nL 429.490527 44.211461 \nL 431.482637 45.656957 \nL 433.474747 44.211461 \nL 435.466857 44.934209 \nL 437.458967 44.934209 \nL 439.451077 45.656957 \nL 441.443187 44.211461 \nL 443.435297 44.934209 \nL 449.411627 44.934209 \nL 451.403737 45.656957 \nL 455.387958 44.211461 \nL 457.380068 46.379705 \nL 459.372178 44.211461 \nL 463.356398 45.656957 \nL 465.348508 45.656957 \nL 467.340618 44.934209 \nL 471.324838 44.934209 \nL 473.316948 45.656957 \nL 475.309058 45.656957 \nL 479.293278 44.211461 \nL 481.285388 44.934209 \nL 483.277498 44.934209 \nL 485.269609 44.211461 \nL 489.253829 45.656957 \nL 491.245939 45.656957 \nL 493.238049 44.211461 \nL 495.230159 44.934209 \nL 497.222269 44.211461 \nL 499.214379 44.934209 \nL 503.198599 44.934209 \nL 505.190709 45.656957 \nL 507.182819 44.934209 \nL 515.15126 44.934209 \nL 517.14337 44.211461 \nL 519.13548 44.934209 \nL 521.12759 44.934209 \nL 523.1197 44.211461 \nL 525.11181 44.934209 \nL 541.04869 44.934209 \nL 543.0408 44.211461 \nL 545.03291 44.934209 \nL 547.025021 44.934209 \nL 549.017131 44.211461 \nL 551.009241 45.656957 \nL 553.001351 44.934209 \nL 554.993461 44.934209 \nL 556.985571 44.211461 \nL 558.977681 44.934209 \nL 560.969791 44.934209 \nL 562.961901 44.211461 \nL 564.954011 44.211461 \nL 566.946121 44.934209 \nL 568.938231 44.211461 \nL 570.930341 44.934209 \nL 572.922451 44.934209 \nL 574.914561 44.211461 \nL 576.906671 44.934209 \nL 596.827772 44.934209 \nL 598.819882 44.211461 \nL 600.811992 44.934209 \nL 602.804102 44.211461 \nL 604.796212 44.934209 \nL 622.725203 44.934209 \nL 624.717313 44.211461 \nL 626.709423 44.934209 \nL 632.685753 44.934209 \nL 634.677863 44.211461 \nL 636.669973 44.934209 \nL 648.622634 44.934209 \nL 650.614744 44.211461 \nL 652.606854 44.934209 \nL 658.583184 44.934209 \nL 660.575294 44.211461 \nL 662.567404 44.211461 \nL 664.559514 44.934209 \nL 670.535844 44.934209 \nL 672.527955 44.211461 \nL 672.527955 44.211461 \n\" clip-path=\"url(#p52cde391a5)\" style=\"fill: none; stroke: #dd8452; stroke-width: 1.5; stroke-linecap: round\"/>\n   </g>\n   <g id=\"patch_3\">\n    <path d=\"M 47.105 308.369375 \nL 47.105 21.789375 \n\" style=\"fill: none; stroke: #ffffff; stroke-width: 1.25; stroke-linejoin: miter; stroke-linecap: square\"/>\n   </g>\n   <g id=\"patch_4\">\n    <path d=\"M 702.31 308.369375 \nL 702.31 21.789375 \n\" style=\"fill: none; stroke: #ffffff; stroke-width: 1.25; stroke-linejoin: miter; stroke-linecap: square\"/>\n   </g>\n   <g id=\"patch_5\">\n    <path d=\"M 47.105 308.369375 \nL 702.31 308.369375 \n\" style=\"fill: none; stroke: #ffffff; stroke-width: 1.25; stroke-linejoin: miter; stroke-linecap: square\"/>\n   </g>\n   <g id=\"patch_6\">\n    <path d=\"M 47.105 21.789375 \nL 702.31 21.789375 \n\" style=\"fill: none; stroke: #ffffff; stroke-width: 1.25; stroke-linejoin: miter; stroke-linecap: square\"/>\n   </g>\n   <g id=\"text_19\">\n    <!-- SGD + momentum -->\n    <g style=\"fill: #262626\" transform=\"translate(324.860625 15.789375)scale(0.12 -0.12)\">\n     <defs>\n      <path id=\"ArialMT-53\" d=\"M 288 1472 \nL 859 1522 \nQ 900 1178 1048 958 \nQ 1197 738 1509 602 \nQ 1822 466 2213 466 \nQ 2559 466 2825 569 \nQ 3091 672 3220 851 \nQ 3350 1031 3350 1244 \nQ 3350 1459 3225 1620 \nQ 3100 1781 2813 1891 \nQ 2628 1963 1997 2114 \nQ 1366 2266 1113 2400 \nQ 784 2572 623 2826 \nQ 463 3081 463 3397 \nQ 463 3744 659 4045 \nQ 856 4347 1234 4503 \nQ 1613 4659 2075 4659 \nQ 2584 4659 2973 4495 \nQ 3363 4331 3572 4012 \nQ 3781 3694 3797 3291 \nL 3216 3247 \nQ 3169 3681 2898 3903 \nQ 2628 4125 2100 4125 \nQ 1550 4125 1298 3923 \nQ 1047 3722 1047 3438 \nQ 1047 3191 1225 3031 \nQ 1400 2872 2139 2705 \nQ 2878 2538 3153 2413 \nQ 3553 2228 3743 1945 \nQ 3934 1663 3934 1294 \nQ 3934 928 3725 604 \nQ 3516 281 3123 101 \nQ 2731 -78 2241 -78 \nQ 1619 -78 1198 103 \nQ 778 284 539 648 \nQ 300 1013 288 1472 \nz\n\" transform=\"scale(0.015625)\"/>\n      <path id=\"ArialMT-47\" d=\"M 2638 1797 \nL 2638 2334 \nL 4578 2338 \nL 4578 638 \nQ 4131 281 3656 101 \nQ 3181 -78 2681 -78 \nQ 2006 -78 1454 211 \nQ 903 500 622 1047 \nQ 341 1594 341 2269 \nQ 341 2938 620 3517 \nQ 900 4097 1425 4378 \nQ 1950 4659 2634 4659 \nQ 3131 4659 3532 4498 \nQ 3934 4338 4162 4050 \nQ 4391 3763 4509 3300 \nL 3963 3150 \nQ 3859 3500 3706 3700 \nQ 3553 3900 3268 4020 \nQ 2984 4141 2638 4141 \nQ 2222 4141 1919 4014 \nQ 1616 3888 1430 3681 \nQ 1244 3475 1141 3228 \nQ 966 2803 966 2306 \nQ 966 1694 1177 1281 \nQ 1388 869 1791 669 \nQ 2194 469 2647 469 \nQ 3041 469 3416 620 \nQ 3791 772 3984 944 \nL 3984 1797 \nL 2638 1797 \nz\n\" transform=\"scale(0.015625)\"/>\n      <path id=\"ArialMT-44\" d=\"M 494 0 \nL 494 4581 \nL 2072 4581 \nQ 2606 4581 2888 4516 \nQ 3281 4425 3559 4188 \nQ 3922 3881 4101 3404 \nQ 4281 2928 4281 2316 \nQ 4281 1794 4159 1391 \nQ 4038 988 3847 723 \nQ 3656 459 3429 307 \nQ 3203 156 2883 78 \nQ 2563 0 2147 0 \nL 494 0 \nz\nM 1100 541 \nL 2078 541 \nQ 2531 541 2789 625 \nQ 3047 709 3200 863 \nQ 3416 1078 3536 1442 \nQ 3656 1806 3656 2325 \nQ 3656 3044 3420 3430 \nQ 3184 3816 2847 3947 \nQ 2603 4041 2063 4041 \nL 1100 4041 \nL 1100 541 \nz\n\" transform=\"scale(0.015625)\"/>\n      <path id=\"ArialMT-20\" transform=\"scale(0.015625)\"/>\n      <path id=\"ArialMT-2b\" d=\"M 1603 741 \nL 1603 1997 \nL 356 1997 \nL 356 2522 \nL 1603 2522 \nL 1603 3769 \nL 2134 3769 \nL 2134 2522 \nL 3381 2522 \nL 3381 1997 \nL 2134 1997 \nL 2134 741 \nL 1603 741 \nz\n\" transform=\"scale(0.015625)\"/>\n      <path id=\"ArialMT-6d\" d=\"M 422 0 \nL 422 3319 \nL 925 3319 \nL 925 2853 \nQ 1081 3097 1340 3245 \nQ 1600 3394 1931 3394 \nQ 2300 3394 2536 3241 \nQ 2772 3088 2869 2813 \nQ 3263 3394 3894 3394 \nQ 4388 3394 4653 3120 \nQ 4919 2847 4919 2278 \nL 4919 0 \nL 4359 0 \nL 4359 2091 \nQ 4359 2428 4304 2576 \nQ 4250 2725 4106 2815 \nQ 3963 2906 3769 2906 \nQ 3419 2906 3187 2673 \nQ 2956 2441 2956 1928 \nL 2956 0 \nL 2394 0 \nL 2394 2156 \nQ 2394 2531 2256 2718 \nQ 2119 2906 1806 2906 \nQ 1569 2906 1367 2781 \nQ 1166 2656 1075 2415 \nQ 984 2175 984 1722 \nL 984 0 \nL 422 0 \nz\n\" transform=\"scale(0.015625)\"/>\n      <path id=\"ArialMT-65\" d=\"M 2694 1069 \nL 3275 997 \nQ 3138 488 2766 206 \nQ 2394 -75 1816 -75 \nQ 1088 -75 661 373 \nQ 234 822 234 1631 \nQ 234 2469 665 2931 \nQ 1097 3394 1784 3394 \nQ 2450 3394 2872 2941 \nQ 3294 2488 3294 1666 \nQ 3294 1616 3291 1516 \nL 816 1516 \nQ 847 969 1125 678 \nQ 1403 388 1819 388 \nQ 2128 388 2347 550 \nQ 2566 713 2694 1069 \nz\nM 847 1978 \nL 2700 1978 \nQ 2663 2397 2488 2606 \nQ 2219 2931 1791 2931 \nQ 1403 2931 1139 2672 \nQ 875 2413 847 1978 \nz\n\" transform=\"scale(0.015625)\"/>\n      <path id=\"ArialMT-6e\" d=\"M 422 0 \nL 422 3319 \nL 928 3319 \nL 928 2847 \nQ 1294 3394 1984 3394 \nQ 2284 3394 2536 3286 \nQ 2788 3178 2913 3003 \nQ 3038 2828 3088 2588 \nQ 3119 2431 3119 2041 \nL 3119 0 \nL 2556 0 \nL 2556 2019 \nQ 2556 2363 2490 2533 \nQ 2425 2703 2258 2804 \nQ 2091 2906 1866 2906 \nQ 1506 2906 1245 2678 \nQ 984 2450 984 1813 \nL 984 0 \nL 422 0 \nz\n\" transform=\"scale(0.015625)\"/>\n      <path id=\"ArialMT-74\" d=\"M 1650 503 \nL 1731 6 \nQ 1494 -44 1306 -44 \nQ 1000 -44 831 53 \nQ 663 150 594 308 \nQ 525 466 525 972 \nL 525 2881 \nL 113 2881 \nL 113 3319 \nL 525 3319 \nL 525 4141 \nL 1084 4478 \nL 1084 3319 \nL 1650 3319 \nL 1650 2881 \nL 1084 2881 \nL 1084 941 \nQ 1084 700 1114 631 \nQ 1144 563 1211 522 \nQ 1278 481 1403 481 \nQ 1497 481 1650 503 \nz\n\" transform=\"scale(0.015625)\"/>\n     </defs>\n     <use xlink:href=\"#ArialMT-53\"/>\n     <use xlink:href=\"#ArialMT-47\" x=\"66.699219\"/>\n     <use xlink:href=\"#ArialMT-44\" x=\"144.482422\"/>\n     <use xlink:href=\"#ArialMT-20\" x=\"216.699219\"/>\n     <use xlink:href=\"#ArialMT-2b\" x=\"244.482422\"/>\n     <use xlink:href=\"#ArialMT-20\" x=\"302.880859\"/>\n     <use xlink:href=\"#ArialMT-6d\" x=\"330.664062\"/>\n     <use xlink:href=\"#ArialMT-6f\" x=\"413.964844\"/>\n     <use xlink:href=\"#ArialMT-6d\" x=\"469.580078\"/>\n     <use xlink:href=\"#ArialMT-65\" x=\"552.880859\"/>\n     <use xlink:href=\"#ArialMT-6e\" x=\"608.496094\"/>\n     <use xlink:href=\"#ArialMT-74\" x=\"664.111328\"/>\n     <use xlink:href=\"#ArialMT-75\" x=\"691.894531\"/>\n     <use xlink:href=\"#ArialMT-6d\" x=\"747.509766\"/>\n    </g>\n   </g>\n   <g id=\"legend_1\">\n    <g id=\"patch_7\">\n     <path d=\"M 617.840312 302.869375 \nL 694.61 302.869375 \nQ 696.81 302.869375 696.81 300.669375 \nL 696.81 270.649687 \nQ 696.81 268.449687 694.61 268.449687 \nL 617.840312 268.449687 \nQ 615.640312 268.449687 615.640312 270.649687 \nL 615.640312 300.669375 \nQ 615.640312 302.869375 617.840312 302.869375 \nz\n\" style=\"fill: #eaeaf2; opacity: 0.8; stroke: #cccccc; stroke-linejoin: miter\"/>\n    </g>\n    <g id=\"line2d_19\">\n     <path d=\"M 620.040312 276.873281 \nL 631.040312 276.873281 \nL 642.040312 276.873281 \n\" style=\"fill: none; stroke: #4c72b0; stroke-width: 1.5; stroke-linecap: round\"/>\n    </g>\n    <g id=\"text_20\">\n     <!-- train acc -->\n     <g style=\"fill: #262626\" transform=\"translate(650.840312 280.723281)scale(0.11 -0.11)\">\n      <defs>\n       <path id=\"ArialMT-69\" d=\"M 425 3934 \nL 425 4581 \nL 988 4581 \nL 988 3934 \nL 425 3934 \nz\nM 425 0 \nL 425 3319 \nL 988 3319 \nL 988 0 \nL 425 0 \nz\n\" transform=\"scale(0.015625)\"/>\n      </defs>\n      <use xlink:href=\"#ArialMT-74\"/>\n      <use xlink:href=\"#ArialMT-72\" x=\"27.783203\"/>\n      <use xlink:href=\"#ArialMT-61\" x=\"61.083984\"/>\n      <use xlink:href=\"#ArialMT-69\" x=\"116.699219\"/>\n      <use xlink:href=\"#ArialMT-6e\" x=\"138.916016\"/>\n      <use xlink:href=\"#ArialMT-20\" x=\"194.53125\"/>\n      <use xlink:href=\"#ArialMT-61\" x=\"222.314453\"/>\n      <use xlink:href=\"#ArialMT-63\" x=\"277.929688\"/>\n      <use xlink:href=\"#ArialMT-63\" x=\"327.929688\"/>\n     </g>\n    </g>\n    <g id=\"line2d_20\">\n     <path d=\"M 620.040312 292.433125 \nL 631.040312 292.433125 \nL 642.040312 292.433125 \n\" style=\"fill: none; stroke: #dd8452; stroke-width: 1.5; stroke-linecap: round\"/>\n    </g>\n    <g id=\"text_21\">\n     <!-- test acc -->\n     <g style=\"fill: #262626\" transform=\"translate(650.840312 296.283125)scale(0.11 -0.11)\">\n      <use xlink:href=\"#ArialMT-74\"/>\n      <use xlink:href=\"#ArialMT-65\" x=\"27.783203\"/>\n      <use xlink:href=\"#ArialMT-73\" x=\"83.398438\"/>\n      <use xlink:href=\"#ArialMT-74\" x=\"133.398438\"/>\n      <use xlink:href=\"#ArialMT-20\" x=\"161.181641\"/>\n      <use xlink:href=\"#ArialMT-61\" x=\"188.964844\"/>\n      <use xlink:href=\"#ArialMT-63\" x=\"244.580078\"/>\n      <use xlink:href=\"#ArialMT-63\" x=\"294.580078\"/>\n     </g>\n    </g>\n   </g>\n  </g>\n </g>\n <defs>\n  <clipPath id=\"p52cde391a5\">\n   <rect x=\"47.105\" y=\"21.789375\" width=\"655.205\" height=\"286.58\"/>\n  </clipPath>\n </defs>\n</svg>\n",
      "text/plain": [
       "<Figure size 720x360 with 1 Axes>"
      ]
     },
     "metadata": {},
     "output_type": "display_data"
    }
   ],
   "source": [
    "fig, ax = plt.subplots(1, 1, figsize=(10, 5))\n",
    "ax.plot(train_acc, label=\"train acc\")\n",
    "ax.plot(test_acc, label=\"test acc\")\n",
    "ax.set_xlabel(\"Epochs\")\n",
    "ax.set_ylabel(\"Accuracy\")\n",
    "ax.set_title('SGD + momentum')\n",
    "ax.grid(True)\n",
    "ax.legend()\n",
    "\n",
    "fig.tight_layout()\n",
    "plt.show()"
   ]
  },
  {
   "cell_type": "markdown",
   "metadata": {},
   "source": [
    "Видим, что accuracy на трейне стремится к нулю, а значит алгоритм сходится"
   ]
  },
  {
   "cell_type": "code",
   "execution_count": 579,
   "metadata": {},
   "outputs": [
    {
     "name": "stdout",
     "output_type": "stream",
     "text": [
      "train acc 1.0\n",
      "test acc 0.9711111111111111\n"
     ]
    }
   ],
   "source": [
    "print(\"train acc\", train_acc[-1])\n",
    "print(\"test acc\", test_acc[-1])"
   ]
  },
  {
   "cell_type": "code",
   "execution_count": 580,
   "metadata": {},
   "outputs": [
    {
     "name": "stdout",
     "output_type": "stream",
     "text": [
      "train acc 1.0\n",
      "test acc 0.9488888888888889\n"
     ]
    }
   ],
   "source": [
    "network = make_network( \n",
    "        input_size, hidden_layers_size, output_size, n_layers=3,\n",
    "        activation_class=ReLU)\n",
    "\n",
    "initialize_network(network, 'Kaiming')\n",
    "\n",
    "res = minimize(\n",
    "    compute_loss_grad, get_weights(network),       \n",
    "    args=[network, X_train, y_train], \n",
    "    method=\"L-BFGS-B\",                \n",
    "    jac=True)\n",
    "\n",
    "set_weights(res['x'], network)\n",
    "\n",
    "acc_train = np.mean(predict(network, X_train) == y_train)\n",
    "acc_test = np.mean(predict(network, X_test) == y_test)\n",
    "print(\"train acc\", acc_train)\n",
    "print(\"test acc\", acc_test)"
   ]
  },
  {
   "cell_type": "markdown",
   "metadata": {},
   "source": [
    "Выводы: SGD + momentum работает сильно лучше чем L-BFGS-B(на тесте 0.971 против 0.948)."
   ]
  },
  {
   "cell_type": "markdown",
   "metadata": {
    "hidden": true
   },
   "source": [
    "### `Dropout (1 балл)`\n",
    "\n",
    "Реализуйте слой Dropout. Сравните обучение сети из большого числа слоёв при использовании Dropout и без его использования (предварительно подберите адекватный параметр $p$). Сделайте выводы."
   ]
  },
  {
   "cell_type": "markdown",
   "metadata": {},
   "source": []
  },
  {
   "cell_type": "code",
   "execution_count": 642,
   "metadata": {},
   "outputs": [],
   "source": [
    "class DropOut:\n",
    "    def __init__(self, prob):\n",
    "        self.params = [] # drop-out has no parameters\n",
    "        self.prob = prob # probability of success\n",
    "        self.eval = False\n",
    "\n",
    "    def forward(self, input):\n",
    "        if not self.eval:\n",
    "            y = np.random.binomial(1, self.prob, input.shape)\n",
    "            self.mask = y / self.prob\n",
    "            return input * self.mask \n",
    "        return input\n",
    "    def backward(self, grad_output):\n",
    "\n",
    "        ### your code here\n",
    "        grad_x = grad_output * self.mask\n",
    "        return grad_x, []\n",
    "\n",
    "    def __repr__(self):\n",
    "        return f'DropOut({self.prob})'"
   ]
  },
  {
   "cell_type": "code",
   "execution_count": 643,
   "metadata": {},
   "outputs": [
    {
     "data": {
      "text/plain": [
       "array([0.05, 0.1 , 0.15, 0.2 , 0.25, 0.3 , 0.35, 0.4 , 0.45, 0.5 , 0.55,\n",
       "       0.6 , 0.65, 0.7 , 0.75, 0.8 , 0.85, 0.9 , 0.95, 1.  ])"
      ]
     },
     "execution_count": 643,
     "metadata": {},
     "output_type": "execute_result"
    }
   ],
   "source": [
    "probs"
   ]
  },
  {
   "cell_type": "code",
   "execution_count": 674,
   "metadata": {},
   "outputs": [],
   "source": [
    "%config InlineBackend.figure_format = 'svg'\n",
    "import matplotlib.pyplot as plt\n",
    "import seaborn as sns\n",
    "sns.set(style=\"darkgrid\")"
   ]
  },
  {
   "cell_type": "code",
   "execution_count": 675,
   "metadata": {},
   "outputs": [],
   "source": [
    "class Callback:\n",
    "    def __init__(self, network, X_train, y_train, X_test, y_test, print=False):\n",
    "        self.network = network\n",
    "        self.X_train = X_train\n",
    "        self.X_test = X_test\n",
    "        self.y_train = y_train\n",
    "        self.y_test = y_test\n",
    "        self.print = print\n",
    "        self.train_acc = []\n",
    "        self.test_acc = []\n",
    "        \n",
    "    def call(self, weights):\n",
    "        \"\"\"\n",
    "        Computes quality on train and test set with given weights\n",
    "        and saves to self.train_acc and self.test_acc.\n",
    "        If self.print is True, also prints these 2 values\n",
    "        \"\"\"\n",
    "        set_weights(weights, self.network)\n",
    "        for layer in self.network:\n",
    "            layer.eval = True\n",
    "        self.test_acc.append(np.mean(\n",
    "            predict(self.network, self.X_test) == self.y_test))\n",
    "        self.train_acc.append(np.mean(\n",
    "            predict(self.network, self.X_train) == self.y_train))\n",
    "        for layer in self.network:\n",
    "            layer.eval = False\n",
    "\n",
    "        if self.print:\n",
    "            print(f\"Accuracy on train {self.train_acc[-1]:.4f} ||\",\n",
    "                   f\"test {self.test_acc[-1]:.4f}\")"
   ]
  },
  {
   "cell_type": "code",
   "execution_count": 704,
   "metadata": {},
   "outputs": [
    {
     "data": {
      "text/plain": [
       "array([0.0078125, 0.015625 , 0.0234375, 0.03125  , 0.0390625, 0.046875 ,\n",
       "       0.0546875, 0.0625   , 0.0703125, 0.078125 , 0.0859375, 0.09375  ,\n",
       "       0.1015625, 0.109375 , 0.1171875, 0.125    , 0.1328125, 0.140625 ,\n",
       "       0.1484375, 0.15625  , 0.1640625, 0.171875 , 0.1796875, 0.1875   ,\n",
       "       0.1953125, 0.203125 , 0.2109375, 0.21875  , 0.2265625, 0.234375 ,\n",
       "       0.2421875, 0.25     , 0.2578125, 0.265625 , 0.2734375, 0.28125  ,\n",
       "       0.2890625, 0.296875 , 0.3046875, 0.3125   , 0.3203125, 0.328125 ,\n",
       "       0.3359375, 0.34375  , 0.3515625, 0.359375 , 0.3671875, 0.375    ,\n",
       "       0.3828125, 0.390625 , 0.3984375, 0.40625  , 0.4140625, 0.421875 ,\n",
       "       0.4296875, 0.4375   , 0.4453125, 0.453125 , 0.4609375, 0.46875  ,\n",
       "       0.4765625, 0.484375 , 0.4921875, 0.5      , 0.5078125, 0.515625 ,\n",
       "       0.5234375, 0.53125  , 0.5390625, 0.546875 , 0.5546875, 0.5625   ,\n",
       "       0.5703125, 0.578125 , 0.5859375, 0.59375  , 0.6015625, 0.609375 ,\n",
       "       0.6171875, 0.625    , 0.6328125, 0.640625 , 0.6484375, 0.65625  ,\n",
       "       0.6640625, 0.671875 , 0.6796875, 0.6875   , 0.6953125, 0.703125 ,\n",
       "       0.7109375, 0.71875  , 0.7265625, 0.734375 , 0.7421875, 0.75     ,\n",
       "       0.7578125, 0.765625 , 0.7734375, 0.78125  , 0.7890625, 0.796875 ,\n",
       "       0.8046875, 0.8125   , 0.8203125, 0.828125 , 0.8359375, 0.84375  ,\n",
       "       0.8515625, 0.859375 , 0.8671875, 0.875    , 0.8828125, 0.890625 ,\n",
       "       0.8984375, 0.90625  , 0.9140625, 0.921875 , 0.9296875, 0.9375   ,\n",
       "       0.9453125, 0.953125 , 0.9609375, 0.96875  , 0.9765625, 0.984375 ,\n",
       "       0.9921875, 1.       ])"
      ]
     },
     "execution_count": 704,
     "metadata": {},
     "output_type": "execute_result"
    }
   ],
   "source": [
    "probs = np.linspace(0, 1, 129)[1:]\n",
    "\n",
    "probs"
   ]
  },
  {
   "cell_type": "code",
   "execution_count": 705,
   "metadata": {},
   "outputs": [],
   "source": [
    "accs_train = []\n",
    "accs_test = []\n",
    "for prob in probs:\n",
    "    network = make_network( \n",
    "        input_size, hidden_layers_size,\n",
    "        output_size, n_layers=6, activation_class=ReLU)\n",
    "\n",
    "    cb = Callback(network, X_train, y_train, X_test, y_test, print=False)\n",
    "    network_with_dropout = []\n",
    "    for layer in network:\n",
    "        network_with_dropout.append(layer)\n",
    "        if isinstance(layer, ReLU):\n",
    "            network_with_dropout.append(DropOut(prob))\n",
    "    initialize_network(network_with_dropout, 'Kaiming')\n",
    "            \n",
    "    res = minimize(\n",
    "        compute_loss_grad, get_weights(network_with_dropout),       \n",
    "        args=[network_with_dropout, X_train, y_train], \n",
    "        method=\"L-BFGS-B\",                \n",
    "        jac=True,\n",
    "        callback=cb.call)\n",
    "    \n",
    "    set_weights(res['x'], network_with_dropout)\n",
    "\n",
    "    accs_train.append(cb.train_acc[-1])\n",
    "    accs_test.append(cb.test_acc[-1])\n",
    "    "
   ]
  },
  {
   "cell_type": "code",
   "execution_count": 707,
   "metadata": {},
   "outputs": [
    {
     "data": {
      "image/svg+xml": "<?xml version=\"1.0\" encoding=\"utf-8\" standalone=\"no\"?>\n<!DOCTYPE svg PUBLIC \"-//W3C//DTD SVG 1.1//EN\"\n  \"http://www.w3.org/Graphics/SVG/1.1/DTD/svg11.dtd\">\n<svg xmlns:xlink=\"http://www.w3.org/1999/xlink\" width=\"709.51pt\" height=\"350.296719pt\" viewBox=\"0 0 709.51 350.296719\" xmlns=\"http://www.w3.org/2000/svg\" version=\"1.1\">\n <metadata>\n  <rdf:RDF xmlns:dc=\"http://purl.org/dc/elements/1.1/\" xmlns:cc=\"http://creativecommons.org/ns#\" xmlns:rdf=\"http://www.w3.org/1999/02/22-rdf-syntax-ns#\">\n   <cc:Work>\n    <dc:type rdf:resource=\"http://purl.org/dc/dcmitype/StillImage\"/>\n    <dc:date>2023-03-12T20:02:16.165811</dc:date>\n    <dc:format>image/svg+xml</dc:format>\n    <dc:creator>\n     <cc:Agent>\n      <dc:title>Matplotlib v3.5.1, https://matplotlib.org/</dc:title>\n     </cc:Agent>\n    </dc:creator>\n   </cc:Work>\n  </rdf:RDF>\n </metadata>\n <defs>\n  <style type=\"text/css\">*{stroke-linejoin: round; stroke-linecap: butt}</style>\n </defs>\n <g id=\"figure_1\">\n  <g id=\"patch_1\">\n   <path d=\"M 0 350.296719 \nL 709.51 350.296719 \nL 709.51 0 \nL 0 0 \nz\n\" style=\"fill: #ffffff\"/>\n  </g>\n  <g id=\"axes_1\">\n   <g id=\"patch_2\">\n    <path d=\"M 47.105 308.421875 \nL 702.31 308.421875 \nL 702.31 21.935625 \nL 47.105 21.935625 \nz\n\" style=\"fill: #eaeaf2\"/>\n   </g>\n   <g id=\"matplotlib.axis_1\">\n    <g id=\"xtick_1\">\n     <g id=\"line2d_1\">\n      <path d=\"M 72.19696 308.421875 \nL 72.19696 21.935625 \n\" clip-path=\"url(#p0838f13415)\" style=\"fill: none; stroke: #ffffff; stroke-linecap: round\"/>\n     </g>\n     <g id=\"text_1\">\n      <!-- 0.0 -->\n      <g style=\"fill: #262626\" transform=\"translate(64.55196 325.795469)scale(0.11 -0.11)\">\n       <defs>\n        <path id=\"ArialMT-30\" d=\"M 266 2259 \nQ 266 3072 433 3567 \nQ 600 4063 929 4331 \nQ 1259 4600 1759 4600 \nQ 2128 4600 2406 4451 \nQ 2684 4303 2865 4023 \nQ 3047 3744 3150 3342 \nQ 3253 2941 3253 2259 \nQ 3253 1453 3087 958 \nQ 2922 463 2592 192 \nQ 2263 -78 1759 -78 \nQ 1097 -78 719 397 \nQ 266 969 266 2259 \nz\nM 844 2259 \nQ 844 1131 1108 757 \nQ 1372 384 1759 384 \nQ 2147 384 2411 759 \nQ 2675 1134 2675 2259 \nQ 2675 3391 2411 3762 \nQ 2147 4134 1753 4134 \nQ 1366 4134 1134 3806 \nQ 844 3388 844 2259 \nz\n\" transform=\"scale(0.015625)\"/>\n        <path id=\"ArialMT-2e\" d=\"M 581 0 \nL 581 641 \nL 1222 641 \nL 1222 0 \nL 581 0 \nz\n\" transform=\"scale(0.015625)\"/>\n       </defs>\n       <use xlink:href=\"#ArialMT-30\"/>\n       <use xlink:href=\"#ArialMT-2e\" x=\"55.615234\"/>\n       <use xlink:href=\"#ArialMT-30\" x=\"83.398438\"/>\n      </g>\n     </g>\n    </g>\n    <g id=\"xtick_2\">\n     <g id=\"line2d_2\">\n      <path d=\"M 192.263159 308.421875 \nL 192.263159 21.935625 \n\" clip-path=\"url(#p0838f13415)\" style=\"fill: none; stroke: #ffffff; stroke-linecap: round\"/>\n     </g>\n     <g id=\"text_2\">\n      <!-- 0.2 -->\n      <g style=\"fill: #262626\" transform=\"translate(184.618159 325.795469)scale(0.11 -0.11)\">\n       <defs>\n        <path id=\"ArialMT-32\" d=\"M 3222 541 \nL 3222 0 \nL 194 0 \nQ 188 203 259 391 \nQ 375 700 629 1000 \nQ 884 1300 1366 1694 \nQ 2113 2306 2375 2664 \nQ 2638 3022 2638 3341 \nQ 2638 3675 2398 3904 \nQ 2159 4134 1775 4134 \nQ 1369 4134 1125 3890 \nQ 881 3647 878 3216 \nL 300 3275 \nQ 359 3922 746 4261 \nQ 1134 4600 1788 4600 \nQ 2447 4600 2831 4234 \nQ 3216 3869 3216 3328 \nQ 3216 3053 3103 2787 \nQ 2991 2522 2730 2228 \nQ 2469 1934 1863 1422 \nQ 1356 997 1212 845 \nQ 1069 694 975 541 \nL 3222 541 \nz\n\" transform=\"scale(0.015625)\"/>\n       </defs>\n       <use xlink:href=\"#ArialMT-30\"/>\n       <use xlink:href=\"#ArialMT-2e\" x=\"55.615234\"/>\n       <use xlink:href=\"#ArialMT-32\" x=\"83.398438\"/>\n      </g>\n     </g>\n    </g>\n    <g id=\"xtick_3\">\n     <g id=\"line2d_3\">\n      <path d=\"M 312.329358 308.421875 \nL 312.329358 21.935625 \n\" clip-path=\"url(#p0838f13415)\" style=\"fill: none; stroke: #ffffff; stroke-linecap: round\"/>\n     </g>\n     <g id=\"text_3\">\n      <!-- 0.4 -->\n      <g style=\"fill: #262626\" transform=\"translate(304.684358 325.795469)scale(0.11 -0.11)\">\n       <defs>\n        <path id=\"ArialMT-34\" d=\"M 2069 0 \nL 2069 1097 \nL 81 1097 \nL 81 1613 \nL 2172 4581 \nL 2631 4581 \nL 2631 1613 \nL 3250 1613 \nL 3250 1097 \nL 2631 1097 \nL 2631 0 \nL 2069 0 \nz\nM 2069 1613 \nL 2069 3678 \nL 634 1613 \nL 2069 1613 \nz\n\" transform=\"scale(0.015625)\"/>\n       </defs>\n       <use xlink:href=\"#ArialMT-30\"/>\n       <use xlink:href=\"#ArialMT-2e\" x=\"55.615234\"/>\n       <use xlink:href=\"#ArialMT-34\" x=\"83.398438\"/>\n      </g>\n     </g>\n    </g>\n    <g id=\"xtick_4\">\n     <g id=\"line2d_4\">\n      <path d=\"M 432.395557 308.421875 \nL 432.395557 21.935625 \n\" clip-path=\"url(#p0838f13415)\" style=\"fill: none; stroke: #ffffff; stroke-linecap: round\"/>\n     </g>\n     <g id=\"text_4\">\n      <!-- 0.6 -->\n      <g style=\"fill: #262626\" transform=\"translate(424.750557 325.795469)scale(0.11 -0.11)\">\n       <defs>\n        <path id=\"ArialMT-36\" d=\"M 3184 3459 \nL 2625 3416 \nQ 2550 3747 2413 3897 \nQ 2184 4138 1850 4138 \nQ 1581 4138 1378 3988 \nQ 1113 3794 959 3422 \nQ 806 3050 800 2363 \nQ 1003 2672 1297 2822 \nQ 1591 2972 1913 2972 \nQ 2475 2972 2870 2558 \nQ 3266 2144 3266 1488 \nQ 3266 1056 3080 686 \nQ 2894 316 2569 119 \nQ 2244 -78 1831 -78 \nQ 1128 -78 684 439 \nQ 241 956 241 2144 \nQ 241 3472 731 4075 \nQ 1159 4600 1884 4600 \nQ 2425 4600 2770 4297 \nQ 3116 3994 3184 3459 \nz\nM 888 1484 \nQ 888 1194 1011 928 \nQ 1134 663 1356 523 \nQ 1578 384 1822 384 \nQ 2178 384 2434 671 \nQ 2691 959 2691 1453 \nQ 2691 1928 2437 2201 \nQ 2184 2475 1800 2475 \nQ 1419 2475 1153 2201 \nQ 888 1928 888 1484 \nz\n\" transform=\"scale(0.015625)\"/>\n       </defs>\n       <use xlink:href=\"#ArialMT-30\"/>\n       <use xlink:href=\"#ArialMT-2e\" x=\"55.615234\"/>\n       <use xlink:href=\"#ArialMT-36\" x=\"83.398438\"/>\n      </g>\n     </g>\n    </g>\n    <g id=\"xtick_5\">\n     <g id=\"line2d_5\">\n      <path d=\"M 552.461756 308.421875 \nL 552.461756 21.935625 \n\" clip-path=\"url(#p0838f13415)\" style=\"fill: none; stroke: #ffffff; stroke-linecap: round\"/>\n     </g>\n     <g id=\"text_5\">\n      <!-- 0.8 -->\n      <g style=\"fill: #262626\" transform=\"translate(544.816756 325.795469)scale(0.11 -0.11)\">\n       <defs>\n        <path id=\"ArialMT-38\" d=\"M 1131 2484 \nQ 781 2613 612 2850 \nQ 444 3088 444 3419 \nQ 444 3919 803 4259 \nQ 1163 4600 1759 4600 \nQ 2359 4600 2725 4251 \nQ 3091 3903 3091 3403 \nQ 3091 3084 2923 2848 \nQ 2756 2613 2416 2484 \nQ 2838 2347 3058 2040 \nQ 3278 1734 3278 1309 \nQ 3278 722 2862 322 \nQ 2447 -78 1769 -78 \nQ 1091 -78 675 323 \nQ 259 725 259 1325 \nQ 259 1772 486 2073 \nQ 713 2375 1131 2484 \nz\nM 1019 3438 \nQ 1019 3113 1228 2906 \nQ 1438 2700 1772 2700 \nQ 2097 2700 2305 2904 \nQ 2513 3109 2513 3406 \nQ 2513 3716 2298 3927 \nQ 2084 4138 1766 4138 \nQ 1444 4138 1231 3931 \nQ 1019 3725 1019 3438 \nz\nM 838 1322 \nQ 838 1081 952 856 \nQ 1066 631 1291 507 \nQ 1516 384 1775 384 \nQ 2178 384 2440 643 \nQ 2703 903 2703 1303 \nQ 2703 1709 2433 1975 \nQ 2163 2241 1756 2241 \nQ 1359 2241 1098 1978 \nQ 838 1716 838 1322 \nz\n\" transform=\"scale(0.015625)\"/>\n       </defs>\n       <use xlink:href=\"#ArialMT-30\"/>\n       <use xlink:href=\"#ArialMT-2e\" x=\"55.615234\"/>\n       <use xlink:href=\"#ArialMT-38\" x=\"83.398438\"/>\n      </g>\n     </g>\n    </g>\n    <g id=\"xtick_6\">\n     <g id=\"line2d_6\">\n      <path d=\"M 672.527955 308.421875 \nL 672.527955 21.935625 \n\" clip-path=\"url(#p0838f13415)\" style=\"fill: none; stroke: #ffffff; stroke-linecap: round\"/>\n     </g>\n     <g id=\"text_6\">\n      <!-- 1.0 -->\n      <g style=\"fill: #262626\" transform=\"translate(664.882955 325.795469)scale(0.11 -0.11)\">\n       <defs>\n        <path id=\"ArialMT-31\" d=\"M 2384 0 \nL 1822 0 \nL 1822 3584 \nQ 1619 3391 1289 3197 \nQ 959 3003 697 2906 \nL 697 3450 \nQ 1169 3672 1522 3987 \nQ 1875 4303 2022 4600 \nL 2384 4600 \nL 2384 0 \nz\n\" transform=\"scale(0.015625)\"/>\n       </defs>\n       <use xlink:href=\"#ArialMT-31\"/>\n       <use xlink:href=\"#ArialMT-2e\" x=\"55.615234\"/>\n       <use xlink:href=\"#ArialMT-30\" x=\"83.398438\"/>\n      </g>\n     </g>\n    </g>\n    <g id=\"text_7\">\n     <!-- probability -->\n     <g style=\"fill: #262626\" transform=\"translate(347.360625 340.571094)scale(0.12 -0.12)\">\n      <defs>\n       <path id=\"ArialMT-70\" d=\"M 422 -1272 \nL 422 3319 \nL 934 3319 \nL 934 2888 \nQ 1116 3141 1344 3267 \nQ 1572 3394 1897 3394 \nQ 2322 3394 2647 3175 \nQ 2972 2956 3137 2557 \nQ 3303 2159 3303 1684 \nQ 3303 1175 3120 767 \nQ 2938 359 2589 142 \nQ 2241 -75 1856 -75 \nQ 1575 -75 1351 44 \nQ 1128 163 984 344 \nL 984 -1272 \nL 422 -1272 \nz\nM 931 1641 \nQ 931 1000 1190 694 \nQ 1450 388 1819 388 \nQ 2194 388 2461 705 \nQ 2728 1022 2728 1688 \nQ 2728 2322 2467 2637 \nQ 2206 2953 1844 2953 \nQ 1484 2953 1207 2617 \nQ 931 2281 931 1641 \nz\n\" transform=\"scale(0.015625)\"/>\n       <path id=\"ArialMT-72\" d=\"M 416 0 \nL 416 3319 \nL 922 3319 \nL 922 2816 \nQ 1116 3169 1280 3281 \nQ 1444 3394 1641 3394 \nQ 1925 3394 2219 3213 \nL 2025 2691 \nQ 1819 2813 1613 2813 \nQ 1428 2813 1281 2702 \nQ 1134 2591 1072 2394 \nQ 978 2094 978 1738 \nL 978 0 \nL 416 0 \nz\n\" transform=\"scale(0.015625)\"/>\n       <path id=\"ArialMT-6f\" d=\"M 213 1659 \nQ 213 2581 725 3025 \nQ 1153 3394 1769 3394 \nQ 2453 3394 2887 2945 \nQ 3322 2497 3322 1706 \nQ 3322 1066 3130 698 \nQ 2938 331 2570 128 \nQ 2203 -75 1769 -75 \nQ 1072 -75 642 372 \nQ 213 819 213 1659 \nz\nM 791 1659 \nQ 791 1022 1069 705 \nQ 1347 388 1769 388 \nQ 2188 388 2466 706 \nQ 2744 1025 2744 1678 \nQ 2744 2294 2464 2611 \nQ 2184 2928 1769 2928 \nQ 1347 2928 1069 2612 \nQ 791 2297 791 1659 \nz\n\" transform=\"scale(0.015625)\"/>\n       <path id=\"ArialMT-62\" d=\"M 941 0 \nL 419 0 \nL 419 4581 \nL 981 4581 \nL 981 2947 \nQ 1338 3394 1891 3394 \nQ 2197 3394 2470 3270 \nQ 2744 3147 2920 2923 \nQ 3097 2700 3197 2384 \nQ 3297 2069 3297 1709 \nQ 3297 856 2875 390 \nQ 2453 -75 1863 -75 \nQ 1275 -75 941 416 \nL 941 0 \nz\nM 934 1684 \nQ 934 1088 1097 822 \nQ 1363 388 1816 388 \nQ 2184 388 2453 708 \nQ 2722 1028 2722 1663 \nQ 2722 2313 2464 2622 \nQ 2206 2931 1841 2931 \nQ 1472 2931 1203 2611 \nQ 934 2291 934 1684 \nz\n\" transform=\"scale(0.015625)\"/>\n       <path id=\"ArialMT-61\" d=\"M 2588 409 \nQ 2275 144 1986 34 \nQ 1697 -75 1366 -75 \nQ 819 -75 525 192 \nQ 231 459 231 875 \nQ 231 1119 342 1320 \nQ 453 1522 633 1644 \nQ 813 1766 1038 1828 \nQ 1203 1872 1538 1913 \nQ 2219 1994 2541 2106 \nQ 2544 2222 2544 2253 \nQ 2544 2597 2384 2738 \nQ 2169 2928 1744 2928 \nQ 1347 2928 1158 2789 \nQ 969 2650 878 2297 \nL 328 2372 \nQ 403 2725 575 2942 \nQ 747 3159 1072 3276 \nQ 1397 3394 1825 3394 \nQ 2250 3394 2515 3294 \nQ 2781 3194 2906 3042 \nQ 3031 2891 3081 2659 \nQ 3109 2516 3109 2141 \nL 3109 1391 \nQ 3109 606 3145 398 \nQ 3181 191 3288 0 \nL 2700 0 \nQ 2613 175 2588 409 \nz\nM 2541 1666 \nQ 2234 1541 1622 1453 \nQ 1275 1403 1131 1340 \nQ 988 1278 909 1158 \nQ 831 1038 831 891 \nQ 831 666 1001 516 \nQ 1172 366 1500 366 \nQ 1825 366 2078 508 \nQ 2331 650 2450 897 \nQ 2541 1088 2541 1459 \nL 2541 1666 \nz\n\" transform=\"scale(0.015625)\"/>\n       <path id=\"ArialMT-69\" d=\"M 425 3934 \nL 425 4581 \nL 988 4581 \nL 988 3934 \nL 425 3934 \nz\nM 425 0 \nL 425 3319 \nL 988 3319 \nL 988 0 \nL 425 0 \nz\n\" transform=\"scale(0.015625)\"/>\n       <path id=\"ArialMT-6c\" d=\"M 409 0 \nL 409 4581 \nL 972 4581 \nL 972 0 \nL 409 0 \nz\n\" transform=\"scale(0.015625)\"/>\n       <path id=\"ArialMT-74\" d=\"M 1650 503 \nL 1731 6 \nQ 1494 -44 1306 -44 \nQ 1000 -44 831 53 \nQ 663 150 594 308 \nQ 525 466 525 972 \nL 525 2881 \nL 113 2881 \nL 113 3319 \nL 525 3319 \nL 525 4141 \nL 1084 4478 \nL 1084 3319 \nL 1650 3319 \nL 1650 2881 \nL 1084 2881 \nL 1084 941 \nQ 1084 700 1114 631 \nQ 1144 563 1211 522 \nQ 1278 481 1403 481 \nQ 1497 481 1650 503 \nz\n\" transform=\"scale(0.015625)\"/>\n       <path id=\"ArialMT-79\" d=\"M 397 -1278 \nL 334 -750 \nQ 519 -800 656 -800 \nQ 844 -800 956 -737 \nQ 1069 -675 1141 -563 \nQ 1194 -478 1313 -144 \nQ 1328 -97 1363 -6 \nL 103 3319 \nL 709 3319 \nL 1400 1397 \nQ 1534 1031 1641 628 \nQ 1738 1016 1872 1384 \nL 2581 3319 \nL 3144 3319 \nL 1881 -56 \nQ 1678 -603 1566 -809 \nQ 1416 -1088 1222 -1217 \nQ 1028 -1347 759 -1347 \nQ 597 -1347 397 -1278 \nz\n\" transform=\"scale(0.015625)\"/>\n      </defs>\n      <use xlink:href=\"#ArialMT-70\"/>\n      <use xlink:href=\"#ArialMT-72\" x=\"55.615234\"/>\n      <use xlink:href=\"#ArialMT-6f\" x=\"88.916016\"/>\n      <use xlink:href=\"#ArialMT-62\" x=\"144.53125\"/>\n      <use xlink:href=\"#ArialMT-61\" x=\"200.146484\"/>\n      <use xlink:href=\"#ArialMT-62\" x=\"255.761719\"/>\n      <use xlink:href=\"#ArialMT-69\" x=\"311.376953\"/>\n      <use xlink:href=\"#ArialMT-6c\" x=\"333.59375\"/>\n      <use xlink:href=\"#ArialMT-69\" x=\"355.810547\"/>\n      <use xlink:href=\"#ArialMT-74\" x=\"378.027344\"/>\n      <use xlink:href=\"#ArialMT-79\" x=\"405.810547\"/>\n     </g>\n    </g>\n   </g>\n   <g id=\"matplotlib.axis_2\">\n    <g id=\"ytick_1\">\n     <g id=\"line2d_7\">\n      <path d=\"M 47.105 259.839417 \nL 702.31 259.839417 \n\" clip-path=\"url(#p0838f13415)\" style=\"fill: none; stroke: #ffffff; stroke-linecap: round\"/>\n     </g>\n     <g id=\"text_8\">\n      <!-- 0.2 -->\n      <g style=\"fill: #262626\" transform=\"translate(22.315 263.776213)scale(0.11 -0.11)\">\n       <use xlink:href=\"#ArialMT-30\"/>\n       <use xlink:href=\"#ArialMT-2e\" x=\"55.615234\"/>\n       <use xlink:href=\"#ArialMT-32\" x=\"83.398438\"/>\n      </g>\n     </g>\n    </g>\n    <g id=\"ytick_2\">\n     <g id=\"line2d_8\">\n      <path d=\"M 47.105 203.618994 \nL 702.31 203.618994 \n\" clip-path=\"url(#p0838f13415)\" style=\"fill: none; stroke: #ffffff; stroke-linecap: round\"/>\n     </g>\n     <g id=\"text_9\">\n      <!-- 0.4 -->\n      <g style=\"fill: #262626\" transform=\"translate(22.315 207.555791)scale(0.11 -0.11)\">\n       <use xlink:href=\"#ArialMT-30\"/>\n       <use xlink:href=\"#ArialMT-2e\" x=\"55.615234\"/>\n       <use xlink:href=\"#ArialMT-34\" x=\"83.398438\"/>\n      </g>\n     </g>\n    </g>\n    <g id=\"ytick_3\">\n     <g id=\"line2d_9\">\n      <path d=\"M 47.105 147.398572 \nL 702.31 147.398572 \n\" clip-path=\"url(#p0838f13415)\" style=\"fill: none; stroke: #ffffff; stroke-linecap: round\"/>\n     </g>\n     <g id=\"text_10\">\n      <!-- 0.6 -->\n      <g style=\"fill: #262626\" transform=\"translate(22.315 151.335369)scale(0.11 -0.11)\">\n       <use xlink:href=\"#ArialMT-30\"/>\n       <use xlink:href=\"#ArialMT-2e\" x=\"55.615234\"/>\n       <use xlink:href=\"#ArialMT-36\" x=\"83.398438\"/>\n      </g>\n     </g>\n    </g>\n    <g id=\"ytick_4\">\n     <g id=\"line2d_10\">\n      <path d=\"M 47.105 91.17815 \nL 702.31 91.17815 \n\" clip-path=\"url(#p0838f13415)\" style=\"fill: none; stroke: #ffffff; stroke-linecap: round\"/>\n     </g>\n     <g id=\"text_11\">\n      <!-- 0.8 -->\n      <g style=\"fill: #262626\" transform=\"translate(22.315 95.114946)scale(0.11 -0.11)\">\n       <use xlink:href=\"#ArialMT-30\"/>\n       <use xlink:href=\"#ArialMT-2e\" x=\"55.615234\"/>\n       <use xlink:href=\"#ArialMT-38\" x=\"83.398438\"/>\n      </g>\n     </g>\n    </g>\n    <g id=\"ytick_5\">\n     <g id=\"line2d_11\">\n      <path d=\"M 47.105 34.957727 \nL 702.31 34.957727 \n\" clip-path=\"url(#p0838f13415)\" style=\"fill: none; stroke: #ffffff; stroke-linecap: round\"/>\n     </g>\n     <g id=\"text_12\">\n      <!-- 1.0 -->\n      <g style=\"fill: #262626\" transform=\"translate(22.315 38.894524)scale(0.11 -0.11)\">\n       <use xlink:href=\"#ArialMT-31\"/>\n       <use xlink:href=\"#ArialMT-2e\" x=\"55.615234\"/>\n       <use xlink:href=\"#ArialMT-30\" x=\"83.398438\"/>\n      </g>\n     </g>\n    </g>\n    <g id=\"text_13\">\n     <!-- Accuracy -->\n     <g style=\"fill: #262626\" transform=\"translate(15.789375 189.851875)rotate(-90)scale(0.12 -0.12)\">\n      <defs>\n       <path id=\"ArialMT-41\" d=\"M -9 0 \nL 1750 4581 \nL 2403 4581 \nL 4278 0 \nL 3588 0 \nL 3053 1388 \nL 1138 1388 \nL 634 0 \nL -9 0 \nz\nM 1313 1881 \nL 2866 1881 \nL 2388 3150 \nQ 2169 3728 2063 4100 \nQ 1975 3659 1816 3225 \nL 1313 1881 \nz\n\" transform=\"scale(0.015625)\"/>\n       <path id=\"ArialMT-63\" d=\"M 2588 1216 \nL 3141 1144 \nQ 3050 572 2676 248 \nQ 2303 -75 1759 -75 \nQ 1078 -75 664 370 \nQ 250 816 250 1647 \nQ 250 2184 428 2587 \nQ 606 2991 970 3192 \nQ 1334 3394 1763 3394 \nQ 2303 3394 2647 3120 \nQ 2991 2847 3088 2344 \nL 2541 2259 \nQ 2463 2594 2264 2762 \nQ 2066 2931 1784 2931 \nQ 1359 2931 1093 2626 \nQ 828 2322 828 1663 \nQ 828 994 1084 691 \nQ 1341 388 1753 388 \nQ 2084 388 2306 591 \nQ 2528 794 2588 1216 \nz\n\" transform=\"scale(0.015625)\"/>\n       <path id=\"ArialMT-75\" d=\"M 2597 0 \nL 2597 488 \nQ 2209 -75 1544 -75 \nQ 1250 -75 995 37 \nQ 741 150 617 320 \nQ 494 491 444 738 \nQ 409 903 409 1263 \nL 409 3319 \nL 972 3319 \nL 972 1478 \nQ 972 1038 1006 884 \nQ 1059 663 1231 536 \nQ 1403 409 1656 409 \nQ 1909 409 2131 539 \nQ 2353 669 2445 892 \nQ 2538 1116 2538 1541 \nL 2538 3319 \nL 3100 3319 \nL 3100 0 \nL 2597 0 \nz\n\" transform=\"scale(0.015625)\"/>\n      </defs>\n      <use xlink:href=\"#ArialMT-41\"/>\n      <use xlink:href=\"#ArialMT-63\" x=\"66.699219\"/>\n      <use xlink:href=\"#ArialMT-63\" x=\"116.699219\"/>\n      <use xlink:href=\"#ArialMT-75\" x=\"166.699219\"/>\n      <use xlink:href=\"#ArialMT-72\" x=\"222.314453\"/>\n      <use xlink:href=\"#ArialMT-61\" x=\"255.615234\"/>\n      <use xlink:href=\"#ArialMT-63\" x=\"311.230469\"/>\n      <use xlink:href=\"#ArialMT-79\" x=\"361.230469\"/>\n     </g>\n    </g>\n   </g>\n   <g id=\"line2d_12\">\n    <path d=\"M 76.887045 286.634896 \nL 81.577131 286.217521 \nL 86.267217 267.64433 \nL 90.957303 295.399773 \nL 95.647389 284.339333 \nL 100.337475 292.895522 \nL 105.027561 283.087208 \nL 109.717647 292.686835 \nL 114.407733 272.235456 \nL 119.097819 289.139147 \nL 123.787904 283.504583 \nL 128.47799 271.192019 \nL 133.168076 285.800146 \nL 137.858162 289.973897 \nL 142.548248 286.008834 \nL 147.238334 285.174083 \nL 151.92842 290.808647 \nL 156.618506 287.678334 \nL 161.308592 285.382771 \nL 165.998678 280.165583 \nL 170.688763 286.426209 \nL 175.378849 278.70477 \nL 180.068935 284.130646 \nL 184.759021 286.843584 \nL 189.449107 287.052271 \nL 194.139193 286.217521 \nL 198.829279 286.008834 \nL 203.519365 287.678334 \nL 208.209451 286.426209 \nL 212.899537 287.887021 \nL 217.589622 286.634896 \nL 222.279708 286.217521 \nL 226.969794 286.426209 \nL 231.65988 286.426209 \nL 241.040052 286.008834 \nL 245.730138 286.217521 \nL 250.420224 285.800146 \nL 255.11031 286.634896 \nL 259.800395 286.426209 \nL 264.490481 284.339333 \nL 269.180567 286.426209 \nL 273.870653 286.634896 \nL 278.560739 289.139147 \nL 283.250825 285.800146 \nL 287.940911 286.217521 \nL 297.321083 284.965396 \nL 302.011169 287.887021 \nL 306.701254 287.052271 \nL 311.39134 286.008834 \nL 316.081426 285.382771 \nL 320.771512 286.426209 \nL 325.461598 286.217521 \nL 330.151684 286.217521 \nL 334.84177 287.469646 \nL 339.531856 283.087208 \nL 344.221942 286.217521 \nL 348.912028 285.800146 \nL 353.602113 286.843584 \nL 358.292199 287.052271 \nL 362.982285 286.426209 \nL 367.672371 284.756708 \nL 372.362457 286.426209 \nL 377.052543 286.217521 \nL 381.742629 274.948394 \nL 386.432715 283.921958 \nL 391.122801 283.921958 \nL 395.812887 285.382771 \nL 400.502972 286.008834 \nL 405.193058 286.008834 \nL 409.883144 275.783144 \nL 414.57323 282.669833 \nL 419.263316 283.713271 \nL 423.953402 286.008834 \nL 428.643488 281.000333 \nL 433.333574 286.843584 \nL 438.02366 281.835083 \nL 442.713746 252.618828 \nL 447.403831 275.157082 \nL 452.093917 256.166516 \nL 456.784003 282.669833 \nL 461.474089 266.80958 \nL 466.164175 271.609394 \nL 470.854261 274.531019 \nL 475.544347 224.863385 \nL 480.234433 235.715137 \nL 484.924519 262.63583 \nL 489.614605 250.323265 \nL 494.30469 260.548954 \nL 498.994776 215.681134 \nL 503.684862 234.045637 \nL 508.374948 178.117377 \nL 513.065034 264.722705 \nL 517.75512 186.256191 \nL 522.445206 261.801079 \nL 527.135292 161.422374 \nL 531.825378 213.176883 \nL 536.515463 158.918124 \nL 541.205549 143.266559 \nL 545.895635 207.124945 \nL 555.275807 104.241989 \nL 559.965893 150.570622 \nL 564.655979 233.836949 \nL 569.346065 131.371369 \nL 574.036151 132.832182 \nL 578.726237 140.344933 \nL 583.416322 152.240123 \nL 588.106408 124.275993 \nL 592.796494 91.51205 \nL 597.48658 65.634795 \nL 602.176666 146.605559 \nL 606.866752 99.024801 \nL 611.556838 140.344933 \nL 616.246924 77.11261 \nL 620.93701 75.651797 \nL 625.627096 44.557354 \nL 630.317181 67.095608 \nL 635.007267 57.078606 \nL 639.697353 88.590424 \nL 644.387439 88.799112 \nL 649.077525 48.31373 \nL 658.457697 51.65273 \nL 663.147783 57.078606 \nL 667.837869 58.330731 \nL 672.527955 34.957727 \nL 672.527955 34.957727 \n\" clip-path=\"url(#p0838f13415)\" style=\"fill: none; stroke: #4c72b0; stroke-width: 1.5; stroke-linecap: round\"/>\n   </g>\n   <g id=\"line2d_13\">\n    <path d=\"M 76.887045 292.946999 \nL 81.577131 284.2016 \nL 86.267217 274.206858 \nL 90.957303 294.196341 \nL 95.647389 282.952257 \nL 100.337475 292.946999 \nL 105.027561 283.576928 \nL 109.717647 284.826271 \nL 114.407733 277.330215 \nL 119.097819 287.324956 \nL 123.787904 291.072984 \nL 128.47799 281.702914 \nL 133.168076 285.450942 \nL 137.858162 286.075614 \nL 142.548248 290.448313 \nL 147.238334 289.823642 \nL 151.92842 291.697656 \nL 156.618506 287.324956 \nL 161.308592 293.57167 \nL 165.998678 282.327585 \nL 170.688763 291.697656 \nL 175.378849 287.949628 \nL 180.068935 287.949628 \nL 184.759021 286.700285 \nL 189.449107 292.946999 \nL 194.139193 291.697656 \nL 198.829279 289.823642 \nL 203.519365 294.821013 \nL 208.209451 292.322327 \nL 212.899537 285.450942 \nL 217.589622 292.946999 \nL 222.279708 288.574299 \nL 226.969794 286.700285 \nL 231.65988 293.57167 \nL 236.349966 293.57167 \nL 241.040052 287.949628 \nL 245.730138 293.57167 \nL 250.420224 293.57167 \nL 255.11031 286.700285 \nL 259.800395 292.322327 \nL 264.490481 292.946999 \nL 273.870653 291.697656 \nL 278.560739 282.952257 \nL 283.250825 287.949628 \nL 287.940911 294.196341 \nL 292.630997 289.823642 \nL 297.321083 290.448313 \nL 302.011169 284.2016 \nL 306.701254 292.322327 \nL 311.39134 292.322327 \nL 316.081426 289.823642 \nL 320.771512 291.072984 \nL 325.461598 287.949628 \nL 330.151684 291.697656 \nL 334.84177 288.574299 \nL 339.531856 283.576928 \nL 344.221942 291.697656 \nL 348.912028 291.697656 \nL 353.602113 289.19897 \nL 358.292199 291.697656 \nL 362.982285 290.448313 \nL 367.672371 291.072984 \nL 372.362457 285.450942 \nL 377.052543 291.697656 \nL 381.742629 276.705543 \nL 386.432715 290.448313 \nL 395.812887 290.448313 \nL 400.502972 287.949628 \nL 405.193058 289.823642 \nL 409.883144 281.702914 \nL 414.57323 279.8289 \nL 419.263316 288.574299 \nL 423.953402 286.700285 \nL 428.643488 286.075614 \nL 433.333574 286.075614 \nL 438.02366 276.080872 \nL 442.713746 259.214745 \nL 447.403831 284.2016 \nL 452.093917 264.836787 \nL 456.784003 289.823642 \nL 461.474089 269.209487 \nL 466.164175 275.4562 \nL 470.854261 279.8289 \nL 475.544347 236.101905 \nL 480.234433 241.723947 \nL 484.924519 274.831529 \nL 489.614605 247.970661 \nL 494.30469 257.965402 \nL 498.994776 223.608478 \nL 503.684862 242.348618 \nL 508.374948 191.125567 \nL 513.065034 264.212116 \nL 517.75512 196.747609 \nL 522.445206 262.338102 \nL 527.135292 168.012727 \nL 531.825378 229.23052 \nL 536.515463 176.133454 \nL 541.205549 158.642656 \nL 545.895635 221.109792 \nL 550.585721 165.514041 \nL 555.275807 102.422234 \nL 559.965893 163.015356 \nL 564.655979 234.852562 \nL 569.346065 141.151858 \nL 574.036151 139.277844 \nL 583.416322 164.264699 \nL 588.106408 134.905145 \nL 592.796494 99.923549 \nL 597.48658 79.309394 \nL 602.176666 149.272586 \nL 606.866752 107.419605 \nL 611.556838 149.272586 \nL 616.246924 86.80545 \nL 620.93701 84.306765 \nL 625.627096 53.697868 \nL 630.317181 70.563995 \nL 635.007267 62.443267 \nL 639.697353 100.54822 \nL 644.387439 108.668948 \nL 649.077525 59.31991 \nL 653.767611 53.697868 \nL 658.457697 49.94984 \nL 663.147783 73.687352 \nL 667.837869 76.186037 \nL 672.527955 43.703126 \nL 672.527955 43.703126 \n\" clip-path=\"url(#p0838f13415)\" style=\"fill: none; stroke: #dd8452; stroke-width: 1.5; stroke-linecap: round\"/>\n   </g>\n   <g id=\"patch_3\">\n    <path d=\"M 47.105 308.421875 \nL 47.105 21.935625 \n\" style=\"fill: none; stroke: #ffffff; stroke-width: 1.25; stroke-linejoin: miter; stroke-linecap: square\"/>\n   </g>\n   <g id=\"patch_4\">\n    <path d=\"M 702.31 308.421875 \nL 702.31 21.935625 \n\" style=\"fill: none; stroke: #ffffff; stroke-width: 1.25; stroke-linejoin: miter; stroke-linecap: square\"/>\n   </g>\n   <g id=\"patch_5\">\n    <path d=\"M 47.105 308.421875 \nL 702.31 308.421875 \n\" style=\"fill: none; stroke: #ffffff; stroke-width: 1.25; stroke-linejoin: miter; stroke-linecap: square\"/>\n   </g>\n   <g id=\"patch_6\">\n    <path d=\"M 47.105 21.935625 \nL 702.31 21.935625 \n\" style=\"fill: none; stroke: #ffffff; stroke-width: 1.25; stroke-linejoin: miter; stroke-linecap: square\"/>\n   </g>\n   <g id=\"text_14\">\n    <!-- Deep neural network with different probabilities for drop-out -->\n    <g style=\"fill: #262626\" transform=\"translate(217.40625 15.935625)scale(0.12 -0.12)\">\n     <defs>\n      <path id=\"ArialMT-44\" d=\"M 494 0 \nL 494 4581 \nL 2072 4581 \nQ 2606 4581 2888 4516 \nQ 3281 4425 3559 4188 \nQ 3922 3881 4101 3404 \nQ 4281 2928 4281 2316 \nQ 4281 1794 4159 1391 \nQ 4038 988 3847 723 \nQ 3656 459 3429 307 \nQ 3203 156 2883 78 \nQ 2563 0 2147 0 \nL 494 0 \nz\nM 1100 541 \nL 2078 541 \nQ 2531 541 2789 625 \nQ 3047 709 3200 863 \nQ 3416 1078 3536 1442 \nQ 3656 1806 3656 2325 \nQ 3656 3044 3420 3430 \nQ 3184 3816 2847 3947 \nQ 2603 4041 2063 4041 \nL 1100 4041 \nL 1100 541 \nz\n\" transform=\"scale(0.015625)\"/>\n      <path id=\"ArialMT-65\" d=\"M 2694 1069 \nL 3275 997 \nQ 3138 488 2766 206 \nQ 2394 -75 1816 -75 \nQ 1088 -75 661 373 \nQ 234 822 234 1631 \nQ 234 2469 665 2931 \nQ 1097 3394 1784 3394 \nQ 2450 3394 2872 2941 \nQ 3294 2488 3294 1666 \nQ 3294 1616 3291 1516 \nL 816 1516 \nQ 847 969 1125 678 \nQ 1403 388 1819 388 \nQ 2128 388 2347 550 \nQ 2566 713 2694 1069 \nz\nM 847 1978 \nL 2700 1978 \nQ 2663 2397 2488 2606 \nQ 2219 2931 1791 2931 \nQ 1403 2931 1139 2672 \nQ 875 2413 847 1978 \nz\n\" transform=\"scale(0.015625)\"/>\n      <path id=\"ArialMT-20\" transform=\"scale(0.015625)\"/>\n      <path id=\"ArialMT-6e\" d=\"M 422 0 \nL 422 3319 \nL 928 3319 \nL 928 2847 \nQ 1294 3394 1984 3394 \nQ 2284 3394 2536 3286 \nQ 2788 3178 2913 3003 \nQ 3038 2828 3088 2588 \nQ 3119 2431 3119 2041 \nL 3119 0 \nL 2556 0 \nL 2556 2019 \nQ 2556 2363 2490 2533 \nQ 2425 2703 2258 2804 \nQ 2091 2906 1866 2906 \nQ 1506 2906 1245 2678 \nQ 984 2450 984 1813 \nL 984 0 \nL 422 0 \nz\n\" transform=\"scale(0.015625)\"/>\n      <path id=\"ArialMT-77\" d=\"M 1034 0 \nL 19 3319 \nL 600 3319 \nL 1128 1403 \nL 1325 691 \nQ 1338 744 1497 1375 \nL 2025 3319 \nL 2603 3319 \nL 3100 1394 \nL 3266 759 \nL 3456 1400 \nL 4025 3319 \nL 4572 3319 \nL 3534 0 \nL 2950 0 \nL 2422 1988 \nL 2294 2553 \nL 1622 0 \nL 1034 0 \nz\n\" transform=\"scale(0.015625)\"/>\n      <path id=\"ArialMT-6b\" d=\"M 425 0 \nL 425 4581 \nL 988 4581 \nL 988 1969 \nL 2319 3319 \nL 3047 3319 \nL 1778 2088 \nL 3175 0 \nL 2481 0 \nL 1384 1697 \nL 988 1316 \nL 988 0 \nL 425 0 \nz\n\" transform=\"scale(0.015625)\"/>\n      <path id=\"ArialMT-68\" d=\"M 422 0 \nL 422 4581 \nL 984 4581 \nL 984 2938 \nQ 1378 3394 1978 3394 \nQ 2347 3394 2619 3248 \nQ 2891 3103 3008 2847 \nQ 3125 2591 3125 2103 \nL 3125 0 \nL 2563 0 \nL 2563 2103 \nQ 2563 2525 2380 2717 \nQ 2197 2909 1863 2909 \nQ 1613 2909 1392 2779 \nQ 1172 2650 1078 2428 \nQ 984 2206 984 1816 \nL 984 0 \nL 422 0 \nz\n\" transform=\"scale(0.015625)\"/>\n      <path id=\"ArialMT-64\" d=\"M 2575 0 \nL 2575 419 \nQ 2259 -75 1647 -75 \nQ 1250 -75 917 144 \nQ 584 363 401 755 \nQ 219 1147 219 1656 \nQ 219 2153 384 2558 \nQ 550 2963 881 3178 \nQ 1213 3394 1622 3394 \nQ 1922 3394 2156 3267 \nQ 2391 3141 2538 2938 \nL 2538 4581 \nL 3097 4581 \nL 3097 0 \nL 2575 0 \nz\nM 797 1656 \nQ 797 1019 1065 703 \nQ 1334 388 1700 388 \nQ 2069 388 2326 689 \nQ 2584 991 2584 1609 \nQ 2584 2291 2321 2609 \nQ 2059 2928 1675 2928 \nQ 1300 2928 1048 2622 \nQ 797 2316 797 1656 \nz\n\" transform=\"scale(0.015625)\"/>\n      <path id=\"ArialMT-66\" d=\"M 556 0 \nL 556 2881 \nL 59 2881 \nL 59 3319 \nL 556 3319 \nL 556 3672 \nQ 556 4006 616 4169 \nQ 697 4388 901 4523 \nQ 1106 4659 1475 4659 \nQ 1713 4659 2000 4603 \nL 1916 4113 \nQ 1741 4144 1584 4144 \nQ 1328 4144 1222 4034 \nQ 1116 3925 1116 3625 \nL 1116 3319 \nL 1763 3319 \nL 1763 2881 \nL 1116 2881 \nL 1116 0 \nL 556 0 \nz\n\" transform=\"scale(0.015625)\"/>\n      <path id=\"ArialMT-73\" d=\"M 197 991 \nL 753 1078 \nQ 800 744 1014 566 \nQ 1228 388 1613 388 \nQ 2000 388 2187 545 \nQ 2375 703 2375 916 \nQ 2375 1106 2209 1216 \nQ 2094 1291 1634 1406 \nQ 1016 1563 777 1677 \nQ 538 1791 414 1992 \nQ 291 2194 291 2438 \nQ 291 2659 392 2848 \nQ 494 3038 669 3163 \nQ 800 3259 1026 3326 \nQ 1253 3394 1513 3394 \nQ 1903 3394 2198 3281 \nQ 2494 3169 2634 2976 \nQ 2775 2784 2828 2463 \nL 2278 2388 \nQ 2241 2644 2061 2787 \nQ 1881 2931 1553 2931 \nQ 1166 2931 1000 2803 \nQ 834 2675 834 2503 \nQ 834 2394 903 2306 \nQ 972 2216 1119 2156 \nQ 1203 2125 1616 2013 \nQ 2213 1853 2448 1751 \nQ 2684 1650 2818 1456 \nQ 2953 1263 2953 975 \nQ 2953 694 2789 445 \nQ 2625 197 2315 61 \nQ 2006 -75 1616 -75 \nQ 969 -75 630 194 \nQ 291 463 197 991 \nz\n\" transform=\"scale(0.015625)\"/>\n      <path id=\"ArialMT-2d\" d=\"M 203 1375 \nL 203 1941 \nL 1931 1941 \nL 1931 1375 \nL 203 1375 \nz\n\" transform=\"scale(0.015625)\"/>\n     </defs>\n     <use xlink:href=\"#ArialMT-44\"/>\n     <use xlink:href=\"#ArialMT-65\" x=\"72.216797\"/>\n     <use xlink:href=\"#ArialMT-65\" x=\"127.832031\"/>\n     <use xlink:href=\"#ArialMT-70\" x=\"183.447266\"/>\n     <use xlink:href=\"#ArialMT-20\" x=\"239.0625\"/>\n     <use xlink:href=\"#ArialMT-6e\" x=\"266.845703\"/>\n     <use xlink:href=\"#ArialMT-65\" x=\"322.460938\"/>\n     <use xlink:href=\"#ArialMT-75\" x=\"378.076172\"/>\n     <use xlink:href=\"#ArialMT-72\" x=\"433.691406\"/>\n     <use xlink:href=\"#ArialMT-61\" x=\"466.992188\"/>\n     <use xlink:href=\"#ArialMT-6c\" x=\"522.607422\"/>\n     <use xlink:href=\"#ArialMT-20\" x=\"544.824219\"/>\n     <use xlink:href=\"#ArialMT-6e\" x=\"572.607422\"/>\n     <use xlink:href=\"#ArialMT-65\" x=\"628.222656\"/>\n     <use xlink:href=\"#ArialMT-74\" x=\"683.837891\"/>\n     <use xlink:href=\"#ArialMT-77\" x=\"711.621094\"/>\n     <use xlink:href=\"#ArialMT-6f\" x=\"783.837891\"/>\n     <use xlink:href=\"#ArialMT-72\" x=\"839.453125\"/>\n     <use xlink:href=\"#ArialMT-6b\" x=\"872.753906\"/>\n     <use xlink:href=\"#ArialMT-20\" x=\"922.753906\"/>\n     <use xlink:href=\"#ArialMT-77\" x=\"950.537109\"/>\n     <use xlink:href=\"#ArialMT-69\" x=\"1022.753906\"/>\n     <use xlink:href=\"#ArialMT-74\" x=\"1044.970703\"/>\n     <use xlink:href=\"#ArialMT-68\" x=\"1072.753906\"/>\n     <use xlink:href=\"#ArialMT-20\" x=\"1128.369141\"/>\n     <use xlink:href=\"#ArialMT-64\" x=\"1156.152344\"/>\n     <use xlink:href=\"#ArialMT-69\" x=\"1211.767578\"/>\n     <use xlink:href=\"#ArialMT-66\" x=\"1233.984375\"/>\n     <use xlink:href=\"#ArialMT-66\" x=\"1260.017578\"/>\n     <use xlink:href=\"#ArialMT-65\" x=\"1287.800781\"/>\n     <use xlink:href=\"#ArialMT-72\" x=\"1343.416016\"/>\n     <use xlink:href=\"#ArialMT-65\" x=\"1376.716797\"/>\n     <use xlink:href=\"#ArialMT-6e\" x=\"1432.332031\"/>\n     <use xlink:href=\"#ArialMT-74\" x=\"1487.947266\"/>\n     <use xlink:href=\"#ArialMT-20\" x=\"1515.730469\"/>\n     <use xlink:href=\"#ArialMT-70\" x=\"1543.513672\"/>\n     <use xlink:href=\"#ArialMT-72\" x=\"1599.128906\"/>\n     <use xlink:href=\"#ArialMT-6f\" x=\"1632.429688\"/>\n     <use xlink:href=\"#ArialMT-62\" x=\"1688.044922\"/>\n     <use xlink:href=\"#ArialMT-61\" x=\"1743.660156\"/>\n     <use xlink:href=\"#ArialMT-62\" x=\"1799.275391\"/>\n     <use xlink:href=\"#ArialMT-69\" x=\"1854.890625\"/>\n     <use xlink:href=\"#ArialMT-6c\" x=\"1877.107422\"/>\n     <use xlink:href=\"#ArialMT-69\" x=\"1899.324219\"/>\n     <use xlink:href=\"#ArialMT-74\" x=\"1921.541016\"/>\n     <use xlink:href=\"#ArialMT-69\" x=\"1949.324219\"/>\n     <use xlink:href=\"#ArialMT-65\" x=\"1971.541016\"/>\n     <use xlink:href=\"#ArialMT-73\" x=\"2027.15625\"/>\n     <use xlink:href=\"#ArialMT-20\" x=\"2077.15625\"/>\n     <use xlink:href=\"#ArialMT-66\" x=\"2104.939453\"/>\n     <use xlink:href=\"#ArialMT-6f\" x=\"2132.722656\"/>\n     <use xlink:href=\"#ArialMT-72\" x=\"2188.337891\"/>\n     <use xlink:href=\"#ArialMT-20\" x=\"2221.638672\"/>\n     <use xlink:href=\"#ArialMT-64\" x=\"2249.421875\"/>\n     <use xlink:href=\"#ArialMT-72\" x=\"2305.037109\"/>\n     <use xlink:href=\"#ArialMT-6f\" x=\"2338.337891\"/>\n     <use xlink:href=\"#ArialMT-70\" x=\"2393.953125\"/>\n     <use xlink:href=\"#ArialMT-2d\" x=\"2449.568359\"/>\n     <use xlink:href=\"#ArialMT-6f\" x=\"2482.869141\"/>\n     <use xlink:href=\"#ArialMT-75\" x=\"2538.484375\"/>\n     <use xlink:href=\"#ArialMT-74\" x=\"2594.099609\"/>\n    </g>\n   </g>\n   <g id=\"legend_1\">\n    <g id=\"patch_7\">\n     <path d=\"M 54.805 61.855312 \nL 114.651875 61.855312 \nQ 116.851875 61.855312 116.851875 59.655312 \nL 116.851875 29.635625 \nQ 116.851875 27.435625 114.651875 27.435625 \nL 54.805 27.435625 \nQ 52.605 27.435625 52.605 29.635625 \nL 52.605 59.655312 \nQ 52.605 61.855312 54.805 61.855312 \nz\n\" style=\"fill: #eaeaf2; opacity: 0.8; stroke: #cccccc; stroke-linejoin: miter\"/>\n    </g>\n    <g id=\"line2d_14\">\n     <path d=\"M 57.005 35.859219 \nL 68.005 35.859219 \nL 79.005 35.859219 \n\" style=\"fill: none; stroke: #4c72b0; stroke-width: 1.5; stroke-linecap: round\"/>\n    </g>\n    <g id=\"text_15\">\n     <!-- Train -->\n     <g style=\"fill: #262626\" transform=\"translate(87.805 39.709219)scale(0.11 -0.11)\">\n      <defs>\n       <path id=\"ArialMT-54\" d=\"M 1659 0 \nL 1659 4041 \nL 150 4041 \nL 150 4581 \nL 3781 4581 \nL 3781 4041 \nL 2266 4041 \nL 2266 0 \nL 1659 0 \nz\n\" transform=\"scale(0.015625)\"/>\n      </defs>\n      <use xlink:href=\"#ArialMT-54\"/>\n      <use xlink:href=\"#ArialMT-72\" x=\"57.333984\"/>\n      <use xlink:href=\"#ArialMT-61\" x=\"90.634766\"/>\n      <use xlink:href=\"#ArialMT-69\" x=\"146.25\"/>\n      <use xlink:href=\"#ArialMT-6e\" x=\"168.466797\"/>\n     </g>\n    </g>\n    <g id=\"line2d_15\">\n     <path d=\"M 57.005 51.419063 \nL 68.005 51.419063 \nL 79.005 51.419063 \n\" style=\"fill: none; stroke: #dd8452; stroke-width: 1.5; stroke-linecap: round\"/>\n    </g>\n    <g id=\"text_16\">\n     <!-- Test -->\n     <g style=\"fill: #262626\" transform=\"translate(87.805 55.269063)scale(0.11 -0.11)\">\n      <use xlink:href=\"#ArialMT-54\"/>\n      <use xlink:href=\"#ArialMT-65\" x=\"49.958984\"/>\n      <use xlink:href=\"#ArialMT-73\" x=\"105.574219\"/>\n      <use xlink:href=\"#ArialMT-74\" x=\"155.574219\"/>\n     </g>\n    </g>\n   </g>\n  </g>\n </g>\n <defs>\n  <clipPath id=\"p0838f13415\">\n   <rect x=\"47.105\" y=\"21.935625\" width=\"655.205\" height=\"286.48625\"/>\n  </clipPath>\n </defs>\n</svg>\n",
      "text/plain": [
       "<Figure size 720x360 with 1 Axes>"
      ]
     },
     "metadata": {},
     "output_type": "display_data"
    }
   ],
   "source": [
    "fig, ax = plt.subplots(1, 1, figsize=(10, 5))\n",
    "\n",
    "ax.plot(probs, accs_train, label='Train')\n",
    "ax.plot(probs, accs_test, label='Test')\n",
    "\n",
    "ax.set_title(\"Deep neural network with different probabilities for drop-out\")\n",
    "ax.set_xlabel(\"probability\")\n",
    "ax.set_ylabel(\"Accuracy\")\n",
    "ax.grid(True)\n",
    "ax.legend()\n",
    "\n",
    "fig.tight_layout()\n",
    "plt.show()\n"
   ]
  },
  {
   "cell_type": "code",
   "execution_count": 708,
   "metadata": {},
   "outputs": [
    {
     "name": "stdout",
     "output_type": "stream",
     "text": [
      "124\n",
      "0.9765625\n"
     ]
    }
   ],
   "source": [
    "i = np.argmax(accs_test[:-1])\n",
    "print(i)\n",
    "print(probs[i])"
   ]
  },
  {
   "cell_type": "code",
   "execution_count": 709,
   "metadata": {},
   "outputs": [],
   "source": [
    "accs_train = []\n",
    "accs_test = []\n",
    "network = make_network( \n",
    "        input_size, hidden_layers_size,\n",
    "        output_size, n_layers=6, activation_class=ReLU)\n",
    "\n",
    "cb = Callback(network, X_train, y_train, X_test, y_test, print=False)\n",
    "network_with_dropout = []\n",
    "for layer in network:\n",
    "    network_with_dropout.append(layer)\n",
    "    if isinstance(layer, ReLU):\n",
    "        network_with_dropout.append(DropOut(probs[i]))\n",
    "initialize_network(network_with_dropout, 'Kaiming')\n",
    "        \n",
    "res = minimize(\n",
    "    compute_loss_grad, get_weights(network_with_dropout),       \n",
    "    args=[network_with_dropout, X_train, y_train], \n",
    "    method=\"L-BFGS-B\",                \n",
    "    jac=True,\n",
    "    callback=cb.call)\n",
    "\n",
    "accs_train.append(cb.train_acc[-1])\n",
    "accs_test.append(cb.test_acc[-1])\n",
    "\n",
    "network = make_network( \n",
    "        input_size, hidden_layers_size,\n",
    "        output_size, n_layers=6, activation_class=ReLU)\n",
    "\n",
    "cb = Callback(network, X_train, y_train, X_test, y_test, print=False)\n",
    "initialize_network(network, 'Kaiming')\n",
    "        \n",
    "res = minimize(\n",
    "    compute_loss_grad, get_weights(network),       \n",
    "    args=[network, X_train, y_train], \n",
    "    method=\"L-BFGS-B\",                \n",
    "    jac=True,\n",
    "    callback=cb.call)\n",
    "accs_train.append(cb.train_acc[-1])\n",
    "accs_test.append(cb.test_acc[-1])"
   ]
  },
  {
   "cell_type": "code",
   "execution_count": 710,
   "metadata": {},
   "outputs": [
    {
     "name": "stdout",
     "output_type": "stream",
     "text": [
      "acc train with dropout 0.9628804751299184 | acc test with dropout 0.9333333333333333\n",
      "acc train without dropout 1.0 | acc test without dropout 0.9444444444444444\n"
     ]
    }
   ],
   "source": [
    "print(f\"acc train with dropout {accs_train[0]} |\",\n",
    "      f\"acc test with dropout {accs_test[0]}\")\n",
    "print(f\"acc train without dropout {accs_train[1]} |\",\n",
    "      f\"acc test without dropout {accs_test[1]}\")\n"
   ]
  },
  {
   "cell_type": "markdown",
   "metadata": {},
   "source": [
    "Видно, что DropOut в нашем случае ничего не дал."
   ]
  },
  {
   "cell_type": "markdown",
   "metadata": {
    "hidden": true
   },
   "source": [
    "### `BatchNormalization (1 балл)`\n",
    "\n",
    "Реализуйте слой `BatchNormalization`. Сравните обучение сети из большого числа слоёв при использовании `BatchNormalization` и без его использования. Сделайте выводы."
   ]
  },
  {
   "cell_type": "markdown",
   "metadata": {},
   "source": [
    "http://www.cs.cmu.edu/~bhiksha/courses/deeplearning/Spring.2018/www/slides/lec8.stochastic_gradient.pdf - формулы брал отсюда"
   ]
  },
  {
   "cell_type": "code",
   "execution_count": 753,
   "metadata": {},
   "outputs": [],
   "source": [
    "class BatchNormalization:\n",
    "    def __init__(self, num_features, eps=1e-05, momentum=0.1):\n",
    "        self.eval = False\n",
    "        self.gamma = np.ones(num_features)\n",
    "        self.beta = np.zeros(num_features)\n",
    "        self.params = [self.gamma, self.beta] \n",
    "        self.e_ = 0\n",
    "        self.var_ = 0\n",
    "        self.momentum = momentum\n",
    "        self.eps = eps\n",
    "\n",
    "    def forward(self, input):\n",
    "        \n",
    "        if not self.eval:\n",
    "            self.input = input\n",
    "            self.e = np.mean(input, axis=0)\n",
    "            self.var = np.var(input, axis=0)\n",
    "            self.e_ = self.momentum * self.e_ + (1 - self.momentum) * self.e\n",
    "            self.var_ = (\n",
    "                self.momentum * self.var_ + (1 - self.momentum) * self.var)\n",
    "            self.input_norm = (input - self.e) / np.sqrt(self.var + self.eps)\n",
    "            output = self.input_norm * self.gamma + self.beta\n",
    "            self.batch_size = X.shape[0]\n",
    "\n",
    "            return output\n",
    "        \n",
    "        input_norm = (input - self.e_) / np.sqrt(self.var_ + self.eps)\n",
    "        return input_norm * self.gamma + self.beta\n",
    "            \n",
    "    def backward(self, grad_output):\n",
    "        \n",
    "        grad_beta = np.sum(grad_output, axis=0)\n",
    "        grad_gamma = np.sum(grad_output * self.input_norm, axis=0)\n",
    "        \n",
    "        grad_input_norm = grad_output * self.gamma # b_ x n_out\n",
    "\n",
    "        grad_var = np.sum(grad_input_norm * (self.input - self.e), axis=0) \\\n",
    "            * (-1/2) * ((self.var + self.eps) ** (-3 / 2))\n",
    "\n",
    "        grad_e = np.sum(grad_input_norm * (-1 / np.sqrt(self.var \\\n",
    "            + self.eps)), axis=0) + grad_var / self.batch_size * np.sum(-2 * \\\n",
    "                (self.input - self.e), axis=0)\n",
    "\n",
    "        grad_x = grad_input_norm / np.sqrt(self.var + self.eps) + \\\n",
    "            grad_var * 2 * (self.input - self.e) / self.batch_size + \\\n",
    "            grad_e / self.batch_size\n",
    "        \n",
    "        return grad_x, np.r_[grad_beta, grad_gamma]\n",
    "\n",
    "    def __repr__(self):\n",
    "        return f'BatchNormalization()'"
   ]
  },
  {
   "cell_type": "code",
   "execution_count": 757,
   "metadata": {},
   "outputs": [],
   "source": [
    "class Callback:\n",
    "    def __init__(self, network, X_train, y_train, X_test, y_test, print=False):\n",
    "        self.network = network\n",
    "        self.X_train = X_train\n",
    "        self.X_test = X_test\n",
    "        self.y_train = y_train\n",
    "        self.y_test = y_test\n",
    "        self.print = print\n",
    "        self.train_acc = []\n",
    "        self.test_acc = []\n",
    "        \n",
    "    def call(self, weights):\n",
    "        \"\"\"\n",
    "        Computes quality on train and test set with given weights\n",
    "        and saves to self.train_acc and self.test_acc.\n",
    "        If self.print is True, also prints these 2 values\n",
    "        \"\"\"\n",
    "        set_weights(weights, self.network)\n",
    "        for layer in self.network:\n",
    "            layer.eval = True\n",
    "        self.test_acc.append(np.mean(\n",
    "            predict(self.network, self.X_test) == self.y_test))\n",
    "        self.train_acc.append(np.mean(\n",
    "            predict(self.network, self.X_train) == self.y_train))\n",
    "        for layer in self.network:\n",
    "            layer.eval = False\n",
    "\n",
    "        if self.print:\n",
    "            print(f\"Accuracy on train {self.train_acc[-1]:.4f} ||\",\n",
    "                   f\"test {self.test_acc[-1]:.4f}\")"
   ]
  },
  {
   "cell_type": "code",
   "execution_count": 780,
   "metadata": {},
   "outputs": [],
   "source": [
    "accs_test = np.zeros((2, 5))\n",
    "accs_train = np.zeros((2, 5))"
   ]
  },
  {
   "cell_type": "code",
   "execution_count": 783,
   "metadata": {},
   "outputs": [],
   "source": [
    "for i in range(5):\n",
    "        network = make_network( \n",
    "        input_size, hidden_layers_size,\n",
    "        output_size, n_layers=5, activation_class=ReLU)\n",
    "\n",
    "        network_batch_normalization = []\n",
    "        for j in range(len(network)):\n",
    "                network_batch_normalization.append(network[j])\n",
    "                if isinstance(network[j], ReLU):\n",
    "                        network_batch_normalization.append(BatchNormalization(\n",
    "                network[j - 1].weights.shape[1]))\n",
    "\n",
    "        initialize_network(network_batch_normalization, 'Kaiming')\n",
    "\n",
    "        train_acc, test_acc = sgd_momentum(network_batch_normalization, X_train, y_train, X_test, y_test, batch_size=300, lr=0.05, alpha=0.5, epoch=300, verbose=False)\n",
    "\n",
    "        accs_test[0, i] = test_acc[-1]\n",
    "        accs_train[0, i] = train_acc[-1]\n",
    "    \n",
    "\n",
    "for i in range(5):\n",
    "        network = make_network( \n",
    "                input_size, hidden_layers_size,\n",
    "                output_size, n_layers=4, activation_class=ReLU)\n",
    "\n",
    "        initialize_network(network, 'Kaiming')\n",
    "                \n",
    "        train_acc, test_acc = sgd_momentum(network, X_train, y_train, X_test, \n",
    "                                        y_test, batch_size=300, lr=0.05, alpha=0.5, epoch=300)\n",
    "        accs_test[1, i] = test_acc[-1]\n",
    "        accs_train[1, i] = train_acc[-1]"
   ]
  },
  {
   "cell_type": "code",
   "execution_count": 784,
   "metadata": {},
   "outputs": [
    {
     "data": {
      "image/svg+xml": "<?xml version=\"1.0\" encoding=\"utf-8\" standalone=\"no\"?>\n<!DOCTYPE svg PUBLIC \"-//W3C//DTD SVG 1.1//EN\"\n  \"http://www.w3.org/Graphics/SVG/1.1/DTD/svg11.dtd\">\n<svg xmlns:xlink=\"http://www.w3.org/1999/xlink\" width=\"709.447187pt\" height=\"350.056719pt\" viewBox=\"0 0 709.447187 350.056719\" xmlns=\"http://www.w3.org/2000/svg\" version=\"1.1\">\n <metadata>\n  <rdf:RDF xmlns:dc=\"http://purl.org/dc/elements/1.1/\" xmlns:cc=\"http://creativecommons.org/ns#\" xmlns:rdf=\"http://www.w3.org/1999/02/22-rdf-syntax-ns#\">\n   <cc:Work>\n    <dc:type rdf:resource=\"http://purl.org/dc/dcmitype/StillImage\"/>\n    <dc:date>2023-03-13T02:28:30.273992</dc:date>\n    <dc:format>image/svg+xml</dc:format>\n    <dc:creator>\n     <cc:Agent>\n      <dc:title>Matplotlib v3.5.1, https://matplotlib.org/</dc:title>\n     </cc:Agent>\n    </dc:creator>\n   </cc:Work>\n  </rdf:RDF>\n </metadata>\n <defs>\n  <style type=\"text/css\">*{stroke-linejoin: round; stroke-linecap: butt}</style>\n </defs>\n <g id=\"figure_1\">\n  <g id=\"patch_1\">\n   <path d=\"M 0 350.056719 \nL 709.447187 350.056719 \nL 709.447187 0 \nL 0 0 \nz\n\" style=\"fill: #ffffff\"/>\n  </g>\n  <g id=\"axes_1\">\n   <g id=\"patch_2\">\n    <path d=\"M 59.339063 308.3225 \nL 702.247187 308.3225 \nL 702.247187 21.789375 \nL 59.339063 21.789375 \nz\n\" style=\"fill: #eaeaf2\"/>\n   </g>\n   <g id=\"matplotlib.axis_1\">\n    <g id=\"xtick_1\">\n     <g id=\"line2d_1\">\n      <path d=\"M 220.066094 308.3225 \nL 220.066094 21.789375 \n\" clip-path=\"url(#p7c92eb4235)\" style=\"fill: none; stroke: #ffffff; stroke-linecap: round\"/>\n     </g>\n     <g id=\"text_1\">\n      <!-- batch norm -->\n      <g style=\"fill: #262626\" transform=\"translate(192.554922 325.696094)scale(0.11 -0.11)\">\n       <defs>\n        <path id=\"ArialMT-62\" d=\"M 941 0 \nL 419 0 \nL 419 4581 \nL 981 4581 \nL 981 2947 \nQ 1338 3394 1891 3394 \nQ 2197 3394 2470 3270 \nQ 2744 3147 2920 2923 \nQ 3097 2700 3197 2384 \nQ 3297 2069 3297 1709 \nQ 3297 856 2875 390 \nQ 2453 -75 1863 -75 \nQ 1275 -75 941 416 \nL 941 0 \nz\nM 934 1684 \nQ 934 1088 1097 822 \nQ 1363 388 1816 388 \nQ 2184 388 2453 708 \nQ 2722 1028 2722 1663 \nQ 2722 2313 2464 2622 \nQ 2206 2931 1841 2931 \nQ 1472 2931 1203 2611 \nQ 934 2291 934 1684 \nz\n\" transform=\"scale(0.015625)\"/>\n        <path id=\"ArialMT-61\" d=\"M 2588 409 \nQ 2275 144 1986 34 \nQ 1697 -75 1366 -75 \nQ 819 -75 525 192 \nQ 231 459 231 875 \nQ 231 1119 342 1320 \nQ 453 1522 633 1644 \nQ 813 1766 1038 1828 \nQ 1203 1872 1538 1913 \nQ 2219 1994 2541 2106 \nQ 2544 2222 2544 2253 \nQ 2544 2597 2384 2738 \nQ 2169 2928 1744 2928 \nQ 1347 2928 1158 2789 \nQ 969 2650 878 2297 \nL 328 2372 \nQ 403 2725 575 2942 \nQ 747 3159 1072 3276 \nQ 1397 3394 1825 3394 \nQ 2250 3394 2515 3294 \nQ 2781 3194 2906 3042 \nQ 3031 2891 3081 2659 \nQ 3109 2516 3109 2141 \nL 3109 1391 \nQ 3109 606 3145 398 \nQ 3181 191 3288 0 \nL 2700 0 \nQ 2613 175 2588 409 \nz\nM 2541 1666 \nQ 2234 1541 1622 1453 \nQ 1275 1403 1131 1340 \nQ 988 1278 909 1158 \nQ 831 1038 831 891 \nQ 831 666 1001 516 \nQ 1172 366 1500 366 \nQ 1825 366 2078 508 \nQ 2331 650 2450 897 \nQ 2541 1088 2541 1459 \nL 2541 1666 \nz\n\" transform=\"scale(0.015625)\"/>\n        <path id=\"ArialMT-74\" d=\"M 1650 503 \nL 1731 6 \nQ 1494 -44 1306 -44 \nQ 1000 -44 831 53 \nQ 663 150 594 308 \nQ 525 466 525 972 \nL 525 2881 \nL 113 2881 \nL 113 3319 \nL 525 3319 \nL 525 4141 \nL 1084 4478 \nL 1084 3319 \nL 1650 3319 \nL 1650 2881 \nL 1084 2881 \nL 1084 941 \nQ 1084 700 1114 631 \nQ 1144 563 1211 522 \nQ 1278 481 1403 481 \nQ 1497 481 1650 503 \nz\n\" transform=\"scale(0.015625)\"/>\n        <path id=\"ArialMT-63\" d=\"M 2588 1216 \nL 3141 1144 \nQ 3050 572 2676 248 \nQ 2303 -75 1759 -75 \nQ 1078 -75 664 370 \nQ 250 816 250 1647 \nQ 250 2184 428 2587 \nQ 606 2991 970 3192 \nQ 1334 3394 1763 3394 \nQ 2303 3394 2647 3120 \nQ 2991 2847 3088 2344 \nL 2541 2259 \nQ 2463 2594 2264 2762 \nQ 2066 2931 1784 2931 \nQ 1359 2931 1093 2626 \nQ 828 2322 828 1663 \nQ 828 994 1084 691 \nQ 1341 388 1753 388 \nQ 2084 388 2306 591 \nQ 2528 794 2588 1216 \nz\n\" transform=\"scale(0.015625)\"/>\n        <path id=\"ArialMT-68\" d=\"M 422 0 \nL 422 4581 \nL 984 4581 \nL 984 2938 \nQ 1378 3394 1978 3394 \nQ 2347 3394 2619 3248 \nQ 2891 3103 3008 2847 \nQ 3125 2591 3125 2103 \nL 3125 0 \nL 2563 0 \nL 2563 2103 \nQ 2563 2525 2380 2717 \nQ 2197 2909 1863 2909 \nQ 1613 2909 1392 2779 \nQ 1172 2650 1078 2428 \nQ 984 2206 984 1816 \nL 984 0 \nL 422 0 \nz\n\" transform=\"scale(0.015625)\"/>\n        <path id=\"ArialMT-20\" transform=\"scale(0.015625)\"/>\n        <path id=\"ArialMT-6e\" d=\"M 422 0 \nL 422 3319 \nL 928 3319 \nL 928 2847 \nQ 1294 3394 1984 3394 \nQ 2284 3394 2536 3286 \nQ 2788 3178 2913 3003 \nQ 3038 2828 3088 2588 \nQ 3119 2431 3119 2041 \nL 3119 0 \nL 2556 0 \nL 2556 2019 \nQ 2556 2363 2490 2533 \nQ 2425 2703 2258 2804 \nQ 2091 2906 1866 2906 \nQ 1506 2906 1245 2678 \nQ 984 2450 984 1813 \nL 984 0 \nL 422 0 \nz\n\" transform=\"scale(0.015625)\"/>\n        <path id=\"ArialMT-6f\" d=\"M 213 1659 \nQ 213 2581 725 3025 \nQ 1153 3394 1769 3394 \nQ 2453 3394 2887 2945 \nQ 3322 2497 3322 1706 \nQ 3322 1066 3130 698 \nQ 2938 331 2570 128 \nQ 2203 -75 1769 -75 \nQ 1072 -75 642 372 \nQ 213 819 213 1659 \nz\nM 791 1659 \nQ 791 1022 1069 705 \nQ 1347 388 1769 388 \nQ 2188 388 2466 706 \nQ 2744 1025 2744 1678 \nQ 2744 2294 2464 2611 \nQ 2184 2928 1769 2928 \nQ 1347 2928 1069 2612 \nQ 791 2297 791 1659 \nz\n\" transform=\"scale(0.015625)\"/>\n        <path id=\"ArialMT-72\" d=\"M 416 0 \nL 416 3319 \nL 922 3319 \nL 922 2816 \nQ 1116 3169 1280 3281 \nQ 1444 3394 1641 3394 \nQ 1925 3394 2219 3213 \nL 2025 2691 \nQ 1819 2813 1613 2813 \nQ 1428 2813 1281 2702 \nQ 1134 2591 1072 2394 \nQ 978 2094 978 1738 \nL 978 0 \nL 416 0 \nz\n\" transform=\"scale(0.015625)\"/>\n        <path id=\"ArialMT-6d\" d=\"M 422 0 \nL 422 3319 \nL 925 3319 \nL 925 2853 \nQ 1081 3097 1340 3245 \nQ 1600 3394 1931 3394 \nQ 2300 3394 2536 3241 \nQ 2772 3088 2869 2813 \nQ 3263 3394 3894 3394 \nQ 4388 3394 4653 3120 \nQ 4919 2847 4919 2278 \nL 4919 0 \nL 4359 0 \nL 4359 2091 \nQ 4359 2428 4304 2576 \nQ 4250 2725 4106 2815 \nQ 3963 2906 3769 2906 \nQ 3419 2906 3187 2673 \nQ 2956 2441 2956 1928 \nL 2956 0 \nL 2394 0 \nL 2394 2156 \nQ 2394 2531 2256 2718 \nQ 2119 2906 1806 2906 \nQ 1569 2906 1367 2781 \nQ 1166 2656 1075 2415 \nQ 984 2175 984 1722 \nL 984 0 \nL 422 0 \nz\n\" transform=\"scale(0.015625)\"/>\n       </defs>\n       <use xlink:href=\"#ArialMT-62\"/>\n       <use xlink:href=\"#ArialMT-61\" x=\"55.615234\"/>\n       <use xlink:href=\"#ArialMT-74\" x=\"111.230469\"/>\n       <use xlink:href=\"#ArialMT-63\" x=\"139.013672\"/>\n       <use xlink:href=\"#ArialMT-68\" x=\"189.013672\"/>\n       <use xlink:href=\"#ArialMT-20\" x=\"244.628906\"/>\n       <use xlink:href=\"#ArialMT-6e\" x=\"272.412109\"/>\n       <use xlink:href=\"#ArialMT-6f\" x=\"328.027344\"/>\n       <use xlink:href=\"#ArialMT-72\" x=\"383.642578\"/>\n       <use xlink:href=\"#ArialMT-6d\" x=\"416.943359\"/>\n      </g>\n     </g>\n    </g>\n    <g id=\"xtick_2\">\n     <g id=\"line2d_2\">\n      <path d=\"M 541.520156 308.3225 \nL 541.520156 21.789375 \n\" clip-path=\"url(#p7c92eb4235)\" style=\"fill: none; stroke: #ffffff; stroke-linecap: round\"/>\n     </g>\n     <g id=\"text_2\">\n      <!-- no batch norm -->\n      <g style=\"fill: #262626\" transform=\"translate(506.363984 325.696094)scale(0.11 -0.11)\">\n       <use xlink:href=\"#ArialMT-6e\"/>\n       <use xlink:href=\"#ArialMT-6f\" x=\"55.615234\"/>\n       <use xlink:href=\"#ArialMT-20\" x=\"111.230469\"/>\n       <use xlink:href=\"#ArialMT-62\" x=\"139.013672\"/>\n       <use xlink:href=\"#ArialMT-61\" x=\"194.628906\"/>\n       <use xlink:href=\"#ArialMT-74\" x=\"250.244141\"/>\n       <use xlink:href=\"#ArialMT-63\" x=\"278.027344\"/>\n       <use xlink:href=\"#ArialMT-68\" x=\"328.027344\"/>\n       <use xlink:href=\"#ArialMT-20\" x=\"383.642578\"/>\n       <use xlink:href=\"#ArialMT-6e\" x=\"411.425781\"/>\n       <use xlink:href=\"#ArialMT-6f\" x=\"467.041016\"/>\n       <use xlink:href=\"#ArialMT-72\" x=\"522.65625\"/>\n       <use xlink:href=\"#ArialMT-6d\" x=\"555.957031\"/>\n      </g>\n     </g>\n    </g>\n    <g id=\"text_3\">\n     <!-- Activation function -->\n     <g style=\"fill: #262626\" transform=\"translate(332.10125 340.471719)scale(0.12 -0.12)\">\n      <defs>\n       <path id=\"ArialMT-41\" d=\"M -9 0 \nL 1750 4581 \nL 2403 4581 \nL 4278 0 \nL 3588 0 \nL 3053 1388 \nL 1138 1388 \nL 634 0 \nL -9 0 \nz\nM 1313 1881 \nL 2866 1881 \nL 2388 3150 \nQ 2169 3728 2063 4100 \nQ 1975 3659 1816 3225 \nL 1313 1881 \nz\n\" transform=\"scale(0.015625)\"/>\n       <path id=\"ArialMT-69\" d=\"M 425 3934 \nL 425 4581 \nL 988 4581 \nL 988 3934 \nL 425 3934 \nz\nM 425 0 \nL 425 3319 \nL 988 3319 \nL 988 0 \nL 425 0 \nz\n\" transform=\"scale(0.015625)\"/>\n       <path id=\"ArialMT-76\" d=\"M 1344 0 \nL 81 3319 \nL 675 3319 \nL 1388 1331 \nQ 1503 1009 1600 663 \nQ 1675 925 1809 1294 \nL 2547 3319 \nL 3125 3319 \nL 1869 0 \nL 1344 0 \nz\n\" transform=\"scale(0.015625)\"/>\n       <path id=\"ArialMT-66\" d=\"M 556 0 \nL 556 2881 \nL 59 2881 \nL 59 3319 \nL 556 3319 \nL 556 3672 \nQ 556 4006 616 4169 \nQ 697 4388 901 4523 \nQ 1106 4659 1475 4659 \nQ 1713 4659 2000 4603 \nL 1916 4113 \nQ 1741 4144 1584 4144 \nQ 1328 4144 1222 4034 \nQ 1116 3925 1116 3625 \nL 1116 3319 \nL 1763 3319 \nL 1763 2881 \nL 1116 2881 \nL 1116 0 \nL 556 0 \nz\n\" transform=\"scale(0.015625)\"/>\n       <path id=\"ArialMT-75\" d=\"M 2597 0 \nL 2597 488 \nQ 2209 -75 1544 -75 \nQ 1250 -75 995 37 \nQ 741 150 617 320 \nQ 494 491 444 738 \nQ 409 903 409 1263 \nL 409 3319 \nL 972 3319 \nL 972 1478 \nQ 972 1038 1006 884 \nQ 1059 663 1231 536 \nQ 1403 409 1656 409 \nQ 1909 409 2131 539 \nQ 2353 669 2445 892 \nQ 2538 1116 2538 1541 \nL 2538 3319 \nL 3100 3319 \nL 3100 0 \nL 2597 0 \nz\n\" transform=\"scale(0.015625)\"/>\n      </defs>\n      <use xlink:href=\"#ArialMT-41\"/>\n      <use xlink:href=\"#ArialMT-63\" x=\"66.699219\"/>\n      <use xlink:href=\"#ArialMT-74\" x=\"116.699219\"/>\n      <use xlink:href=\"#ArialMT-69\" x=\"144.482422\"/>\n      <use xlink:href=\"#ArialMT-76\" x=\"166.699219\"/>\n      <use xlink:href=\"#ArialMT-61\" x=\"216.699219\"/>\n      <use xlink:href=\"#ArialMT-74\" x=\"272.314453\"/>\n      <use xlink:href=\"#ArialMT-69\" x=\"300.097656\"/>\n      <use xlink:href=\"#ArialMT-6f\" x=\"322.314453\"/>\n      <use xlink:href=\"#ArialMT-6e\" x=\"377.929688\"/>\n      <use xlink:href=\"#ArialMT-20\" x=\"433.544922\"/>\n      <use xlink:href=\"#ArialMT-66\" x=\"461.328125\"/>\n      <use xlink:href=\"#ArialMT-75\" x=\"489.111328\"/>\n      <use xlink:href=\"#ArialMT-6e\" x=\"544.726562\"/>\n      <use xlink:href=\"#ArialMT-63\" x=\"600.341797\"/>\n      <use xlink:href=\"#ArialMT-74\" x=\"650.341797\"/>\n      <use xlink:href=\"#ArialMT-69\" x=\"678.125\"/>\n      <use xlink:href=\"#ArialMT-6f\" x=\"700.341797\"/>\n      <use xlink:href=\"#ArialMT-6e\" x=\"755.957031\"/>\n     </g>\n    </g>\n   </g>\n   <g id=\"matplotlib.axis_2\">\n    <g id=\"ytick_1\">\n     <g id=\"line2d_3\">\n      <path d=\"M 59.339063 299.639678 \nL 702.247187 299.639678 \n\" clip-path=\"url(#p7c92eb4235)\" style=\"fill: none; stroke: #ffffff; stroke-linecap: round\"/>\n     </g>\n     <g id=\"text_4\">\n      <!-- 0.935 -->\n      <g style=\"fill: #262626\" transform=\"translate(22.315 303.576475)scale(0.11 -0.11)\">\n       <defs>\n        <path id=\"ArialMT-30\" d=\"M 266 2259 \nQ 266 3072 433 3567 \nQ 600 4063 929 4331 \nQ 1259 4600 1759 4600 \nQ 2128 4600 2406 4451 \nQ 2684 4303 2865 4023 \nQ 3047 3744 3150 3342 \nQ 3253 2941 3253 2259 \nQ 3253 1453 3087 958 \nQ 2922 463 2592 192 \nQ 2263 -78 1759 -78 \nQ 1097 -78 719 397 \nQ 266 969 266 2259 \nz\nM 844 2259 \nQ 844 1131 1108 757 \nQ 1372 384 1759 384 \nQ 2147 384 2411 759 \nQ 2675 1134 2675 2259 \nQ 2675 3391 2411 3762 \nQ 2147 4134 1753 4134 \nQ 1366 4134 1134 3806 \nQ 844 3388 844 2259 \nz\n\" transform=\"scale(0.015625)\"/>\n        <path id=\"ArialMT-2e\" d=\"M 581 0 \nL 581 641 \nL 1222 641 \nL 1222 0 \nL 581 0 \nz\n\" transform=\"scale(0.015625)\"/>\n        <path id=\"ArialMT-39\" d=\"M 350 1059 \nL 891 1109 \nQ 959 728 1153 556 \nQ 1347 384 1650 384 \nQ 1909 384 2104 503 \nQ 2300 622 2425 820 \nQ 2550 1019 2634 1356 \nQ 2719 1694 2719 2044 \nQ 2719 2081 2716 2156 \nQ 2547 1888 2255 1720 \nQ 1963 1553 1622 1553 \nQ 1053 1553 659 1965 \nQ 266 2378 266 3053 \nQ 266 3750 677 4175 \nQ 1088 4600 1706 4600 \nQ 2153 4600 2523 4359 \nQ 2894 4119 3086 3673 \nQ 3278 3228 3278 2384 \nQ 3278 1506 3087 986 \nQ 2897 466 2520 194 \nQ 2144 -78 1638 -78 \nQ 1100 -78 759 220 \nQ 419 519 350 1059 \nz\nM 2653 3081 \nQ 2653 3566 2395 3850 \nQ 2138 4134 1775 4134 \nQ 1400 4134 1122 3828 \nQ 844 3522 844 3034 \nQ 844 2597 1108 2323 \nQ 1372 2050 1759 2050 \nQ 2150 2050 2401 2323 \nQ 2653 2597 2653 3081 \nz\n\" transform=\"scale(0.015625)\"/>\n        <path id=\"ArialMT-33\" d=\"M 269 1209 \nL 831 1284 \nQ 928 806 1161 595 \nQ 1394 384 1728 384 \nQ 2125 384 2398 659 \nQ 2672 934 2672 1341 \nQ 2672 1728 2419 1979 \nQ 2166 2231 1775 2231 \nQ 1616 2231 1378 2169 \nL 1441 2663 \nQ 1497 2656 1531 2656 \nQ 1891 2656 2178 2843 \nQ 2466 3031 2466 3422 \nQ 2466 3731 2256 3934 \nQ 2047 4138 1716 4138 \nQ 1388 4138 1169 3931 \nQ 950 3725 888 3313 \nL 325 3413 \nQ 428 3978 793 4289 \nQ 1159 4600 1703 4600 \nQ 2078 4600 2393 4439 \nQ 2709 4278 2876 4000 \nQ 3044 3722 3044 3409 \nQ 3044 3113 2884 2869 \nQ 2725 2625 2413 2481 \nQ 2819 2388 3044 2092 \nQ 3269 1797 3269 1353 \nQ 3269 753 2831 336 \nQ 2394 -81 1725 -81 \nQ 1122 -81 723 278 \nQ 325 638 269 1209 \nz\n\" transform=\"scale(0.015625)\"/>\n        <path id=\"ArialMT-35\" d=\"M 266 1200 \nL 856 1250 \nQ 922 819 1161 601 \nQ 1400 384 1738 384 \nQ 2144 384 2425 690 \nQ 2706 997 2706 1503 \nQ 2706 1984 2436 2262 \nQ 2166 2541 1728 2541 \nQ 1456 2541 1237 2417 \nQ 1019 2294 894 2097 \nL 366 2166 \nL 809 4519 \nL 3088 4519 \nL 3088 3981 \nL 1259 3981 \nL 1013 2750 \nQ 1425 3038 1878 3038 \nQ 2478 3038 2890 2622 \nQ 3303 2206 3303 1553 \nQ 3303 931 2941 478 \nQ 2500 -78 1738 -78 \nQ 1113 -78 717 272 \nQ 322 622 266 1200 \nz\n\" transform=\"scale(0.015625)\"/>\n       </defs>\n       <use xlink:href=\"#ArialMT-30\"/>\n       <use xlink:href=\"#ArialMT-2e\" x=\"55.615234\"/>\n       <use xlink:href=\"#ArialMT-39\" x=\"83.398438\"/>\n       <use xlink:href=\"#ArialMT-33\" x=\"139.013672\"/>\n       <use xlink:href=\"#ArialMT-35\" x=\"194.628906\"/>\n      </g>\n     </g>\n    </g>\n    <g id=\"ytick_2\">\n     <g id=\"line2d_4\">\n      <path d=\"M 59.339063 260.566979 \nL 702.247187 260.566979 \n\" clip-path=\"url(#p7c92eb4235)\" style=\"fill: none; stroke: #ffffff; stroke-linecap: round\"/>\n     </g>\n     <g id=\"text_5\">\n      <!-- 0.940 -->\n      <g style=\"fill: #262626\" transform=\"translate(22.315 264.503776)scale(0.11 -0.11)\">\n       <defs>\n        <path id=\"ArialMT-34\" d=\"M 2069 0 \nL 2069 1097 \nL 81 1097 \nL 81 1613 \nL 2172 4581 \nL 2631 4581 \nL 2631 1613 \nL 3250 1613 \nL 3250 1097 \nL 2631 1097 \nL 2631 0 \nL 2069 0 \nz\nM 2069 1613 \nL 2069 3678 \nL 634 1613 \nL 2069 1613 \nz\n\" transform=\"scale(0.015625)\"/>\n       </defs>\n       <use xlink:href=\"#ArialMT-30\"/>\n       <use xlink:href=\"#ArialMT-2e\" x=\"55.615234\"/>\n       <use xlink:href=\"#ArialMT-39\" x=\"83.398438\"/>\n       <use xlink:href=\"#ArialMT-34\" x=\"139.013672\"/>\n       <use xlink:href=\"#ArialMT-30\" x=\"194.628906\"/>\n      </g>\n     </g>\n    </g>\n    <g id=\"ytick_3\">\n     <g id=\"line2d_5\">\n      <path d=\"M 59.339063 221.49428 \nL 702.247187 221.49428 \n\" clip-path=\"url(#p7c92eb4235)\" style=\"fill: none; stroke: #ffffff; stroke-linecap: round\"/>\n     </g>\n     <g id=\"text_6\">\n      <!-- 0.945 -->\n      <g style=\"fill: #262626\" transform=\"translate(22.315 225.431077)scale(0.11 -0.11)\">\n       <use xlink:href=\"#ArialMT-30\"/>\n       <use xlink:href=\"#ArialMT-2e\" x=\"55.615234\"/>\n       <use xlink:href=\"#ArialMT-39\" x=\"83.398438\"/>\n       <use xlink:href=\"#ArialMT-34\" x=\"139.013672\"/>\n       <use xlink:href=\"#ArialMT-35\" x=\"194.628906\"/>\n      </g>\n     </g>\n    </g>\n    <g id=\"ytick_4\">\n     <g id=\"line2d_6\">\n      <path d=\"M 59.339063 182.421581 \nL 702.247187 182.421581 \n\" clip-path=\"url(#p7c92eb4235)\" style=\"fill: none; stroke: #ffffff; stroke-linecap: round\"/>\n     </g>\n     <g id=\"text_7\">\n      <!-- 0.950 -->\n      <g style=\"fill: #262626\" transform=\"translate(22.315 186.358378)scale(0.11 -0.11)\">\n       <use xlink:href=\"#ArialMT-30\"/>\n       <use xlink:href=\"#ArialMT-2e\" x=\"55.615234\"/>\n       <use xlink:href=\"#ArialMT-39\" x=\"83.398438\"/>\n       <use xlink:href=\"#ArialMT-35\" x=\"139.013672\"/>\n       <use xlink:href=\"#ArialMT-30\" x=\"194.628906\"/>\n      </g>\n     </g>\n    </g>\n    <g id=\"ytick_5\">\n     <g id=\"line2d_7\">\n      <path d=\"M 59.339063 143.348883 \nL 702.247187 143.348883 \n\" clip-path=\"url(#p7c92eb4235)\" style=\"fill: none; stroke: #ffffff; stroke-linecap: round\"/>\n     </g>\n     <g id=\"text_8\">\n      <!-- 0.955 -->\n      <g style=\"fill: #262626\" transform=\"translate(22.315 147.285679)scale(0.11 -0.11)\">\n       <use xlink:href=\"#ArialMT-30\"/>\n       <use xlink:href=\"#ArialMT-2e\" x=\"55.615234\"/>\n       <use xlink:href=\"#ArialMT-39\" x=\"83.398438\"/>\n       <use xlink:href=\"#ArialMT-35\" x=\"139.013672\"/>\n       <use xlink:href=\"#ArialMT-35\" x=\"194.628906\"/>\n      </g>\n     </g>\n    </g>\n    <g id=\"ytick_6\">\n     <g id=\"line2d_8\">\n      <path d=\"M 59.339063 104.276184 \nL 702.247187 104.276184 \n\" clip-path=\"url(#p7c92eb4235)\" style=\"fill: none; stroke: #ffffff; stroke-linecap: round\"/>\n     </g>\n     <g id=\"text_9\">\n      <!-- 0.960 -->\n      <g style=\"fill: #262626\" transform=\"translate(22.315 108.212981)scale(0.11 -0.11)\">\n       <defs>\n        <path id=\"ArialMT-36\" d=\"M 3184 3459 \nL 2625 3416 \nQ 2550 3747 2413 3897 \nQ 2184 4138 1850 4138 \nQ 1581 4138 1378 3988 \nQ 1113 3794 959 3422 \nQ 806 3050 800 2363 \nQ 1003 2672 1297 2822 \nQ 1591 2972 1913 2972 \nQ 2475 2972 2870 2558 \nQ 3266 2144 3266 1488 \nQ 3266 1056 3080 686 \nQ 2894 316 2569 119 \nQ 2244 -78 1831 -78 \nQ 1128 -78 684 439 \nQ 241 956 241 2144 \nQ 241 3472 731 4075 \nQ 1159 4600 1884 4600 \nQ 2425 4600 2770 4297 \nQ 3116 3994 3184 3459 \nz\nM 888 1484 \nQ 888 1194 1011 928 \nQ 1134 663 1356 523 \nQ 1578 384 1822 384 \nQ 2178 384 2434 671 \nQ 2691 959 2691 1453 \nQ 2691 1928 2437 2201 \nQ 2184 2475 1800 2475 \nQ 1419 2475 1153 2201 \nQ 888 1928 888 1484 \nz\n\" transform=\"scale(0.015625)\"/>\n       </defs>\n       <use xlink:href=\"#ArialMT-30\"/>\n       <use xlink:href=\"#ArialMT-2e\" x=\"55.615234\"/>\n       <use xlink:href=\"#ArialMT-39\" x=\"83.398438\"/>\n       <use xlink:href=\"#ArialMT-36\" x=\"139.013672\"/>\n       <use xlink:href=\"#ArialMT-30\" x=\"194.628906\"/>\n      </g>\n     </g>\n    </g>\n    <g id=\"ytick_7\">\n     <g id=\"line2d_9\">\n      <path d=\"M 59.339063 65.203485 \nL 702.247187 65.203485 \n\" clip-path=\"url(#p7c92eb4235)\" style=\"fill: none; stroke: #ffffff; stroke-linecap: round\"/>\n     </g>\n     <g id=\"text_10\">\n      <!-- 0.965 -->\n      <g style=\"fill: #262626\" transform=\"translate(22.315 69.140282)scale(0.11 -0.11)\">\n       <use xlink:href=\"#ArialMT-30\"/>\n       <use xlink:href=\"#ArialMT-2e\" x=\"55.615234\"/>\n       <use xlink:href=\"#ArialMT-39\" x=\"83.398438\"/>\n       <use xlink:href=\"#ArialMT-36\" x=\"139.013672\"/>\n       <use xlink:href=\"#ArialMT-35\" x=\"194.628906\"/>\n      </g>\n     </g>\n    </g>\n    <g id=\"ytick_8\">\n     <g id=\"line2d_10\">\n      <path d=\"M 59.339063 26.130786 \nL 702.247187 26.130786 \n\" clip-path=\"url(#p7c92eb4235)\" style=\"fill: none; stroke: #ffffff; stroke-linecap: round\"/>\n     </g>\n     <g id=\"text_11\">\n      <!-- 0.970 -->\n      <g style=\"fill: #262626\" transform=\"translate(22.315 30.067583)scale(0.11 -0.11)\">\n       <defs>\n        <path id=\"ArialMT-37\" d=\"M 303 3981 \nL 303 4522 \nL 3269 4522 \nL 3269 4084 \nQ 2831 3619 2401 2847 \nQ 1972 2075 1738 1259 \nQ 1569 684 1522 0 \nL 944 0 \nQ 953 541 1156 1306 \nQ 1359 2072 1739 2783 \nQ 2119 3494 2547 3981 \nL 303 3981 \nz\n\" transform=\"scale(0.015625)\"/>\n       </defs>\n       <use xlink:href=\"#ArialMT-30\"/>\n       <use xlink:href=\"#ArialMT-2e\" x=\"55.615234\"/>\n       <use xlink:href=\"#ArialMT-39\" x=\"83.398438\"/>\n       <use xlink:href=\"#ArialMT-37\" x=\"139.013672\"/>\n       <use xlink:href=\"#ArialMT-30\" x=\"194.628906\"/>\n      </g>\n     </g>\n    </g>\n    <g id=\"text_12\">\n     <!-- Test accuracy -->\n     <g style=\"fill: #262626\" transform=\"translate(15.789375 201.730937)rotate(-90)scale(0.12 -0.12)\">\n      <defs>\n       <path id=\"ArialMT-54\" d=\"M 1659 0 \nL 1659 4041 \nL 150 4041 \nL 150 4581 \nL 3781 4581 \nL 3781 4041 \nL 2266 4041 \nL 2266 0 \nL 1659 0 \nz\n\" transform=\"scale(0.015625)\"/>\n       <path id=\"ArialMT-65\" d=\"M 2694 1069 \nL 3275 997 \nQ 3138 488 2766 206 \nQ 2394 -75 1816 -75 \nQ 1088 -75 661 373 \nQ 234 822 234 1631 \nQ 234 2469 665 2931 \nQ 1097 3394 1784 3394 \nQ 2450 3394 2872 2941 \nQ 3294 2488 3294 1666 \nQ 3294 1616 3291 1516 \nL 816 1516 \nQ 847 969 1125 678 \nQ 1403 388 1819 388 \nQ 2128 388 2347 550 \nQ 2566 713 2694 1069 \nz\nM 847 1978 \nL 2700 1978 \nQ 2663 2397 2488 2606 \nQ 2219 2931 1791 2931 \nQ 1403 2931 1139 2672 \nQ 875 2413 847 1978 \nz\n\" transform=\"scale(0.015625)\"/>\n       <path id=\"ArialMT-73\" d=\"M 197 991 \nL 753 1078 \nQ 800 744 1014 566 \nQ 1228 388 1613 388 \nQ 2000 388 2187 545 \nQ 2375 703 2375 916 \nQ 2375 1106 2209 1216 \nQ 2094 1291 1634 1406 \nQ 1016 1563 777 1677 \nQ 538 1791 414 1992 \nQ 291 2194 291 2438 \nQ 291 2659 392 2848 \nQ 494 3038 669 3163 \nQ 800 3259 1026 3326 \nQ 1253 3394 1513 3394 \nQ 1903 3394 2198 3281 \nQ 2494 3169 2634 2976 \nQ 2775 2784 2828 2463 \nL 2278 2388 \nQ 2241 2644 2061 2787 \nQ 1881 2931 1553 2931 \nQ 1166 2931 1000 2803 \nQ 834 2675 834 2503 \nQ 834 2394 903 2306 \nQ 972 2216 1119 2156 \nQ 1203 2125 1616 2013 \nQ 2213 1853 2448 1751 \nQ 2684 1650 2818 1456 \nQ 2953 1263 2953 975 \nQ 2953 694 2789 445 \nQ 2625 197 2315 61 \nQ 2006 -75 1616 -75 \nQ 969 -75 630 194 \nQ 291 463 197 991 \nz\n\" transform=\"scale(0.015625)\"/>\n       <path id=\"ArialMT-79\" d=\"M 397 -1278 \nL 334 -750 \nQ 519 -800 656 -800 \nQ 844 -800 956 -737 \nQ 1069 -675 1141 -563 \nQ 1194 -478 1313 -144 \nQ 1328 -97 1363 -6 \nL 103 3319 \nL 709 3319 \nL 1400 1397 \nQ 1534 1031 1641 628 \nQ 1738 1016 1872 1384 \nL 2581 3319 \nL 3144 3319 \nL 1881 -56 \nQ 1678 -603 1566 -809 \nQ 1416 -1088 1222 -1217 \nQ 1028 -1347 759 -1347 \nQ 597 -1347 397 -1278 \nz\n\" transform=\"scale(0.015625)\"/>\n      </defs>\n      <use xlink:href=\"#ArialMT-54\"/>\n      <use xlink:href=\"#ArialMT-65\" x=\"49.958984\"/>\n      <use xlink:href=\"#ArialMT-73\" x=\"105.574219\"/>\n      <use xlink:href=\"#ArialMT-74\" x=\"155.574219\"/>\n      <use xlink:href=\"#ArialMT-20\" x=\"183.357422\"/>\n      <use xlink:href=\"#ArialMT-61\" x=\"211.140625\"/>\n      <use xlink:href=\"#ArialMT-63\" x=\"266.755859\"/>\n      <use xlink:href=\"#ArialMT-63\" x=\"316.755859\"/>\n      <use xlink:href=\"#ArialMT-75\" x=\"366.755859\"/>\n      <use xlink:href=\"#ArialMT-72\" x=\"422.371094\"/>\n      <use xlink:href=\"#ArialMT-61\" x=\"455.671875\"/>\n      <use xlink:href=\"#ArialMT-63\" x=\"511.287109\"/>\n      <use xlink:href=\"#ArialMT-79\" x=\"561.287109\"/>\n     </g>\n    </g>\n   </g>\n   <g id=\"line2d_11\">\n    <path d=\"M 195.957039 191.104403 \nL 244.175148 191.104403 \nL 244.175148 69.544896 \nL 195.957039 69.544896 \nL 195.957039 191.104403 \n\" clip-path=\"url(#p7c92eb4235)\" style=\"fill: none; stroke: #000000; stroke-linecap: round\"/>\n   </g>\n   <g id=\"line2d_12\">\n    <path d=\"M 220.066094 191.104403 \nL 220.066094 225.835691 \n\" clip-path=\"url(#p7c92eb4235)\" style=\"fill: none; stroke: #000000; stroke-linecap: round\"/>\n   </g>\n   <g id=\"line2d_13\">\n    <path d=\"M 220.066094 69.544896 \nL 220.066094 34.813608 \n\" clip-path=\"url(#p7c92eb4235)\" style=\"fill: none; stroke: #000000; stroke-linecap: round\"/>\n   </g>\n   <g id=\"line2d_14\">\n    <path d=\"M 208.011566 225.835691 \nL 232.120621 225.835691 \n\" clip-path=\"url(#p7c92eb4235)\" style=\"fill: none; stroke: #000000; stroke-linecap: round\"/>\n   </g>\n   <g id=\"line2d_15\">\n    <path d=\"M 208.011566 34.813608 \nL 232.120621 34.813608 \n\" clip-path=\"url(#p7c92eb4235)\" style=\"fill: none; stroke: #000000; stroke-linecap: round\"/>\n   </g>\n   <g id=\"line2d_16\">\n    <path d=\"M 517.411102 295.298267 \nL 565.629211 295.298267 \nL 565.629211 139.007472 \nL 517.411102 139.007472 \nL 517.411102 295.298267 \n\" clip-path=\"url(#p7c92eb4235)\" style=\"fill: none; stroke: #000000; stroke-linecap: round\"/>\n   </g>\n   <g id=\"line2d_17\">\n    <path d=\"M 541.520156 295.298267 \nL 541.520156 295.298267 \n\" clip-path=\"url(#p7c92eb4235)\" style=\"fill: none; stroke: #000000; stroke-linecap: round\"/>\n   </g>\n   <g id=\"line2d_18\">\n    <path d=\"M 541.520156 139.007472 \nL 541.520156 104.276184 \n\" clip-path=\"url(#p7c92eb4235)\" style=\"fill: none; stroke: #000000; stroke-linecap: round\"/>\n   </g>\n   <g id=\"line2d_19\">\n    <path d=\"M 529.465629 295.298267 \nL 553.574684 295.298267 \n\" clip-path=\"url(#p7c92eb4235)\" style=\"fill: none; stroke: #000000; stroke-linecap: round\"/>\n   </g>\n   <g id=\"line2d_20\">\n    <path d=\"M 529.465629 104.276184 \nL 553.574684 104.276184 \n\" clip-path=\"url(#p7c92eb4235)\" style=\"fill: none; stroke: #000000; stroke-linecap: round\"/>\n   </g>\n   <g id=\"line2d_21\">\n    <path d=\"M 195.957039 86.91054 \nL 244.175148 86.91054 \n\" clip-path=\"url(#p7c92eb4235)\" style=\"fill: none; stroke: #dd8452; stroke-linecap: round\"/>\n   </g>\n   <g id=\"line2d_22\">\n    <path d=\"M 517.411102 173.738759 \nL 565.629211 173.738759 \n\" clip-path=\"url(#p7c92eb4235)\" style=\"fill: none; stroke: #dd8452; stroke-linecap: round\"/>\n   </g>\n   <g id=\"patch_3\">\n    <path d=\"M 59.339063 308.3225 \nL 59.339063 21.789375 \n\" style=\"fill: none; stroke: #ffffff; stroke-width: 1.25; stroke-linejoin: miter; stroke-linecap: square\"/>\n   </g>\n   <g id=\"patch_4\">\n    <path d=\"M 702.247187 308.3225 \nL 702.247187 21.789375 \n\" style=\"fill: none; stroke: #ffffff; stroke-width: 1.25; stroke-linejoin: miter; stroke-linecap: square\"/>\n   </g>\n   <g id=\"patch_5\">\n    <path d=\"M 59.339063 308.3225 \nL 702.247187 308.3225 \n\" style=\"fill: none; stroke: #ffffff; stroke-width: 1.25; stroke-linejoin: miter; stroke-linecap: square\"/>\n   </g>\n   <g id=\"patch_6\">\n    <path d=\"M 59.339063 21.789375 \nL 702.247187 21.789375 \n\" style=\"fill: none; stroke: #ffffff; stroke-width: 1.25; stroke-linejoin: miter; stroke-linecap: square\"/>\n   </g>\n   <g id=\"text_13\">\n    <!-- Test quality in 5 runs -->\n    <g style=\"fill: #262626\" transform=\"translate(326.105 15.789375)scale(0.12 -0.12)\">\n     <defs>\n      <path id=\"ArialMT-71\" d=\"M 2538 -1272 \nL 2538 353 \nQ 2406 169 2170 47 \nQ 1934 -75 1669 -75 \nQ 1078 -75 651 397 \nQ 225 869 225 1691 \nQ 225 2191 398 2587 \nQ 572 2984 901 3189 \nQ 1231 3394 1625 3394 \nQ 2241 3394 2594 2875 \nL 2594 3319 \nL 3100 3319 \nL 3100 -1272 \nL 2538 -1272 \nz\nM 803 1669 \nQ 803 1028 1072 708 \nQ 1341 388 1716 388 \nQ 2075 388 2334 692 \nQ 2594 997 2594 1619 \nQ 2594 2281 2320 2615 \nQ 2047 2950 1678 2950 \nQ 1313 2950 1058 2639 \nQ 803 2328 803 1669 \nz\n\" transform=\"scale(0.015625)\"/>\n      <path id=\"ArialMT-6c\" d=\"M 409 0 \nL 409 4581 \nL 972 4581 \nL 972 0 \nL 409 0 \nz\n\" transform=\"scale(0.015625)\"/>\n     </defs>\n     <use xlink:href=\"#ArialMT-54\"/>\n     <use xlink:href=\"#ArialMT-65\" x=\"49.958984\"/>\n     <use xlink:href=\"#ArialMT-73\" x=\"105.574219\"/>\n     <use xlink:href=\"#ArialMT-74\" x=\"155.574219\"/>\n     <use xlink:href=\"#ArialMT-20\" x=\"183.357422\"/>\n     <use xlink:href=\"#ArialMT-71\" x=\"211.140625\"/>\n     <use xlink:href=\"#ArialMT-75\" x=\"266.755859\"/>\n     <use xlink:href=\"#ArialMT-61\" x=\"322.371094\"/>\n     <use xlink:href=\"#ArialMT-6c\" x=\"377.986328\"/>\n     <use xlink:href=\"#ArialMT-69\" x=\"400.203125\"/>\n     <use xlink:href=\"#ArialMT-74\" x=\"422.419922\"/>\n     <use xlink:href=\"#ArialMT-79\" x=\"450.203125\"/>\n     <use xlink:href=\"#ArialMT-20\" x=\"500.203125\"/>\n     <use xlink:href=\"#ArialMT-69\" x=\"527.986328\"/>\n     <use xlink:href=\"#ArialMT-6e\" x=\"550.203125\"/>\n     <use xlink:href=\"#ArialMT-20\" x=\"605.818359\"/>\n     <use xlink:href=\"#ArialMT-35\" x=\"633.601562\"/>\n     <use xlink:href=\"#ArialMT-20\" x=\"689.216797\"/>\n     <use xlink:href=\"#ArialMT-72\" x=\"717\"/>\n     <use xlink:href=\"#ArialMT-75\" x=\"750.300781\"/>\n     <use xlink:href=\"#ArialMT-6e\" x=\"805.916016\"/>\n     <use xlink:href=\"#ArialMT-73\" x=\"861.53125\"/>\n    </g>\n   </g>\n  </g>\n </g>\n <defs>\n  <clipPath id=\"p7c92eb4235\">\n   <rect x=\"59.339063\" y=\"21.789375\" width=\"642.908125\" height=\"286.533125\"/>\n  </clipPath>\n </defs>\n</svg>\n",
      "text/plain": [
       "<Figure size 720x360 with 1 Axes>"
      ]
     },
     "metadata": {},
     "output_type": "display_data"
    }
   ],
   "source": [
    "\n",
    "fig, ax = plt.subplots(1, 1, figsize=(10, 5))\n",
    "\n",
    "ax.boxplot(accs_test.T, labels=['batch norm', 'no batch norm'], showfliers=False)\n",
    "\n",
    "ax.set_title(\"Test quality in 5 runs\")\n",
    "ax.set_xlabel(\"Activation function\")\n",
    "ax.set_ylabel(\"Test accuracy\")\n",
    "ax.grid(True)\n",
    "\n",
    "fig.tight_layout()\n",
    "plt.show()"
   ]
  },
  {
   "cell_type": "markdown",
   "metadata": {},
   "source": [
    "Видно, что для глубокой сети(5 слоев) лучше работает модель с батч нормализацией после каждого слоя активации. Разброс примерно одниковый."
   ]
  },
  {
   "cell_type": "markdown",
   "metadata": {},
   "source": []
  }
 ],
 "metadata": {
  "kernelspec": {
   "display_name": "Python 3.9.12 ('base')",
   "language": "python",
   "name": "python3"
  },
  "language_info": {
   "codemirror_mode": {
    "name": "ipython",
    "version": 3
   },
   "file_extension": ".py",
   "mimetype": "text/x-python",
   "name": "python",
   "nbconvert_exporter": "python",
   "pygments_lexer": "ipython3",
   "version": "3.9.12"
  },
  "vscode": {
   "interpreter": {
    "hash": "6a95a3159dfda2c08b5d712b28a556d6374f5200b4d9ef1616fa04e7e784ad12"
   }
  }
 },
 "nbformat": 4,
 "nbformat_minor": 2
}
